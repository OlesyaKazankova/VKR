{
 "cells": [
  {
   "cell_type": "markdown",
   "metadata": {},
   "source": [
    "### Подключение библиотек"
   ]
  },
  {
   "cell_type": "code",
   "execution_count": 119,
   "metadata": {},
   "outputs": [],
   "source": [
    "# импортируем все необходимые библиотеки\n",
    "import pandas as pd\n",
    "import numpy as np\n",
    "%matplotlib inline\n",
    "import seaborn as sns\n",
    "import matplotlib.pyplot as plt\n",
    "import matplotlib.gridspec as gridspec\n",
    "import operator\n",
    "from sklearn.preprocessing import LabelEncoder\n",
    "import math\n",
    "import warnings\n",
    "warnings.filterwarnings('ignore')\n",
    "import collections\n",
    "from sklearn.metrics import *\n",
    "from sklearn.preprocessing import StandardScaler\n",
    "from sklearn.model_selection import GridSearchCV\n",
    "from sklearn import preprocessing\n",
    "from sklearn.tree import DecisionTreeClassifier, export_graphviz\n",
    "from sklearn.cross_validation import StratifiedKFold\n",
    "from sklearn.cross_validation import cross_val_score\n",
    "from sklearn.ensemble import RandomForestClassifier\n",
    "from sklearn.ensemble import GradientBoostingClassifier\n",
    "from sklearn.metrics import accuracy_score\n",
    "pd.options.display.max_columns = 400\n",
    "import statsmodels.api as sm\n",
    "import sklearn as sk\n",
    "import scipy as sp\n",
    "from sklearn.model_selection import train_test_split\n",
    "from sklearn.linear_model import Ridge, Lasso\n",
    "from sklearn.linear_model import RidgeClassifier,LogisticRegression\n",
    "from sklearn.cross_validation import KFold\n",
    "import xgboost as xgb\n",
    "from sklearn.linear_model import LinearRegression\n",
    "import sklearn\n",
    "from sklearn.metrics import mean_absolute_error as mae\n",
    "from sklearn.metrics import r2_score\n",
    "from sklearn.svm import LinearSVC\n",
    "from sklearn.svm import SVC\n",
    "from sklearn.metrics import r2_score\n",
    "from sklearn.metrics import accuracy_score"
   ]
  },
  {
   "cell_type": "markdown",
   "metadata": {},
   "source": [
    "### Загрузка данных"
   ]
  },
  {
   "cell_type": "code",
   "execution_count": 2,
   "metadata": {
    "scrolled": true
   },
   "outputs": [],
   "source": [
    "# загружаем данные, указываем разделитель\n",
    "# аграрно-промышленная отрасль\n",
    "df1 = pd.read_csv('data/2015_2.csv', sep=',')"
   ]
  },
  {
   "cell_type": "code",
   "execution_count": 3,
   "metadata": {},
   "outputs": [
    {
     "data": {
      "text/html": [
       "<div>\n",
       "<style scoped>\n",
       "    .dataframe tbody tr th:only-of-type {\n",
       "        vertical-align: middle;\n",
       "    }\n",
       "\n",
       "    .dataframe tbody tr th {\n",
       "        vertical-align: top;\n",
       "    }\n",
       "\n",
       "    .dataframe thead th {\n",
       "        text-align: right;\n",
       "    }\n",
       "</style>\n",
       "<table border=\"1\" class=\"dataframe\">\n",
       "  <thead>\n",
       "    <tr style=\"text-align: right;\">\n",
       "      <th></th>\n",
       "      <th>Наименование</th>\n",
       "      <th>ОКПО</th>\n",
       "      <th>ОКОПФ</th>\n",
       "      <th>ОКФС</th>\n",
       "      <th>ОКВЭД</th>\n",
       "      <th>ИНН</th>\n",
       "      <th>Код единицы измерения</th>\n",
       "      <th>Тип отчета</th>\n",
       "      <th>1110</th>\n",
       "      <th>1120</th>\n",
       "      <th>1130</th>\n",
       "      <th>1140</th>\n",
       "      <th>1150</th>\n",
       "      <th>1160</th>\n",
       "      <th>1170</th>\n",
       "      <th>1180</th>\n",
       "      <th>1190</th>\n",
       "      <th>1100</th>\n",
       "      <th>1210</th>\n",
       "      <th>1220</th>\n",
       "      <th>1230</th>\n",
       "      <th>1240</th>\n",
       "      <th>1250</th>\n",
       "      <th>1260</th>\n",
       "      <th>1200</th>\n",
       "      <th>1600</th>\n",
       "      <th>1310</th>\n",
       "      <th>1320</th>\n",
       "      <th>1340</th>\n",
       "      <th>1350</th>\n",
       "      <th>1360</th>\n",
       "      <th>1370</th>\n",
       "      <th>1300</th>\n",
       "      <th>1410</th>\n",
       "      <th>1420</th>\n",
       "      <th>1430</th>\n",
       "      <th>1450</th>\n",
       "      <th>1400</th>\n",
       "      <th>1510</th>\n",
       "      <th>1520</th>\n",
       "      <th>1530</th>\n",
       "      <th>1540</th>\n",
       "      <th>1550</th>\n",
       "      <th>1500</th>\n",
       "      <th>1700</th>\n",
       "      <th>2110</th>\n",
       "      <th>2120</th>\n",
       "      <th>2100</th>\n",
       "      <th>2210</th>\n",
       "      <th>2220</th>\n",
       "      <th>2200</th>\n",
       "      <th>2310</th>\n",
       "      <th>2320</th>\n",
       "      <th>2330</th>\n",
       "      <th>2340</th>\n",
       "      <th>2350</th>\n",
       "      <th>2300</th>\n",
       "      <th>2410</th>\n",
       "      <th>2421</th>\n",
       "      <th>2430</th>\n",
       "      <th>2450</th>\n",
       "      <th>2460</th>\n",
       "      <th>2400</th>\n",
       "      <th>2510</th>\n",
       "      <th>2520</th>\n",
       "      <th>2500</th>\n",
       "      <th>3200</th>\n",
       "      <th>3310</th>\n",
       "      <th>3314</th>\n",
       "      <th>3315</th>\n",
       "      <th>3316</th>\n",
       "      <th>3320</th>\n",
       "      <th>3324</th>\n",
       "      <th>3325</th>\n",
       "      <th>3326</th>\n",
       "      <th>3300</th>\n",
       "      <th>3600</th>\n",
       "      <th>Дата актуализации</th>\n",
       "      <th>Ликвидировано</th>\n",
       "    </tr>\n",
       "  </thead>\n",
       "  <tbody>\n",
       "    <tr>\n",
       "      <th>0</th>\n",
       "      <td>Общество с ограниченной ответственностью \"Де В...</td>\n",
       "      <td>72903073</td>\n",
       "      <td>12300</td>\n",
       "      <td>16</td>\n",
       "      <td>03.1</td>\n",
       "      <td>6658183636</td>\n",
       "      <td>384</td>\n",
       "      <td>1</td>\n",
       "      <td>0</td>\n",
       "      <td>0</td>\n",
       "      <td>0</td>\n",
       "      <td>0</td>\n",
       "      <td>0</td>\n",
       "      <td>0</td>\n",
       "      <td>0</td>\n",
       "      <td>0</td>\n",
       "      <td>0</td>\n",
       "      <td>0</td>\n",
       "      <td>0</td>\n",
       "      <td>0</td>\n",
       "      <td>1</td>\n",
       "      <td>0</td>\n",
       "      <td>0</td>\n",
       "      <td>0</td>\n",
       "      <td>0</td>\n",
       "      <td>1</td>\n",
       "      <td>0</td>\n",
       "      <td>0</td>\n",
       "      <td>0</td>\n",
       "      <td>0</td>\n",
       "      <td>0</td>\n",
       "      <td>0</td>\n",
       "      <td>-1515</td>\n",
       "      <td>1495</td>\n",
       "      <td>0</td>\n",
       "      <td>0</td>\n",
       "      <td>0</td>\n",
       "      <td>0</td>\n",
       "      <td>21</td>\n",
       "      <td>0</td>\n",
       "      <td>0</td>\n",
       "      <td>0</td>\n",
       "      <td>0</td>\n",
       "      <td>0</td>\n",
       "      <td>1</td>\n",
       "      <td>0</td>\n",
       "      <td>0</td>\n",
       "      <td>0</td>\n",
       "      <td>0</td>\n",
       "      <td>0</td>\n",
       "      <td>0</td>\n",
       "      <td>0</td>\n",
       "      <td>0</td>\n",
       "      <td>4</td>\n",
       "      <td>0</td>\n",
       "      <td>19</td>\n",
       "      <td>0</td>\n",
       "      <td>0</td>\n",
       "      <td>0</td>\n",
       "      <td>0</td>\n",
       "      <td>0</td>\n",
       "      <td>0</td>\n",
       "      <td>-23</td>\n",
       "      <td>0</td>\n",
       "      <td>0</td>\n",
       "      <td>0</td>\n",
       "      <td>0</td>\n",
       "      <td>0</td>\n",
       "      <td>0</td>\n",
       "      <td>0</td>\n",
       "      <td>0</td>\n",
       "      <td>0</td>\n",
       "      <td>0</td>\n",
       "      <td>0</td>\n",
       "      <td>0</td>\n",
       "      <td>0</td>\n",
       "      <td>0</td>\n",
       "      <td>20170705</td>\n",
       "      <td>0</td>\n",
       "    </tr>\n",
       "    <tr>\n",
       "      <th>1</th>\n",
       "      <td>ОБЩЕСТВО С ОГРАНИЧЕННОЙ ОТВЕТСТВЕННОСТЬЮ \"ЗЕЛЁ...</td>\n",
       "      <td>85447582</td>\n",
       "      <td>12300</td>\n",
       "      <td>16</td>\n",
       "      <td>01.30</td>\n",
       "      <td>6674244773</td>\n",
       "      <td>384</td>\n",
       "      <td>1</td>\n",
       "      <td>0</td>\n",
       "      <td>0</td>\n",
       "      <td>0</td>\n",
       "      <td>0</td>\n",
       "      <td>0</td>\n",
       "      <td>0</td>\n",
       "      <td>0</td>\n",
       "      <td>0</td>\n",
       "      <td>0</td>\n",
       "      <td>0</td>\n",
       "      <td>0</td>\n",
       "      <td>0</td>\n",
       "      <td>0</td>\n",
       "      <td>0</td>\n",
       "      <td>10</td>\n",
       "      <td>0</td>\n",
       "      <td>0</td>\n",
       "      <td>10</td>\n",
       "      <td>0</td>\n",
       "      <td>0</td>\n",
       "      <td>0</td>\n",
       "      <td>0</td>\n",
       "      <td>0</td>\n",
       "      <td>0</td>\n",
       "      <td>10</td>\n",
       "      <td>0</td>\n",
       "      <td>0</td>\n",
       "      <td>0</td>\n",
       "      <td>0</td>\n",
       "      <td>0</td>\n",
       "      <td>0</td>\n",
       "      <td>0</td>\n",
       "      <td>0</td>\n",
       "      <td>0</td>\n",
       "      <td>0</td>\n",
       "      <td>0</td>\n",
       "      <td>10</td>\n",
       "      <td>0</td>\n",
       "      <td>0</td>\n",
       "      <td>0</td>\n",
       "      <td>0</td>\n",
       "      <td>0</td>\n",
       "      <td>0</td>\n",
       "      <td>0</td>\n",
       "      <td>0</td>\n",
       "      <td>0</td>\n",
       "      <td>0</td>\n",
       "      <td>0</td>\n",
       "      <td>0</td>\n",
       "      <td>0</td>\n",
       "      <td>0</td>\n",
       "      <td>0</td>\n",
       "      <td>0</td>\n",
       "      <td>0</td>\n",
       "      <td>0</td>\n",
       "      <td>0</td>\n",
       "      <td>0</td>\n",
       "      <td>0</td>\n",
       "      <td>0</td>\n",
       "      <td>0</td>\n",
       "      <td>0</td>\n",
       "      <td>0</td>\n",
       "      <td>0</td>\n",
       "      <td>0</td>\n",
       "      <td>0</td>\n",
       "      <td>0</td>\n",
       "      <td>0</td>\n",
       "      <td>0</td>\n",
       "      <td>0</td>\n",
       "      <td>20170629</td>\n",
       "      <td>0</td>\n",
       "    </tr>\n",
       "  </tbody>\n",
       "</table>\n",
       "</div>"
      ],
      "text/plain": [
       "                                        Наименование      ОКПО  ОКОПФ  ОКФС  \\\n",
       "0  Общество с ограниченной ответственностью \"Де В...  72903073  12300    16   \n",
       "1  ОБЩЕСТВО С ОГРАНИЧЕННОЙ ОТВЕТСТВЕННОСТЬЮ \"ЗЕЛЁ...  85447582  12300    16   \n",
       "\n",
       "   ОКВЭД         ИНН  Код единицы измерения  Тип отчета  1110  1120  1130  \\\n",
       "0   03.1  6658183636                    384           1     0     0     0   \n",
       "1  01.30  6674244773                    384           1     0     0     0   \n",
       "\n",
       "   1140  1150  1160  1170  1180  1190  1100  1210  1220  1230  1240  1250  \\\n",
       "0     0     0     0     0     0     0     0     0     0     1     0     0   \n",
       "1     0     0     0     0     0     0     0     0     0     0     0    10   \n",
       "\n",
       "   1260  1200  1600  1310  1320  1340  1350  1360  1370  1300  1410  1420  \\\n",
       "0     0     0     1     0     0     0     0     0     0 -1515  1495     0   \n",
       "1     0     0    10     0     0     0     0     0     0    10     0     0   \n",
       "\n",
       "   1430  1450  1400  1510  1520  1530  1540  1550  1500  1700  2110  2120  \\\n",
       "0     0     0     0    21     0     0     0     0     0     1     0     0   \n",
       "1     0     0     0     0     0     0     0     0     0    10     0     0   \n",
       "\n",
       "   2100  2210  2220  2200  2310  2320  2330  2340  2350  2300  2410  2421  \\\n",
       "0     0     0     0     0     0     0     4     0    19     0     0     0   \n",
       "1     0     0     0     0     0     0     0     0     0     0     0     0   \n",
       "\n",
       "   2430  2450  2460  2400  2510  2520  2500  3200  3310  3314  3315  3316  \\\n",
       "0     0     0     0   -23     0     0     0     0     0     0     0     0   \n",
       "1     0     0     0     0     0     0     0     0     0     0     0     0   \n",
       "\n",
       "   3320  3324  3325  3326  3300  3600  Дата актуализации  Ликвидировано  \n",
       "0     0     0     0     0     0     0           20170705              0  \n",
       "1     0     0     0     0     0     0           20170629              0  "
      ]
     },
     "execution_count": 3,
     "metadata": {},
     "output_type": "execute_result"
    }
   ],
   "source": [
    "df1.head(2)"
   ]
  },
  {
   "cell_type": "code",
   "execution_count": 4,
   "metadata": {},
   "outputs": [
    {
     "data": {
      "text/plain": [
       "(1091, 79)"
      ]
     },
     "execution_count": 4,
     "metadata": {},
     "output_type": "execute_result"
    }
   ],
   "source": [
    "# отображаем размер выборки (проверка, что все столбцы и строки загрузились)\n",
    "df1.shape"
   ]
  },
  {
   "cell_type": "code",
   "execution_count": 5,
   "metadata": {
    "scrolled": true
   },
   "outputs": [
    {
     "name": "stdout",
     "output_type": "stream",
     "text": [
      "<class 'pandas.core.frame.DataFrame'>\n",
      "RangeIndex: 1091 entries, 0 to 1090\n",
      "Data columns (total 79 columns):\n",
      "Наименование             1091 non-null object\n",
      "ОКПО                     1091 non-null int64\n",
      "ОКОПФ                    1091 non-null int64\n",
      "ОКФС                     1091 non-null int64\n",
      "ОКВЭД                    1091 non-null object\n",
      "ИНН                      1091 non-null int64\n",
      "Код единицы измерения    1091 non-null int64\n",
      "Тип отчета               1091 non-null int64\n",
      "1110                     1091 non-null int64\n",
      "1120                     1091 non-null int64\n",
      "1130                     1091 non-null int64\n",
      "1140                     1091 non-null int64\n",
      "1150                     1091 non-null int64\n",
      "1160                     1091 non-null int64\n",
      "1170                     1091 non-null int64\n",
      "1180                     1091 non-null int64\n",
      "1190                     1091 non-null int64\n",
      "1100                     1091 non-null int64\n",
      "1210                     1091 non-null int64\n",
      "1220                     1091 non-null int64\n",
      "1230                     1091 non-null int64\n",
      "1240                     1091 non-null int64\n",
      "1250                     1091 non-null int64\n",
      "1260                     1091 non-null int64\n",
      "1200                     1091 non-null int64\n",
      "1600                     1091 non-null int64\n",
      "1310                     1091 non-null int64\n",
      "1320                     1091 non-null int64\n",
      "1340                     1091 non-null int64\n",
      "1350                     1091 non-null int64\n",
      "1360                     1091 non-null int64\n",
      "1370                     1091 non-null int64\n",
      "1300                     1091 non-null int64\n",
      "1410                     1091 non-null int64\n",
      "1420                     1091 non-null int64\n",
      "1430                     1091 non-null int64\n",
      "1450                     1091 non-null int64\n",
      "1400                     1091 non-null int64\n",
      "1510                     1091 non-null int64\n",
      "1520                     1091 non-null int64\n",
      "1530                     1091 non-null int64\n",
      "1540                     1091 non-null int64\n",
      "1550                     1091 non-null int64\n",
      "1500                     1091 non-null int64\n",
      "1700                     1091 non-null int64\n",
      "2110                     1091 non-null int64\n",
      "2120                     1091 non-null int64\n",
      "2100                     1091 non-null int64\n",
      "2210                     1091 non-null int64\n",
      "2220                     1091 non-null int64\n",
      "2200                     1091 non-null int64\n",
      "2310                     1091 non-null int64\n",
      "2320                     1091 non-null int64\n",
      "2330                     1091 non-null int64\n",
      "2340                     1091 non-null int64\n",
      "2350                     1091 non-null int64\n",
      "2300                     1091 non-null int64\n",
      "2410                     1091 non-null int64\n",
      "2421                     1091 non-null int64\n",
      "2430                     1091 non-null int64\n",
      "2450                     1091 non-null int64\n",
      "2460                     1091 non-null int64\n",
      "2400                     1091 non-null int64\n",
      "2510                     1091 non-null int64\n",
      "2520                     1091 non-null int64\n",
      "2500                     1091 non-null int64\n",
      "3200                     1091 non-null int64\n",
      "3310                     1091 non-null int64\n",
      "3314                     1091 non-null int64\n",
      "3315                     1091 non-null int64\n",
      "3316                     1091 non-null int64\n",
      "3320                     1091 non-null int64\n",
      "3324                     1091 non-null int64\n",
      "3325                     1091 non-null int64\n",
      "3326                     1091 non-null int64\n",
      "3300                     1091 non-null int64\n",
      "3600                     1091 non-null int64\n",
      "Дата актуализации        1091 non-null int64\n",
      "Ликвидировано            1091 non-null int64\n",
      "dtypes: int64(77), object(2)\n",
      "memory usage: 673.4+ KB\n"
     ]
    }
   ],
   "source": [
    "# отображаем общую информацию о данных и проверяем типы данных\n",
    "df1.info()"
   ]
  },
  {
   "cell_type": "code",
   "execution_count": 6,
   "metadata": {},
   "outputs": [],
   "source": [
    "# df1['Дата актуализации'] = pd.to_datetime(df1['Дата актуализации'], format='%Y.%m.%d')"
   ]
  },
  {
   "cell_type": "code",
   "execution_count": 7,
   "metadata": {},
   "outputs": [],
   "source": [
    "# df1['Дата актуализации'].head()"
   ]
  },
  {
   "cell_type": "code",
   "execution_count": 8,
   "metadata": {},
   "outputs": [
    {
     "data": {
      "text/plain": [
       "ОБЩЕСТВО С ОГРАНИЧЕННОЙ ОТВЕТСТВЕННОСТЬЮ \"НИВА\"          4\n",
       "ОБЩЕСТВО С ОГРАНИЧЕННОЙ ОТВЕТСТВЕННОСТЬЮ \"СПЕКТР\"        3\n",
       "ОБЩЕСТВО С ОГРАНИЧЕННОЙ ОТВЕТСТВЕННОСТЬЮ \"ФОРЕСТ\"        3\n",
       "ОБЩЕСТВО С ОГРАНИЧЕННОЙ ОТВЕТСТВЕННОСТЬЮ \"ЭВЕРЕСТ\"       3\n",
       "ОБЩЕСТВО С ОГРАНИЧЕННОЙ ОТВЕТСТВЕННОСТЬЮ \"УРАЛЛЕС\"       2\n",
       "ОБЩЕСТВО С ОГРАНИЧЕННОЙ ОТВЕТСТВЕННОСТЬЮ \"ЛЕСНОЕ\"        2\n",
       "Общество с ограниченной ответственностью \"ЛесТорг\"       2\n",
       "ОБЩЕСТВО С ОГРАНИЧЕННОЙ ОТВЕТСТВЕННОСТЬЮ \"УРАЛСИБЛЕС\"    2\n",
       "ОБЩЕСТВО С ОГРАНИЧЕННОЙ ОТВЕТСТВЕННОСТЬЮ \"ПРОГРЕСС\"      2\n",
       "ОБЩЕСТВО С ОГРАНИЧЕННОЙ ОТВЕТСТВЕННОСТЬЮ \"ЛЕСХОЗ\"        2\n",
       "ОБЩЕСТВО С ОГРАНИЧЕННОЙ ОТВЕТСТВЕННОСТЬЮ \"РОДИНА\"        2\n",
       "ОБЩЕСТВО С ОГРАНИЧЕННОЙ ОТВЕТСТВЕННОСТЬЮ \"ЛЕС\"           2\n",
       "ОБЩЕСТВО С ОГРАНИЧЕННОЙ ОТВЕТСТВЕННОСТЬЮ \"ЭКОПРОДУКТ\"    2\n",
       "Общество с ограниченной ответственностью \"Велес\"         2\n",
       "ОБЩЕСТВО С ОГРАНИЧЕННОЙ ОТВЕТСТВЕННОСТЬЮ \"ТАЙГА\"         2\n",
       "ОБЩЕСТВО С ОГРАНИЧЕННОЙ ОТВЕТСТВЕННОСТЬЮ \"ЛИДЕР\"         2\n",
       "Общество с ограниченной ответственностью \"Форест\"        2\n",
       "Общество с ограниченной ответственностью \"Рассвет\"       2\n",
       "ОБЩЕСТВО С ОГРАНИЧЕННОЙ ОТВЕТСТВЕННОСТЬЮ \"ТУРА-ЛЕС\"      2\n",
       "Общество с ограниченной ответственностью \"Леском\"        2\n",
       "Общество с ограниченной ответственностью \"Крона\"         2\n",
       "Общество с ограниченной ответственностью \"Лидер\"         2\n",
       "Общество с ограниченной ответственностью \"Дубрава\"       2\n",
       "ОБЩЕСТВО С ОГРАНИЧЕННОЙ ОТВЕТСТВЕННОСТЬЮ \"АЛМАЗ\"         2\n",
       "ОБЩЕСТВО С ОГРАНИЧЕННОЙ ОТВЕТСТВЕННОСТЬЮ \"ИСТОК\"         2\n",
       "ОБЩЕСТВО С ОГРАНИЧЕННОЙ ОТВЕТСТВЕННОСТЬЮ \"УСПЕХ\"         2\n",
       "Name: Наименование, dtype: int64"
      ]
     },
     "execution_count": 8,
     "metadata": {},
     "output_type": "execute_result"
    }
   ],
   "source": [
    "df1['Наименование'].value_counts()[0:26]"
   ]
  },
  {
   "cell_type": "markdown",
   "metadata": {},
   "source": [
    "### Проверяем на наличие NaN"
   ]
  },
  {
   "cell_type": "code",
   "execution_count": 9,
   "metadata": {},
   "outputs": [],
   "source": [
    "for col in df1.columns:\n",
    "    nan_numbers = df1[pd.isnull(df1[col])].shape[0]\n",
    "    if nan_numbers > 0:\n",
    "        print(col, nan_numbers)"
   ]
  },
  {
   "cell_type": "markdown",
   "metadata": {},
   "source": [
    "### Смотрим на соотношение классов в выборке"
   ]
  },
  {
   "cell_type": "code",
   "execution_count": 10,
   "metadata": {
    "scrolled": false
   },
   "outputs": [
    {
     "data": {
      "text/plain": [
       "0    0.989001\n",
       "1    0.010999\n",
       "Name: Ликвидировано, dtype: float64"
      ]
     },
     "execution_count": 10,
     "metadata": {},
     "output_type": "execute_result"
    }
   ],
   "source": [
    "df1['Ликвидировано'].value_counts(normalize=True)"
   ]
  },
  {
   "cell_type": "markdown",
   "metadata": {},
   "source": [
    "### Статистика по выборке"
   ]
  },
  {
   "cell_type": "code",
   "execution_count": 11,
   "metadata": {},
   "outputs": [
    {
     "data": {
      "text/html": [
       "<div>\n",
       "<style scoped>\n",
       "    .dataframe tbody tr th:only-of-type {\n",
       "        vertical-align: middle;\n",
       "    }\n",
       "\n",
       "    .dataframe tbody tr th {\n",
       "        vertical-align: top;\n",
       "    }\n",
       "\n",
       "    .dataframe thead th {\n",
       "        text-align: right;\n",
       "    }\n",
       "</style>\n",
       "<table border=\"1\" class=\"dataframe\">\n",
       "  <thead>\n",
       "    <tr style=\"text-align: right;\">\n",
       "      <th></th>\n",
       "      <th>ОКПО</th>\n",
       "      <th>ОКОПФ</th>\n",
       "      <th>ОКФС</th>\n",
       "      <th>ИНН</th>\n",
       "      <th>Код единицы измерения</th>\n",
       "      <th>Тип отчета</th>\n",
       "      <th>1110</th>\n",
       "      <th>1120</th>\n",
       "      <th>1130</th>\n",
       "      <th>1140</th>\n",
       "      <th>1150</th>\n",
       "      <th>1160</th>\n",
       "      <th>1170</th>\n",
       "      <th>1180</th>\n",
       "      <th>1190</th>\n",
       "      <th>1100</th>\n",
       "      <th>1210</th>\n",
       "      <th>1220</th>\n",
       "      <th>1230</th>\n",
       "      <th>1240</th>\n",
       "      <th>1250</th>\n",
       "      <th>1260</th>\n",
       "      <th>1200</th>\n",
       "      <th>1600</th>\n",
       "      <th>1310</th>\n",
       "      <th>1320</th>\n",
       "      <th>1340</th>\n",
       "      <th>1350</th>\n",
       "      <th>1360</th>\n",
       "      <th>1370</th>\n",
       "      <th>1300</th>\n",
       "      <th>1410</th>\n",
       "      <th>1420</th>\n",
       "      <th>1430</th>\n",
       "      <th>1450</th>\n",
       "      <th>1400</th>\n",
       "      <th>1510</th>\n",
       "      <th>1520</th>\n",
       "      <th>1530</th>\n",
       "      <th>1540</th>\n",
       "      <th>1550</th>\n",
       "      <th>1500</th>\n",
       "      <th>1700</th>\n",
       "      <th>2110</th>\n",
       "      <th>2120</th>\n",
       "      <th>2100</th>\n",
       "      <th>2210</th>\n",
       "      <th>2220</th>\n",
       "      <th>2200</th>\n",
       "      <th>2310</th>\n",
       "      <th>2320</th>\n",
       "      <th>2330</th>\n",
       "      <th>2340</th>\n",
       "      <th>2350</th>\n",
       "      <th>2300</th>\n",
       "      <th>2410</th>\n",
       "      <th>2421</th>\n",
       "      <th>2430</th>\n",
       "      <th>2450</th>\n",
       "      <th>2460</th>\n",
       "      <th>2400</th>\n",
       "      <th>2510</th>\n",
       "      <th>2520</th>\n",
       "      <th>2500</th>\n",
       "      <th>3200</th>\n",
       "      <th>3310</th>\n",
       "      <th>3314</th>\n",
       "      <th>3315</th>\n",
       "      <th>3316</th>\n",
       "      <th>3320</th>\n",
       "      <th>3324</th>\n",
       "      <th>3325</th>\n",
       "      <th>3326</th>\n",
       "      <th>3300</th>\n",
       "      <th>3600</th>\n",
       "      <th>Дата актуализации</th>\n",
       "      <th>Ликвидировано</th>\n",
       "    </tr>\n",
       "  </thead>\n",
       "  <tbody>\n",
       "    <tr>\n",
       "      <th>count</th>\n",
       "      <td>1.091000e+03</td>\n",
       "      <td>1091.000000</td>\n",
       "      <td>1091.000000</td>\n",
       "      <td>1.091000e+03</td>\n",
       "      <td>1091.000000</td>\n",
       "      <td>1091.000000</td>\n",
       "      <td>1091.000000</td>\n",
       "      <td>1091.0</td>\n",
       "      <td>1091.000000</td>\n",
       "      <td>1091.0</td>\n",
       "      <td>1.091000e+03</td>\n",
       "      <td>1091.000000</td>\n",
       "      <td>1091.000000</td>\n",
       "      <td>1091.000000</td>\n",
       "      <td>1091.000000</td>\n",
       "      <td>1.091000e+03</td>\n",
       "      <td>1.091000e+03</td>\n",
       "      <td>1091.000000</td>\n",
       "      <td>1.091000e+03</td>\n",
       "      <td>1091.000000</td>\n",
       "      <td>1091.000000</td>\n",
       "      <td>1091.000000</td>\n",
       "      <td>1.091000e+03</td>\n",
       "      <td>1.091000e+03</td>\n",
       "      <td>1.091000e+03</td>\n",
       "      <td>1091.000000</td>\n",
       "      <td>1091.000000</td>\n",
       "      <td>1.091000e+03</td>\n",
       "      <td>1091.000000</td>\n",
       "      <td>1.091000e+03</td>\n",
       "      <td>1.091000e+03</td>\n",
       "      <td>1.091000e+03</td>\n",
       "      <td>1091.000000</td>\n",
       "      <td>1091.0</td>\n",
       "      <td>1091.000000</td>\n",
       "      <td>1.091000e+03</td>\n",
       "      <td>1.091000e+03</td>\n",
       "      <td>1091.000000</td>\n",
       "      <td>1091.000000</td>\n",
       "      <td>1091.000000</td>\n",
       "      <td>1091.00000</td>\n",
       "      <td>1.091000e+03</td>\n",
       "      <td>1.091000e+03</td>\n",
       "      <td>1.091000e+03</td>\n",
       "      <td>1.091000e+03</td>\n",
       "      <td>1.091000e+03</td>\n",
       "      <td>1091.000000</td>\n",
       "      <td>1091.000000</td>\n",
       "      <td>1.091000e+03</td>\n",
       "      <td>1091.000000</td>\n",
       "      <td>1091.000000</td>\n",
       "      <td>1091.000000</td>\n",
       "      <td>1091.000000</td>\n",
       "      <td>1091.000000</td>\n",
       "      <td>1.091000e+03</td>\n",
       "      <td>1091.000000</td>\n",
       "      <td>1091.000000</td>\n",
       "      <td>1091.000000</td>\n",
       "      <td>1091.000000</td>\n",
       "      <td>1091.000000</td>\n",
       "      <td>1.091000e+03</td>\n",
       "      <td>1091.000000</td>\n",
       "      <td>1091.000000</td>\n",
       "      <td>1.091000e+03</td>\n",
       "      <td>1091.000000</td>\n",
       "      <td>1091.000000</td>\n",
       "      <td>1091.0</td>\n",
       "      <td>1091.000000</td>\n",
       "      <td>1091.0</td>\n",
       "      <td>1091.000000</td>\n",
       "      <td>1091.0</td>\n",
       "      <td>1091.000000</td>\n",
       "      <td>1091.0</td>\n",
       "      <td>1091.000000</td>\n",
       "      <td>1.091000e+03</td>\n",
       "      <td>1.091000e+03</td>\n",
       "      <td>1091.000000</td>\n",
       "    </tr>\n",
       "    <tr>\n",
       "      <th>mean</th>\n",
       "      <td>4.736803e+07</td>\n",
       "      <td>7352.505958</td>\n",
       "      <td>16.350137</td>\n",
       "      <td>6.649733e+09</td>\n",
       "      <td>383.951421</td>\n",
       "      <td>1.558203</td>\n",
       "      <td>12.890926</td>\n",
       "      <td>0.0</td>\n",
       "      <td>0.978002</td>\n",
       "      <td>0.0</td>\n",
       "      <td>3.053572e+04</td>\n",
       "      <td>0.581118</td>\n",
       "      <td>1924.392301</td>\n",
       "      <td>29.078827</td>\n",
       "      <td>1975.351054</td>\n",
       "      <td>3.308649e+04</td>\n",
       "      <td>1.429500e+04</td>\n",
       "      <td>35.524290</td>\n",
       "      <td>8.613846e+03</td>\n",
       "      <td>1265.138405</td>\n",
       "      <td>663.307974</td>\n",
       "      <td>140.588451</td>\n",
       "      <td>2.293544e+04</td>\n",
       "      <td>5.949249e+04</td>\n",
       "      <td>9.223115e+03</td>\n",
       "      <td>-1.846013</td>\n",
       "      <td>1984.645280</td>\n",
       "      <td>2.676196e+03</td>\n",
       "      <td>638.821265</td>\n",
       "      <td>1.535557e+04</td>\n",
       "      <td>3.100003e+04</td>\n",
       "      <td>9.387904e+03</td>\n",
       "      <td>4.568286</td>\n",
       "      <td>0.0</td>\n",
       "      <td>888.520623</td>\n",
       "      <td>9.601010e+03</td>\n",
       "      <td>7.218368e+03</td>\n",
       "      <td>8612.945921</td>\n",
       "      <td>2090.804766</td>\n",
       "      <td>104.879010</td>\n",
       "      <td>166.07791</td>\n",
       "      <td>1.652681e+04</td>\n",
       "      <td>5.937596e+04</td>\n",
       "      <td>3.890155e+04</td>\n",
       "      <td>3.306281e+04</td>\n",
       "      <td>5.565249e+03</td>\n",
       "      <td>1577.620532</td>\n",
       "      <td>578.716774</td>\n",
       "      <td>3.422578e+03</td>\n",
       "      <td>6.438130</td>\n",
       "      <td>77.565536</td>\n",
       "      <td>1497.263061</td>\n",
       "      <td>4590.492209</td>\n",
       "      <td>2509.055912</td>\n",
       "      <td>4.088672e+03</td>\n",
       "      <td>72.543538</td>\n",
       "      <td>-7.385885</td>\n",
       "      <td>1.263061</td>\n",
       "      <td>36.516957</td>\n",
       "      <td>56.681943</td>\n",
       "      <td>4.258021e+03</td>\n",
       "      <td>438.782768</td>\n",
       "      <td>-0.396884</td>\n",
       "      <td>4.463764e+03</td>\n",
       "      <td>-1.836847</td>\n",
       "      <td>1.836847</td>\n",
       "      <td>0.0</td>\n",
       "      <td>1.836847</td>\n",
       "      <td>0.0</td>\n",
       "      <td>13.957837</td>\n",
       "      <td>0.0</td>\n",
       "      <td>13.957837</td>\n",
       "      <td>0.0</td>\n",
       "      <td>-13.957837</td>\n",
       "      <td>3.221946e+04</td>\n",
       "      <td>2.017042e+07</td>\n",
       "      <td>0.010999</td>\n",
       "    </tr>\n",
       "    <tr>\n",
       "      <th>std</th>\n",
       "      <td>3.072893e+07</td>\n",
       "      <td>6080.620300</td>\n",
       "      <td>3.124077</td>\n",
       "      <td>2.599710e+07</td>\n",
       "      <td>0.219309</td>\n",
       "      <td>0.498672</td>\n",
       "      <td>231.017736</td>\n",
       "      <td>0.0</td>\n",
       "      <td>31.912171</td>\n",
       "      <td>0.0</td>\n",
       "      <td>2.104599e+05</td>\n",
       "      <td>19.194503</td>\n",
       "      <td>28344.339388</td>\n",
       "      <td>383.685727</td>\n",
       "      <td>14791.654840</td>\n",
       "      <td>2.351681e+05</td>\n",
       "      <td>6.218322e+04</td>\n",
       "      <td>297.664096</td>\n",
       "      <td>1.072135e+05</td>\n",
       "      <td>14748.690903</td>\n",
       "      <td>4147.139962</td>\n",
       "      <td>1150.498794</td>\n",
       "      <td>1.573244e+05</td>\n",
       "      <td>3.814311e+05</td>\n",
       "      <td>9.544663e+04</td>\n",
       "      <td>60.672063</td>\n",
       "      <td>19170.213961</td>\n",
       "      <td>5.451235e+04</td>\n",
       "      <td>7170.189115</td>\n",
       "      <td>1.717208e+05</td>\n",
       "      <td>2.001867e+05</td>\n",
       "      <td>9.198093e+04</td>\n",
       "      <td>80.977127</td>\n",
       "      <td>0.0</td>\n",
       "      <td>13880.825865</td>\n",
       "      <td>9.290037e+04</td>\n",
       "      <td>6.749590e+04</td>\n",
       "      <td>43316.662852</td>\n",
       "      <td>17817.242949</td>\n",
       "      <td>1096.750399</td>\n",
       "      <td>1840.54866</td>\n",
       "      <td>1.114512e+05</td>\n",
       "      <td>3.814343e+05</td>\n",
       "      <td>2.583235e+05</td>\n",
       "      <td>2.116676e+05</td>\n",
       "      <td>6.168982e+04</td>\n",
       "      <td>14460.174608</td>\n",
       "      <td>3985.867230</td>\n",
       "      <td>5.720568e+04</td>\n",
       "      <td>122.135151</td>\n",
       "      <td>1072.728156</td>\n",
       "      <td>15470.038387</td>\n",
       "      <td>26582.097931</td>\n",
       "      <td>18974.114476</td>\n",
       "      <td>5.785251e+04</td>\n",
       "      <td>620.622652</td>\n",
       "      <td>179.044104</td>\n",
       "      <td>43.573301</td>\n",
       "      <td>792.547220</td>\n",
       "      <td>314.580727</td>\n",
       "      <td>5.785670e+04</td>\n",
       "      <td>15414.978859</td>\n",
       "      <td>11.692433</td>\n",
       "      <td>6.079905e+04</td>\n",
       "      <td>60.671585</td>\n",
       "      <td>60.671585</td>\n",
       "      <td>0.0</td>\n",
       "      <td>60.671585</td>\n",
       "      <td>0.0</td>\n",
       "      <td>461.031387</td>\n",
       "      <td>0.0</td>\n",
       "      <td>461.031387</td>\n",
       "      <td>0.0</td>\n",
       "      <td>461.031387</td>\n",
       "      <td>2.301497e+05</td>\n",
       "      <td>1.347219e+02</td>\n",
       "      <td>0.104346</td>\n",
       "    </tr>\n",
       "    <tr>\n",
       "      <th>min</th>\n",
       "      <td>5.141100e+04</td>\n",
       "      <td>47.000000</td>\n",
       "      <td>10.000000</td>\n",
       "      <td>6.601005e+09</td>\n",
       "      <td>383.000000</td>\n",
       "      <td>0.000000</td>\n",
       "      <td>0.000000</td>\n",
       "      <td>0.0</td>\n",
       "      <td>0.000000</td>\n",
       "      <td>0.0</td>\n",
       "      <td>0.000000e+00</td>\n",
       "      <td>0.000000</td>\n",
       "      <td>0.000000</td>\n",
       "      <td>0.000000</td>\n",
       "      <td>0.000000</td>\n",
       "      <td>0.000000e+00</td>\n",
       "      <td>0.000000e+00</td>\n",
       "      <td>0.000000</td>\n",
       "      <td>-5.000000e+00</td>\n",
       "      <td>0.000000</td>\n",
       "      <td>0.000000</td>\n",
       "      <td>0.000000</td>\n",
       "      <td>0.000000e+00</td>\n",
       "      <td>-5.000000e+00</td>\n",
       "      <td>0.000000e+00</td>\n",
       "      <td>-2004.000000</td>\n",
       "      <td>-4572.000000</td>\n",
       "      <td>0.000000e+00</td>\n",
       "      <td>0.000000</td>\n",
       "      <td>-1.489462e+06</td>\n",
       "      <td>-8.656700e+04</td>\n",
       "      <td>-2.100000e+03</td>\n",
       "      <td>0.000000</td>\n",
       "      <td>0.0</td>\n",
       "      <td>-7682.000000</td>\n",
       "      <td>0.000000e+00</td>\n",
       "      <td>-1.440000e+03</td>\n",
       "      <td>0.000000</td>\n",
       "      <td>0.000000</td>\n",
       "      <td>0.000000</td>\n",
       "      <td>0.00000</td>\n",
       "      <td>0.000000e+00</td>\n",
       "      <td>-4.100000e+01</td>\n",
       "      <td>0.000000e+00</td>\n",
       "      <td>0.000000e+00</td>\n",
       "      <td>-9.645000e+04</td>\n",
       "      <td>0.000000</td>\n",
       "      <td>-50.000000</td>\n",
       "      <td>-1.325570e+05</td>\n",
       "      <td>0.000000</td>\n",
       "      <td>0.000000</td>\n",
       "      <td>0.000000</td>\n",
       "      <td>0.000000</td>\n",
       "      <td>0.000000</td>\n",
       "      <td>-4.849120e+05</td>\n",
       "      <td>0.000000</td>\n",
       "      <td>-5502.000000</td>\n",
       "      <td>-556.000000</td>\n",
       "      <td>-261.000000</td>\n",
       "      <td>-543.000000</td>\n",
       "      <td>-4.849120e+05</td>\n",
       "      <td>-43200.000000</td>\n",
       "      <td>-383.000000</td>\n",
       "      <td>-4.849120e+05</td>\n",
       "      <td>-2004.000000</td>\n",
       "      <td>0.000000</td>\n",
       "      <td>0.0</td>\n",
       "      <td>0.000000</td>\n",
       "      <td>0.0</td>\n",
       "      <td>0.000000</td>\n",
       "      <td>0.0</td>\n",
       "      <td>0.000000</td>\n",
       "      <td>0.0</td>\n",
       "      <td>-15228.000000</td>\n",
       "      <td>-5.756400e+04</td>\n",
       "      <td>2.017012e+07</td>\n",
       "      <td>0.000000</td>\n",
       "    </tr>\n",
       "    <tr>\n",
       "      <th>25%</th>\n",
       "      <td>1.875512e+07</td>\n",
       "      <td>65.000000</td>\n",
       "      <td>16.000000</td>\n",
       "      <td>6.625056e+09</td>\n",
       "      <td>384.000000</td>\n",
       "      <td>1.000000</td>\n",
       "      <td>0.000000</td>\n",
       "      <td>0.0</td>\n",
       "      <td>0.000000</td>\n",
       "      <td>0.0</td>\n",
       "      <td>0.000000e+00</td>\n",
       "      <td>0.000000</td>\n",
       "      <td>0.000000</td>\n",
       "      <td>0.000000</td>\n",
       "      <td>0.000000</td>\n",
       "      <td>0.000000e+00</td>\n",
       "      <td>0.000000e+00</td>\n",
       "      <td>0.000000</td>\n",
       "      <td>0.000000e+00</td>\n",
       "      <td>0.000000</td>\n",
       "      <td>0.000000</td>\n",
       "      <td>0.000000</td>\n",
       "      <td>0.000000e+00</td>\n",
       "      <td>1.000000e+01</td>\n",
       "      <td>0.000000e+00</td>\n",
       "      <td>0.000000</td>\n",
       "      <td>0.000000</td>\n",
       "      <td>0.000000e+00</td>\n",
       "      <td>0.000000</td>\n",
       "      <td>0.000000e+00</td>\n",
       "      <td>0.000000e+00</td>\n",
       "      <td>0.000000e+00</td>\n",
       "      <td>0.000000</td>\n",
       "      <td>0.0</td>\n",
       "      <td>0.000000</td>\n",
       "      <td>0.000000e+00</td>\n",
       "      <td>0.000000e+00</td>\n",
       "      <td>0.000000</td>\n",
       "      <td>0.000000</td>\n",
       "      <td>0.000000</td>\n",
       "      <td>0.00000</td>\n",
       "      <td>0.000000e+00</td>\n",
       "      <td>1.000000e+01</td>\n",
       "      <td>0.000000e+00</td>\n",
       "      <td>0.000000e+00</td>\n",
       "      <td>0.000000e+00</td>\n",
       "      <td>0.000000</td>\n",
       "      <td>0.000000</td>\n",
       "      <td>0.000000e+00</td>\n",
       "      <td>0.000000</td>\n",
       "      <td>0.000000</td>\n",
       "      <td>0.000000</td>\n",
       "      <td>0.000000</td>\n",
       "      <td>0.000000</td>\n",
       "      <td>0.000000e+00</td>\n",
       "      <td>0.000000</td>\n",
       "      <td>0.000000</td>\n",
       "      <td>0.000000</td>\n",
       "      <td>0.000000</td>\n",
       "      <td>0.000000</td>\n",
       "      <td>0.000000e+00</td>\n",
       "      <td>0.000000</td>\n",
       "      <td>0.000000</td>\n",
       "      <td>0.000000e+00</td>\n",
       "      <td>0.000000</td>\n",
       "      <td>0.000000</td>\n",
       "      <td>0.0</td>\n",
       "      <td>0.000000</td>\n",
       "      <td>0.0</td>\n",
       "      <td>0.000000</td>\n",
       "      <td>0.0</td>\n",
       "      <td>0.000000</td>\n",
       "      <td>0.0</td>\n",
       "      <td>0.000000</td>\n",
       "      <td>0.000000e+00</td>\n",
       "      <td>2.017033e+07</td>\n",
       "      <td>0.000000</td>\n",
       "    </tr>\n",
       "    <tr>\n",
       "      <th>50%</th>\n",
       "      <td>4.665800e+07</td>\n",
       "      <td>12165.000000</td>\n",
       "      <td>16.000000</td>\n",
       "      <td>6.654012e+09</td>\n",
       "      <td>384.000000</td>\n",
       "      <td>2.000000</td>\n",
       "      <td>0.000000</td>\n",
       "      <td>0.0</td>\n",
       "      <td>0.000000</td>\n",
       "      <td>0.0</td>\n",
       "      <td>0.000000e+00</td>\n",
       "      <td>0.000000</td>\n",
       "      <td>0.000000</td>\n",
       "      <td>0.000000</td>\n",
       "      <td>0.000000</td>\n",
       "      <td>0.000000e+00</td>\n",
       "      <td>0.000000e+00</td>\n",
       "      <td>0.000000</td>\n",
       "      <td>2.500000e+01</td>\n",
       "      <td>0.000000</td>\n",
       "      <td>2.000000</td>\n",
       "      <td>0.000000</td>\n",
       "      <td>0.000000e+00</td>\n",
       "      <td>6.000000e+02</td>\n",
       "      <td>0.000000e+00</td>\n",
       "      <td>0.000000</td>\n",
       "      <td>0.000000</td>\n",
       "      <td>0.000000e+00</td>\n",
       "      <td>0.000000</td>\n",
       "      <td>0.000000e+00</td>\n",
       "      <td>1.100000e+01</td>\n",
       "      <td>0.000000e+00</td>\n",
       "      <td>0.000000</td>\n",
       "      <td>0.0</td>\n",
       "      <td>0.000000</td>\n",
       "      <td>0.000000e+00</td>\n",
       "      <td>0.000000e+00</td>\n",
       "      <td>40.000000</td>\n",
       "      <td>0.000000</td>\n",
       "      <td>0.000000</td>\n",
       "      <td>0.00000</td>\n",
       "      <td>0.000000e+00</td>\n",
       "      <td>5.960000e+02</td>\n",
       "      <td>2.000000e+02</td>\n",
       "      <td>9.800000e+01</td>\n",
       "      <td>0.000000e+00</td>\n",
       "      <td>0.000000</td>\n",
       "      <td>0.000000</td>\n",
       "      <td>0.000000e+00</td>\n",
       "      <td>0.000000</td>\n",
       "      <td>0.000000</td>\n",
       "      <td>0.000000</td>\n",
       "      <td>0.000000</td>\n",
       "      <td>1.000000</td>\n",
       "      <td>0.000000e+00</td>\n",
       "      <td>0.000000</td>\n",
       "      <td>0.000000</td>\n",
       "      <td>0.000000</td>\n",
       "      <td>0.000000</td>\n",
       "      <td>0.000000</td>\n",
       "      <td>0.000000e+00</td>\n",
       "      <td>0.000000</td>\n",
       "      <td>0.000000</td>\n",
       "      <td>0.000000e+00</td>\n",
       "      <td>0.000000</td>\n",
       "      <td>0.000000</td>\n",
       "      <td>0.0</td>\n",
       "      <td>0.000000</td>\n",
       "      <td>0.0</td>\n",
       "      <td>0.000000</td>\n",
       "      <td>0.0</td>\n",
       "      <td>0.000000</td>\n",
       "      <td>0.0</td>\n",
       "      <td>0.000000</td>\n",
       "      <td>0.000000e+00</td>\n",
       "      <td>2.017040e+07</td>\n",
       "      <td>0.000000</td>\n",
       "    </tr>\n",
       "    <tr>\n",
       "      <th>75%</th>\n",
       "      <td>7.502701e+07</td>\n",
       "      <td>12300.000000</td>\n",
       "      <td>16.000000</td>\n",
       "      <td>6.672354e+09</td>\n",
       "      <td>384.000000</td>\n",
       "      <td>2.000000</td>\n",
       "      <td>0.000000</td>\n",
       "      <td>0.0</td>\n",
       "      <td>0.000000</td>\n",
       "      <td>0.0</td>\n",
       "      <td>1.970500e+03</td>\n",
       "      <td>0.000000</td>\n",
       "      <td>0.000000</td>\n",
       "      <td>0.000000</td>\n",
       "      <td>0.000000</td>\n",
       "      <td>5.845000e+02</td>\n",
       "      <td>1.742000e+03</td>\n",
       "      <td>0.000000</td>\n",
       "      <td>1.890000e+03</td>\n",
       "      <td>0.000000</td>\n",
       "      <td>89.000000</td>\n",
       "      <td>0.000000</td>\n",
       "      <td>2.347500e+03</td>\n",
       "      <td>1.254500e+04</td>\n",
       "      <td>1.000000e+01</td>\n",
       "      <td>0.000000</td>\n",
       "      <td>0.000000</td>\n",
       "      <td>0.000000e+00</td>\n",
       "      <td>0.000000</td>\n",
       "      <td>9.850000e+01</td>\n",
       "      <td>3.087500e+03</td>\n",
       "      <td>0.000000e+00</td>\n",
       "      <td>0.000000</td>\n",
       "      <td>0.0</td>\n",
       "      <td>0.000000</td>\n",
       "      <td>0.000000e+00</td>\n",
       "      <td>1.525000e+02</td>\n",
       "      <td>2237.500000</td>\n",
       "      <td>0.000000</td>\n",
       "      <td>0.000000</td>\n",
       "      <td>0.00000</td>\n",
       "      <td>1.208000e+03</td>\n",
       "      <td>1.234150e+04</td>\n",
       "      <td>7.972000e+03</td>\n",
       "      <td>7.167500e+03</td>\n",
       "      <td>1.050000e+02</td>\n",
       "      <td>0.000000</td>\n",
       "      <td>0.000000</td>\n",
       "      <td>3.000000e+00</td>\n",
       "      <td>0.000000</td>\n",
       "      <td>0.000000</td>\n",
       "      <td>0.000000</td>\n",
       "      <td>80.000000</td>\n",
       "      <td>134.000000</td>\n",
       "      <td>3.700000e+01</td>\n",
       "      <td>0.000000</td>\n",
       "      <td>0.000000</td>\n",
       "      <td>0.000000</td>\n",
       "      <td>0.000000</td>\n",
       "      <td>0.000000</td>\n",
       "      <td>3.305000e+02</td>\n",
       "      <td>0.000000</td>\n",
       "      <td>0.000000</td>\n",
       "      <td>1.750000e+01</td>\n",
       "      <td>0.000000</td>\n",
       "      <td>0.000000</td>\n",
       "      <td>0.0</td>\n",
       "      <td>0.000000</td>\n",
       "      <td>0.0</td>\n",
       "      <td>0.000000</td>\n",
       "      <td>0.0</td>\n",
       "      <td>0.000000</td>\n",
       "      <td>0.0</td>\n",
       "      <td>0.000000</td>\n",
       "      <td>0.000000e+00</td>\n",
       "      <td>2.017051e+07</td>\n",
       "      <td>0.000000</td>\n",
       "    </tr>\n",
       "    <tr>\n",
       "      <th>max</th>\n",
       "      <td>9.995334e+07</td>\n",
       "      <td>19000.000000</td>\n",
       "      <td>49.000000</td>\n",
       "      <td>6.686088e+09</td>\n",
       "      <td>385.000000</td>\n",
       "      <td>2.000000</td>\n",
       "      <td>6388.000000</td>\n",
       "      <td>0.0</td>\n",
       "      <td>1054.000000</td>\n",
       "      <td>0.0</td>\n",
       "      <td>4.965454e+06</td>\n",
       "      <td>634.000000</td>\n",
       "      <td>681531.000000</td>\n",
       "      <td>9131.000000</td>\n",
       "      <td>249082.000000</td>\n",
       "      <td>5.692766e+06</td>\n",
       "      <td>1.037351e+06</td>\n",
       "      <td>5405.000000</td>\n",
       "      <td>3.471006e+06</td>\n",
       "      <td>405009.000000</td>\n",
       "      <td>100811.000000</td>\n",
       "      <td>21083.000000</td>\n",
       "      <td>4.578320e+06</td>\n",
       "      <td>1.027109e+07</td>\n",
       "      <td>2.076923e+06</td>\n",
       "      <td>0.000000</td>\n",
       "      <td>398333.000000</td>\n",
       "      <td>1.779037e+06</td>\n",
       "      <td>155476.000000</td>\n",
       "      <td>4.997791e+06</td>\n",
       "      <td>4.997801e+06</td>\n",
       "      <td>2.617599e+06</td>\n",
       "      <td>1860.000000</td>\n",
       "      <td>0.0</td>\n",
       "      <td>434361.000000</td>\n",
       "      <td>2.617599e+06</td>\n",
       "      <td>1.583044e+06</td>\n",
       "      <td>752634.000000</td>\n",
       "      <td>460690.000000</td>\n",
       "      <td>24994.000000</td>\n",
       "      <td>30620.00000</td>\n",
       "      <td>2.655686e+06</td>\n",
       "      <td>1.027109e+07</td>\n",
       "      <td>5.999108e+06</td>\n",
       "      <td>5.451630e+06</td>\n",
       "      <td>1.795300e+06</td>\n",
       "      <td>373616.000000</td>\n",
       "      <td>60684.000000</td>\n",
       "      <td>1.788856e+06</td>\n",
       "      <td>3480.000000</td>\n",
       "      <td>31628.000000</td>\n",
       "      <td>441953.000000</td>\n",
       "      <td>732060.000000</td>\n",
       "      <td>441274.000000</td>\n",
       "      <td>1.723342e+06</td>\n",
       "      <td>13186.000000</td>\n",
       "      <td>62.000000</td>\n",
       "      <td>1092.000000</td>\n",
       "      <td>25363.000000</td>\n",
       "      <td>3718.000000</td>\n",
       "      <td>1.723983e+06</td>\n",
       "      <td>506637.000000</td>\n",
       "      <td>0.000000</td>\n",
       "      <td>1.723983e+06</td>\n",
       "      <td>0.000000</td>\n",
       "      <td>2004.000000</td>\n",
       "      <td>0.0</td>\n",
       "      <td>2004.000000</td>\n",
       "      <td>0.0</td>\n",
       "      <td>15228.000000</td>\n",
       "      <td>0.0</td>\n",
       "      <td>15228.000000</td>\n",
       "      <td>0.0</td>\n",
       "      <td>0.000000</td>\n",
       "      <td>5.458491e+06</td>\n",
       "      <td>2.017122e+07</td>\n",
       "      <td>1.000000</td>\n",
       "    </tr>\n",
       "  </tbody>\n",
       "</table>\n",
       "</div>"
      ],
      "text/plain": [
       "               ОКПО         ОКОПФ         ОКФС           ИНН  \\\n",
       "count  1.091000e+03   1091.000000  1091.000000  1.091000e+03   \n",
       "mean   4.736803e+07   7352.505958    16.350137  6.649733e+09   \n",
       "std    3.072893e+07   6080.620300     3.124077  2.599710e+07   \n",
       "min    5.141100e+04     47.000000    10.000000  6.601005e+09   \n",
       "25%    1.875512e+07     65.000000    16.000000  6.625056e+09   \n",
       "50%    4.665800e+07  12165.000000    16.000000  6.654012e+09   \n",
       "75%    7.502701e+07  12300.000000    16.000000  6.672354e+09   \n",
       "max    9.995334e+07  19000.000000    49.000000  6.686088e+09   \n",
       "\n",
       "       Код единицы измерения   Тип отчета         1110    1120         1130  \\\n",
       "count            1091.000000  1091.000000  1091.000000  1091.0  1091.000000   \n",
       "mean              383.951421     1.558203    12.890926     0.0     0.978002   \n",
       "std                 0.219309     0.498672   231.017736     0.0    31.912171   \n",
       "min               383.000000     0.000000     0.000000     0.0     0.000000   \n",
       "25%               384.000000     1.000000     0.000000     0.0     0.000000   \n",
       "50%               384.000000     2.000000     0.000000     0.0     0.000000   \n",
       "75%               384.000000     2.000000     0.000000     0.0     0.000000   \n",
       "max               385.000000     2.000000  6388.000000     0.0  1054.000000   \n",
       "\n",
       "         1140          1150         1160           1170         1180  \\\n",
       "count  1091.0  1.091000e+03  1091.000000    1091.000000  1091.000000   \n",
       "mean      0.0  3.053572e+04     0.581118    1924.392301    29.078827   \n",
       "std       0.0  2.104599e+05    19.194503   28344.339388   383.685727   \n",
       "min       0.0  0.000000e+00     0.000000       0.000000     0.000000   \n",
       "25%       0.0  0.000000e+00     0.000000       0.000000     0.000000   \n",
       "50%       0.0  0.000000e+00     0.000000       0.000000     0.000000   \n",
       "75%       0.0  1.970500e+03     0.000000       0.000000     0.000000   \n",
       "max       0.0  4.965454e+06   634.000000  681531.000000  9131.000000   \n",
       "\n",
       "                1190          1100          1210         1220          1230  \\\n",
       "count    1091.000000  1.091000e+03  1.091000e+03  1091.000000  1.091000e+03   \n",
       "mean     1975.351054  3.308649e+04  1.429500e+04    35.524290  8.613846e+03   \n",
       "std     14791.654840  2.351681e+05  6.218322e+04   297.664096  1.072135e+05   \n",
       "min         0.000000  0.000000e+00  0.000000e+00     0.000000 -5.000000e+00   \n",
       "25%         0.000000  0.000000e+00  0.000000e+00     0.000000  0.000000e+00   \n",
       "50%         0.000000  0.000000e+00  0.000000e+00     0.000000  2.500000e+01   \n",
       "75%         0.000000  5.845000e+02  1.742000e+03     0.000000  1.890000e+03   \n",
       "max    249082.000000  5.692766e+06  1.037351e+06  5405.000000  3.471006e+06   \n",
       "\n",
       "                1240           1250          1260          1200          1600  \\\n",
       "count    1091.000000    1091.000000   1091.000000  1.091000e+03  1.091000e+03   \n",
       "mean     1265.138405     663.307974    140.588451  2.293544e+04  5.949249e+04   \n",
       "std     14748.690903    4147.139962   1150.498794  1.573244e+05  3.814311e+05   \n",
       "min         0.000000       0.000000      0.000000  0.000000e+00 -5.000000e+00   \n",
       "25%         0.000000       0.000000      0.000000  0.000000e+00  1.000000e+01   \n",
       "50%         0.000000       2.000000      0.000000  0.000000e+00  6.000000e+02   \n",
       "75%         0.000000      89.000000      0.000000  2.347500e+03  1.254500e+04   \n",
       "max    405009.000000  100811.000000  21083.000000  4.578320e+06  1.027109e+07   \n",
       "\n",
       "               1310         1320           1340          1350           1360  \\\n",
       "count  1.091000e+03  1091.000000    1091.000000  1.091000e+03    1091.000000   \n",
       "mean   9.223115e+03    -1.846013    1984.645280  2.676196e+03     638.821265   \n",
       "std    9.544663e+04    60.672063   19170.213961  5.451235e+04    7170.189115   \n",
       "min    0.000000e+00 -2004.000000   -4572.000000  0.000000e+00       0.000000   \n",
       "25%    0.000000e+00     0.000000       0.000000  0.000000e+00       0.000000   \n",
       "50%    0.000000e+00     0.000000       0.000000  0.000000e+00       0.000000   \n",
       "75%    1.000000e+01     0.000000       0.000000  0.000000e+00       0.000000   \n",
       "max    2.076923e+06     0.000000  398333.000000  1.779037e+06  155476.000000   \n",
       "\n",
       "               1370          1300          1410         1420    1430  \\\n",
       "count  1.091000e+03  1.091000e+03  1.091000e+03  1091.000000  1091.0   \n",
       "mean   1.535557e+04  3.100003e+04  9.387904e+03     4.568286     0.0   \n",
       "std    1.717208e+05  2.001867e+05  9.198093e+04    80.977127     0.0   \n",
       "min   -1.489462e+06 -8.656700e+04 -2.100000e+03     0.000000     0.0   \n",
       "25%    0.000000e+00  0.000000e+00  0.000000e+00     0.000000     0.0   \n",
       "50%    0.000000e+00  1.100000e+01  0.000000e+00     0.000000     0.0   \n",
       "75%    9.850000e+01  3.087500e+03  0.000000e+00     0.000000     0.0   \n",
       "max    4.997791e+06  4.997801e+06  2.617599e+06  1860.000000     0.0   \n",
       "\n",
       "                1450          1400          1510           1520  \\\n",
       "count    1091.000000  1.091000e+03  1.091000e+03    1091.000000   \n",
       "mean      888.520623  9.601010e+03  7.218368e+03    8612.945921   \n",
       "std     13880.825865  9.290037e+04  6.749590e+04   43316.662852   \n",
       "min     -7682.000000  0.000000e+00 -1.440000e+03       0.000000   \n",
       "25%         0.000000  0.000000e+00  0.000000e+00       0.000000   \n",
       "50%         0.000000  0.000000e+00  0.000000e+00      40.000000   \n",
       "75%         0.000000  0.000000e+00  1.525000e+02    2237.500000   \n",
       "max    434361.000000  2.617599e+06  1.583044e+06  752634.000000   \n",
       "\n",
       "                1530          1540         1550          1500          1700  \\\n",
       "count    1091.000000   1091.000000   1091.00000  1.091000e+03  1.091000e+03   \n",
       "mean     2090.804766    104.879010    166.07791  1.652681e+04  5.937596e+04   \n",
       "std     17817.242949   1096.750399   1840.54866  1.114512e+05  3.814343e+05   \n",
       "min         0.000000      0.000000      0.00000  0.000000e+00 -4.100000e+01   \n",
       "25%         0.000000      0.000000      0.00000  0.000000e+00  1.000000e+01   \n",
       "50%         0.000000      0.000000      0.00000  0.000000e+00  5.960000e+02   \n",
       "75%         0.000000      0.000000      0.00000  1.208000e+03  1.234150e+04   \n",
       "max    460690.000000  24994.000000  30620.00000  2.655686e+06  1.027109e+07   \n",
       "\n",
       "               2110          2120          2100           2210          2220  \\\n",
       "count  1.091000e+03  1.091000e+03  1.091000e+03    1091.000000   1091.000000   \n",
       "mean   3.890155e+04  3.306281e+04  5.565249e+03    1577.620532    578.716774   \n",
       "std    2.583235e+05  2.116676e+05  6.168982e+04   14460.174608   3985.867230   \n",
       "min    0.000000e+00  0.000000e+00 -9.645000e+04       0.000000    -50.000000   \n",
       "25%    0.000000e+00  0.000000e+00  0.000000e+00       0.000000      0.000000   \n",
       "50%    2.000000e+02  9.800000e+01  0.000000e+00       0.000000      0.000000   \n",
       "75%    7.972000e+03  7.167500e+03  1.050000e+02       0.000000      0.000000   \n",
       "max    5.999108e+06  5.451630e+06  1.795300e+06  373616.000000  60684.000000   \n",
       "\n",
       "               2200         2310          2320           2330           2340  \\\n",
       "count  1.091000e+03  1091.000000   1091.000000    1091.000000    1091.000000   \n",
       "mean   3.422578e+03     6.438130     77.565536    1497.263061    4590.492209   \n",
       "std    5.720568e+04   122.135151   1072.728156   15470.038387   26582.097931   \n",
       "min   -1.325570e+05     0.000000      0.000000       0.000000       0.000000   \n",
       "25%    0.000000e+00     0.000000      0.000000       0.000000       0.000000   \n",
       "50%    0.000000e+00     0.000000      0.000000       0.000000       0.000000   \n",
       "75%    3.000000e+00     0.000000      0.000000       0.000000      80.000000   \n",
       "max    1.788856e+06  3480.000000  31628.000000  441953.000000  732060.000000   \n",
       "\n",
       "                2350          2300          2410         2421         2430  \\\n",
       "count    1091.000000  1.091000e+03   1091.000000  1091.000000  1091.000000   \n",
       "mean     2509.055912  4.088672e+03     72.543538    -7.385885     1.263061   \n",
       "std     18974.114476  5.785251e+04    620.622652   179.044104    43.573301   \n",
       "min         0.000000 -4.849120e+05      0.000000 -5502.000000  -556.000000   \n",
       "25%         0.000000  0.000000e+00      0.000000     0.000000     0.000000   \n",
       "50%         1.000000  0.000000e+00      0.000000     0.000000     0.000000   \n",
       "75%       134.000000  3.700000e+01      0.000000     0.000000     0.000000   \n",
       "max    441274.000000  1.723342e+06  13186.000000    62.000000  1092.000000   \n",
       "\n",
       "               2450         2460          2400           2510         2520  \\\n",
       "count   1091.000000  1091.000000  1.091000e+03    1091.000000  1091.000000   \n",
       "mean      36.516957    56.681943  4.258021e+03     438.782768    -0.396884   \n",
       "std      792.547220   314.580727  5.785670e+04   15414.978859    11.692433   \n",
       "min     -261.000000  -543.000000 -4.849120e+05  -43200.000000  -383.000000   \n",
       "25%        0.000000     0.000000  0.000000e+00       0.000000     0.000000   \n",
       "50%        0.000000     0.000000  0.000000e+00       0.000000     0.000000   \n",
       "75%        0.000000     0.000000  3.305000e+02       0.000000     0.000000   \n",
       "max    25363.000000  3718.000000  1.723983e+06  506637.000000     0.000000   \n",
       "\n",
       "               2500         3200         3310    3314         3315    3316  \\\n",
       "count  1.091000e+03  1091.000000  1091.000000  1091.0  1091.000000  1091.0   \n",
       "mean   4.463764e+03    -1.836847     1.836847     0.0     1.836847     0.0   \n",
       "std    6.079905e+04    60.671585    60.671585     0.0    60.671585     0.0   \n",
       "min   -4.849120e+05 -2004.000000     0.000000     0.0     0.000000     0.0   \n",
       "25%    0.000000e+00     0.000000     0.000000     0.0     0.000000     0.0   \n",
       "50%    0.000000e+00     0.000000     0.000000     0.0     0.000000     0.0   \n",
       "75%    1.750000e+01     0.000000     0.000000     0.0     0.000000     0.0   \n",
       "max    1.723983e+06     0.000000  2004.000000     0.0  2004.000000     0.0   \n",
       "\n",
       "               3320    3324          3325    3326          3300          3600  \\\n",
       "count   1091.000000  1091.0   1091.000000  1091.0   1091.000000  1.091000e+03   \n",
       "mean      13.957837     0.0     13.957837     0.0    -13.957837  3.221946e+04   \n",
       "std      461.031387     0.0    461.031387     0.0    461.031387  2.301497e+05   \n",
       "min        0.000000     0.0      0.000000     0.0 -15228.000000 -5.756400e+04   \n",
       "25%        0.000000     0.0      0.000000     0.0      0.000000  0.000000e+00   \n",
       "50%        0.000000     0.0      0.000000     0.0      0.000000  0.000000e+00   \n",
       "75%        0.000000     0.0      0.000000     0.0      0.000000  0.000000e+00   \n",
       "max    15228.000000     0.0  15228.000000     0.0      0.000000  5.458491e+06   \n",
       "\n",
       "       Дата актуализации  Ликвидировано  \n",
       "count       1.091000e+03    1091.000000  \n",
       "mean        2.017042e+07       0.010999  \n",
       "std         1.347219e+02       0.104346  \n",
       "min         2.017012e+07       0.000000  \n",
       "25%         2.017033e+07       0.000000  \n",
       "50%         2.017040e+07       0.000000  \n",
       "75%         2.017051e+07       0.000000  \n",
       "max         2.017122e+07       1.000000  "
      ]
     },
     "execution_count": 11,
     "metadata": {},
     "output_type": "execute_result"
    }
   ],
   "source": [
    "df1.describe()"
   ]
  },
  {
   "cell_type": "code",
   "execution_count": 12,
   "metadata": {
    "scrolled": true
   },
   "outputs": [
    {
     "data": {
      "text/html": [
       "<div>\n",
       "<style scoped>\n",
       "    .dataframe tbody tr th:only-of-type {\n",
       "        vertical-align: middle;\n",
       "    }\n",
       "\n",
       "    .dataframe tbody tr th {\n",
       "        vertical-align: top;\n",
       "    }\n",
       "\n",
       "    .dataframe thead th {\n",
       "        text-align: right;\n",
       "    }\n",
       "</style>\n",
       "<table border=\"1\" class=\"dataframe\">\n",
       "  <thead>\n",
       "    <tr style=\"text-align: right;\">\n",
       "      <th></th>\n",
       "      <th>count</th>\n",
       "      <th>unique</th>\n",
       "      <th>top</th>\n",
       "      <th>freq</th>\n",
       "    </tr>\n",
       "  </thead>\n",
       "  <tbody>\n",
       "    <tr>\n",
       "      <th>Наименование</th>\n",
       "      <td>1091</td>\n",
       "      <td>1060</td>\n",
       "      <td>ОБЩЕСТВО С ОГРАНИЧЕННОЙ ОТВЕТСТВЕННОСТЬЮ \"НИВА\"</td>\n",
       "      <td>4</td>\n",
       "    </tr>\n",
       "    <tr>\n",
       "      <th>ОКВЭД</th>\n",
       "      <td>1091</td>\n",
       "      <td>78</td>\n",
       "      <td>02.20</td>\n",
       "      <td>177</td>\n",
       "    </tr>\n",
       "  </tbody>\n",
       "</table>\n",
       "</div>"
      ],
      "text/plain": [
       "             count unique                                              top  \\\n",
       "Наименование  1091   1060  ОБЩЕСТВО С ОГРАНИЧЕННОЙ ОТВЕТСТВЕННОСТЬЮ \"НИВА\"   \n",
       "ОКВЭД         1091     78                                            02.20   \n",
       "\n",
       "             freq  \n",
       "Наименование    4  \n",
       "ОКВЭД         177  "
      ]
     },
     "execution_count": 12,
     "metadata": {},
     "output_type": "execute_result"
    }
   ],
   "source": [
    "df1.describe(include = 'object').T"
   ]
  },
  {
   "cell_type": "markdown",
   "metadata": {},
   "source": [
    "### Строим функции плотности вероятности для признаков и смотрим на распределения"
   ]
  },
  {
   "cell_type": "code",
   "execution_count": 13,
   "metadata": {
    "scrolled": false
   },
   "outputs": [
    {
     "data": {
      "text/plain": [
       "<seaborn.axisgrid.PairGrid at 0x179cca3b6d8>"
      ]
     },
     "execution_count": 13,
     "metadata": {},
     "output_type": "execute_result"
    },
    {
     "data": {
      "image/png": "[encoded data removed]",
      "text/plain": [
       "<matplotlib.figure.Figure at 0x179cca3beb8>"
      ]
     },
     "metadata": {},
     "output_type": "display_data"
    }
   ],
   "source": [
    "plot_features = ['1110', '1130', '1150', '1160', '1170']\n",
    "new_palette = sns.color_palette(\"Paired\")\n",
    "sns.pairplot(df1, vars=plot_features, hue=\"Ликвидировано\", size=3, diag_kind=\"kde\")"
   ]
  },
  {
   "cell_type": "markdown",
   "metadata": {},
   "source": [
    "### Строим функции плотности вероятности для признаков и смотрим на распределения¶"
   ]
  },
  {
   "cell_type": "code",
   "execution_count": 15,
   "metadata": {
    "scrolled": false
   },
   "outputs": [
    {
     "data": {
      "image/png": "[encoded data removed]",
      "text/plain": [
       "<matplotlib.figure.Figure at 0x179d05e5d68>"
      ]
     },
     "metadata": {},
     "output_type": "display_data"
    }
   ],
   "source": [
    "plot_features = ['1110']\n",
    "plt.figure(figsize=(10,5))\n",
    "grids = gridspec.GridSpec(len(plot_features),1)\n",
    "for i,j in enumerate(df1[plot_features]):\n",
    "    ax = plt.subplot(grids[i])\n",
    "    sns.distplot(df1[j][df1.Ликвидировано == 0], bins=30)\n",
    "    sns.distplot(df1[j][df1.Ликвидировано == 1], bins=30)\n",
    "    ax.set_xlabel('')\n",
    "    ax.set_title('Histogram for feature: ' + str(j))\n",
    "plt.show()"
   ]
  },
  {
   "cell_type": "markdown",
   "metadata": {},
   "source": [
    "### Корреляция (только статьи)"
   ]
  },
  {
   "cell_type": "code",
   "execution_count": 16,
   "metadata": {},
   "outputs": [],
   "source": [
    "df1_1 = df1.iloc[:,8:32]\n",
    "df1_2 = df1.iloc[:,32:56]\n",
    "df1_3 = df1.iloc[:,56:77]"
   ]
  },
  {
   "cell_type": "code",
   "execution_count": 17,
   "metadata": {
    "scrolled": false
   },
   "outputs": [
    {
     "data": {
      "text/plain": [
       "<matplotlib.axes._subplots.AxesSubplot at 0x179d05f9470>"
      ]
     },
     "execution_count": 17,
     "metadata": {},
     "output_type": "execute_result"
    },
    {
     "data": {
      "image/png": "[encoded data removed]",
      "text/plain": [
       "<matplotlib.figure.Figure at 0x179d06dabe0>"
      ]
     },
     "metadata": {},
     "output_type": "display_data"
    }
   ],
   "source": [
    "f, ax = plt.subplots(figsize=(15, 15))\n",
    "plt.title('Pearson correlation coefficients of features')\n",
    "sns.heatmap(df1_1.astype(float).corr(),linewidths=0.25,vmax=1.0, square=True, linecolor='black')"
   ]
  },
  {
   "cell_type": "code",
   "execution_count": 18,
   "metadata": {},
   "outputs": [
    {
     "data": {
      "text/plain": [
       "(array([0], dtype=int64), array([0], dtype=int64))"
      ]
     },
     "execution_count": 18,
     "metadata": {},
     "output_type": "execute_result"
    }
   ],
   "source": [
    "# статьи 1120, 1140 постоянны - только нули (необходимо убрать данные признаки перед построением модели)\n",
    "df1['1120'].unique(), df1['1140'].unique()"
   ]
  },
  {
   "cell_type": "code",
   "execution_count": 19,
   "metadata": {
    "scrolled": false
   },
   "outputs": [
    {
     "data": {
      "text/plain": [
       "<matplotlib.axes._subplots.AxesSubplot at 0x179d1772f28>"
      ]
     },
     "execution_count": 19,
     "metadata": {},
     "output_type": "execute_result"
    },
    {
     "data": {
      "image/png": "[encoded data removed]",
      "text/plain": [
       "<matplotlib.figure.Figure at 0x179d05dc128>"
      ]
     },
     "metadata": {},
     "output_type": "display_data"
    }
   ],
   "source": [
    "f, ax = plt.subplots(figsize=(15, 15))\n",
    "plt.title('Pearson correlation coefficients of features')\n",
    "sns.heatmap(df1_2.astype(float).corr(),linewidths=0.25,vmax=1.0, square=True, linecolor='black')"
   ]
  },
  {
   "cell_type": "code",
   "execution_count": 20,
   "metadata": {},
   "outputs": [
    {
     "data": {
      "text/plain": [
       "array([0], dtype=int64)"
      ]
     },
     "execution_count": 20,
     "metadata": {},
     "output_type": "execute_result"
    }
   ],
   "source": [
    "# статья 1430 постоянна - только нули (необходимо убрать перед построением модели)\n",
    "df1['1430'].unique()"
   ]
  },
  {
   "cell_type": "code",
   "execution_count": 21,
   "metadata": {
    "scrolled": true
   },
   "outputs": [
    {
     "data": {
      "text/plain": [
       "<matplotlib.axes._subplots.AxesSubplot at 0x179d05dce80>"
      ]
     },
     "execution_count": 21,
     "metadata": {},
     "output_type": "execute_result"
    },
    {
     "data": {
      "image/png": "[encoded data removed]",
      "text/plain": [
       "<matplotlib.figure.Figure at 0x179d066e5c0>"
      ]
     },
     "metadata": {},
     "output_type": "display_data"
    }
   ],
   "source": [
    "f, ax = plt.subplots(figsize=(15, 15))\n",
    "plt.title('Pearson correlation coefficients of features')\n",
    "sns.heatmap(df1_3.astype(float).corr(),linewidths=0.25,vmax=1.0, square=True, linecolor='black')"
   ]
  },
  {
   "cell_type": "code",
   "execution_count": 22,
   "metadata": {},
   "outputs": [
    {
     "data": {
      "text/plain": [
       "(array([0], dtype=int64),\n",
       " array([0], dtype=int64),\n",
       " array([0], dtype=int64),\n",
       " array([0], dtype=int64))"
      ]
     },
     "execution_count": 22,
     "metadata": {},
     "output_type": "execute_result"
    }
   ],
   "source": [
    "# статьи 3314, 3316, 3324, 3326 постоянны - только нули (необходимо убрать данные признаки перед построением модели)\n",
    "df1['3314'].unique(), df1['3316'].unique(), df1['3324'].unique(), df1['3326'].unique()"
   ]
  },
  {
   "cell_type": "markdown",
   "metadata": {},
   "source": [
    "### Корреляция признаков с целевой переменной"
   ]
  },
  {
   "cell_type": "code",
   "execution_count": 23,
   "metadata": {},
   "outputs": [],
   "source": [
    "def CorrelationSelector(x,y):\n",
    "    columns = x.columns\n",
    "    corr_data = dict([(abs(np.corrcoef(x[c],y)[0,1]),c) for c in columns if math.isnan(abs(np.corrcoef(x[c],y)[0,1]))==False])\n",
    "    sorted_corr_data = sorted(corr_data.items(), key=operator.itemgetter(0), reverse=True)\n",
    "    return sorted_corr_data"
   ]
  },
  {
   "cell_type": "code",
   "execution_count": 24,
   "metadata": {
    "scrolled": true
   },
   "outputs": [
    {
     "data": {
      "text/plain": [
       "[(0.2372308176506001, '1110'),\n",
       " (0.10190945974477206, 'ИНН'),\n",
       " (0.07289256076629282, 'ОКОПФ'),\n",
       " (0.024013436439178488, '1210'),\n",
       " (0.020697466985145234, 'Дата актуализации'),\n",
       " (0.020267864300771814, 'ОКФС'),\n",
       " (0.01828374412539774, '2460'),\n",
       " (0.0178588412803494, '2340'),\n",
       " (0.01681994714772616, '1250'),\n",
       " (0.01671965156429989, 'Код единицы измерения'),\n",
       " (0.016492408044631663, '1520'),\n",
       " (0.016434369691088437, '2120'),\n",
       " (0.01636448766820265, '1300'),\n",
       " (0.015878049136746574, '2110'),\n",
       " (0.015598572825434613, '1600'),\n",
       " (0.015566208088033745, '1700'),\n",
       " (0.015286471169226212, '1200'),\n",
       " (0.01477021745655807, '3600'),\n",
       " (0.014203396311271523, '1370'),\n",
       " (0.01416953367171291, '1150')]"
      ]
     },
     "execution_count": 24,
     "metadata": {},
     "output_type": "execute_result"
    }
   ],
   "source": [
    "CorrelationSelector(df1.drop(['Ликвидировано', 'Наименование', 'ОКВЭД'],1),df1['Ликвидировано'])[0:20]"
   ]
  },
  {
   "cell_type": "markdown",
   "metadata": {},
   "source": [
    "### Посмотрим, насколько можем понизить размерность задачи без значительно потери информации"
   ]
  },
  {
   "cell_type": "code",
   "execution_count": 25,
   "metadata": {
    "scrolled": true
   },
   "outputs": [
    {
     "data": {
      "image/png": "[encoded data removed]",
      "text/plain": [
       "<matplotlib.figure.Figure at 0x179d03c6a90>"
      ]
     },
     "metadata": {},
     "output_type": "display_data"
    }
   ],
   "source": [
    "scaler = StandardScaler()\n",
    "x_scaled = scaler.fit_transform(df1.drop(['Ликвидировано', 'Наименование', 'ОКВЭД'],1))\n",
    "from numpy.linalg import eig\n",
    "covX = np.cov(x_scaled.T)\n",
    "eigs, vecs = eig(covX)\n",
    "eig_pairs = [(abs(eigs[i]),vecs[:,i]) for i in range(len(eigs))]\n",
    "eig_pairs.sort(key = lambda x: x[0], reverse= True)\n",
    "E = sum(eigs)\n",
    "exp_variance = [(i/E)*100 for i in sorted(eigs, reverse=True)] # Individual explained variance\n",
    "cum_variance = np.cumsum(exp_variance) # Cumulative explained variance\n",
    "\n",
    "plt.figure(figsize=(30,10))\n",
    "plt.bar(range(len(eigs)), exp_variance, alpha=0.8, label='Variance of individual PC, %', color = 'r')\n",
    "plt.step(range(len(eigs)), cum_variance, label='Cumulative variance, %')\n",
    "plt.ylabel('Total variance %')\n",
    "plt.xlabel('Number of principal components')\n",
    "plt.legend()\n",
    "plt.show()"
   ]
  },
  {
   "cell_type": "code",
   "execution_count": 26,
   "metadata": {},
   "outputs": [],
   "source": [
    "# Для сохранения 90% информации необходимо от 20 до 25 признаков \n",
    "# Возможно стоит сделать отбор признаков "
   ]
  },
  {
   "cell_type": "markdown",
   "metadata": {},
   "source": [
    "### Преобразование переменных"
   ]
  },
  {
   "cell_type": "code",
   "execution_count": 27,
   "metadata": {},
   "outputs": [
    {
     "data": {
      "text/plain": [
       "Index(['Наименование', 'ОКПО', 'ОКОПФ', 'ОКФС', 'ОКВЭД', 'ИНН',\n",
       "       'Код единицы измерения', 'Тип отчета', '1110', '1120', '1130', '1140',\n",
       "       '1150', '1160', '1170', '1180', '1190', '1100', '1210', '1220', '1230',\n",
       "       '1240', '1250', '1260', '1200', '1600', '1310', '1320', '1340', '1350',\n",
       "       '1360', '1370', '1300', '1410', '1420', '1430', '1450', '1400', '1510',\n",
       "       '1520', '1530', '1540', '1550', '1500', '1700', '2110', '2120', '2100',\n",
       "       '2210', '2220', '2200', '2310', '2320', '2330', '2340', '2350', '2300',\n",
       "       '2410', '2421', '2430', '2450', '2460', '2400', '2510', '2520', '2500',\n",
       "       '3200', '3310', '3314', '3315', '3316', '3320', '3324', '3325', '3326',\n",
       "       '3300', '3600', 'Дата актуализации', 'Ликвидировано'],\n",
       "      dtype='object')"
      ]
     },
     "execution_count": 27,
     "metadata": {},
     "output_type": "execute_result"
    }
   ],
   "source": [
    "df1.columns"
   ]
  },
  {
   "cell_type": "code",
   "execution_count": 28,
   "metadata": {},
   "outputs": [],
   "source": [
    "# ОКПО Общероссийский классификатор предприятий и организаций  - не преобразуем, убираем из датасета при построении модели\n",
    "        # В первом разделе общероссийском классификаторе находятся коды, созданные кодированием порядкового номера. Здесь создаются первые восемь цифр. Причем, первые семь – это сведения согласно порядковому номеру, а восьмая – контрольное число.\n",
    "        # Источник: http://vseproip.com/otkrytie-i-zakrytie-ip/okpo/skolko-cifr-soderzhit-kod-okpo.html\n",
    "        \n",
    "# ОКОПФ  Общероссийский Классификатор Организационно-Правовых Форм  - может попробовать первую цифру вытащить!!\n",
    "        # http://ip-nalog.ru/kody-statistiki/okopf.html \n",
    "        # количество цифр разное, если только первую вытаскивать от 1 до 7 (1, 4, 5, 6 - в первом датасете)\n",
    "            # 1 00 00 - организационно-правовые формы юридических лиц, являющихся коммерческими корпоративными организациями;\n",
    "            # 4 00 00 - организационно-правовые формы международных организаций, осуществляющих деятельность на территории Российской Федерации;\n",
    "            # 5 00 00 - организационно-правовые формы для деятельности граждан (физических лиц).\n",
    "            # 6 00 00 - организационно-правовые формы юридических лиц, являющихся коммерческими унитарными организациями.\n",
    "            \n",
    "# ОКФС Общероссийский Классификатор Форм Собственности  - преобразуем\n",
    "        # http://ip-nalog.ru/kody-statistiki/okfs.html\n",
    "        # либо в 4 столбца, либо в 12\n",
    "    \n",
    "# ОКВЭД Общероссийский классификатор видов экономической деятельности - преобразуем\n",
    "        # Первые 4 цифры или 3 цифры, в столбцы\n",
    "        # XX — класс;\n",
    "        # ХХ.Х — подкласс;\n",
    "        # ХХ.ХХ — группа;\n",
    "    \n",
    "# ИНН Индивидуальный номер налогоплательщика  - преобразуем, вытаскиваем номер налоговой инспекции\n",
    "        # 2 цифры - код субъекта РФ\n",
    "        # следующие 2 -номер местной налоговой инспекции\n",
    "        # далее номер записи и контрольные цифры\n",
    "        \n",
    "# Код единицы измерения - преобразуем, перевод в тысячи рублей\n",
    "        # 384 Тысяча рублей   95% записей\n",
    "        # 383 Рубль \n",
    "        # 385 Миллион рублей\n",
    "        \n",
    "# Тип отчета - 0,1,2 - до конца не понятно что это, не преобразуем, убираем из датасета"
   ]
  },
  {
   "cell_type": "code",
   "execution_count": 29,
   "metadata": {},
   "outputs": [],
   "source": [
    "# преобразование ИНН\n",
    "df1['Tax_inspection'] = df1['ИНН'].map(lambda x: str(x)[:-6]) # удаление последних 6 символов\n",
    "df1['Tax_inspection'] = df1['Tax_inspection'].map(lambda x: str(x)[2:]) # удаление первых 2 символов"
   ]
  },
  {
   "cell_type": "code",
   "execution_count": 30,
   "metadata": {},
   "outputs": [
    {
     "data": {
      "text/plain": [
       "array(['58', '74', '34', '17', '33', '12', '19', '79', '60', '80', '23',\n",
       "       '42', '85', '78', '06', '76', '77', '86', '81', '84', '25', '70',\n",
       "       '59', '71', '48', '52', '26', '82', '11', '16', '01', '37', '14',\n",
       "       '51', '03', '13', '56', '72', '54', '57', '83', '10', '43', '09',\n",
       "       '53', '45', '38', '46', '36', '04', '35', '44', '27', '39', '31',\n",
       "       '55', '62', '64', '49', '32', '40', '28', '63', '24', '05', '20',\n",
       "       '47', '73', '21', '15', '29', '02', '30', '07', '22', '50'],\n",
       "      dtype=object)"
      ]
     },
     "execution_count": 30,
     "metadata": {},
     "output_type": "execute_result"
    }
   ],
   "source": [
    "df1['Tax_inspection'].unique()"
   ]
  },
  {
   "cell_type": "code",
   "execution_count": 31,
   "metadata": {},
   "outputs": [
    {
     "data": {
      "text/plain": [
       "70    0.056829\n",
       "58    0.056829\n",
       "71    0.048579\n",
       "33    0.040330\n",
       "23    0.039413\n",
       "Name: Tax_inspection, dtype: float64"
      ]
     },
     "execution_count": 31,
     "metadata": {},
     "output_type": "execute_result"
    }
   ],
   "source": [
    "df1['Tax_inspection'].value_counts(normalize=True).head(5)"
   ]
  },
  {
   "cell_type": "code",
   "execution_count": 32,
   "metadata": {
    "scrolled": true
   },
   "outputs": [],
   "source": [
    "# преобразование ОКВЭД\n",
    "# df1['ОКВЭД1'] = df1['ОКВЭД'].map(lambda x: len(x)<=4)\n",
    "# подумать как оставить первые символы"
   ]
  },
  {
   "cell_type": "code",
   "execution_count": 33,
   "metadata": {},
   "outputs": [
    {
     "data": {
      "text/plain": [
       "16    0.963336\n",
       "13    0.006416\n",
       "34    0.005500\n",
       "12    0.004583\n",
       "49    0.003666\n",
       "42    0.002750\n",
       "41    0.002750\n",
       "24    0.002750\n",
       "19    0.002750\n",
       "10    0.002750\n",
       "23    0.001833\n",
       "17    0.000917\n",
       "Name: ОКФС, dtype: float64"
      ]
     },
     "execution_count": 33,
     "metadata": {},
     "output_type": "execute_result"
    }
   ],
   "source": [
    "df1['ОКФС'].value_counts(normalize=True)"
   ]
  },
  {
   "cell_type": "code",
   "execution_count": 34,
   "metadata": {},
   "outputs": [],
   "source": [
    "# преобразование ОКОПФ\n",
    "# df['ОКОПФ'].value_counts(normalize=True)\n",
    "# df1['ОКОПФ1'] = df1['ОКОПФ'].map(lambda x: str(x)[:-4]) # удаление последних 4 символов\n",
    "# надо не удалять последние символы, а оставить только первый"
   ]
  },
  {
   "cell_type": "code",
   "execution_count": 35,
   "metadata": {},
   "outputs": [
    {
     "data": {
      "text/plain": [
       "384    0.949588\n",
       "383    0.049496\n",
       "385    0.000917\n",
       "Name: Код единицы измерения, dtype: float64"
      ]
     },
     "execution_count": 35,
     "metadata": {},
     "output_type": "execute_result"
    }
   ],
   "source": [
    "# преобразование единиц измерения\n",
    "df1['Код единицы измерения'].value_counts(normalize=True)\n",
    "# 384 Тысяча рублей\n",
    "# 383 Рубль \n",
    "# 385 Миллион рублей"
   ]
  },
  {
   "cell_type": "code",
   "execution_count": 63,
   "metadata": {},
   "outputs": [],
   "source": [
    "df1_384 = df1[df1['Код единицы измерения']==384]\n",
    "df1_383 = df1[df1['Код единицы измерения']==383]\n",
    "df1_385 = df1[df1['Код единицы измерения']==385]"
   ]
  },
  {
   "cell_type": "code",
   "execution_count": 64,
   "metadata": {},
   "outputs": [
    {
     "data": {
      "text/plain": [
       "((1036, 80), (54, 80), (1, 80))"
      ]
     },
     "execution_count": 64,
     "metadata": {},
     "output_type": "execute_result"
    }
   ],
   "source": [
    "df1_384.shape, df1_383.shape, df1_385.shape"
   ]
  },
  {
   "cell_type": "code",
   "execution_count": 65,
   "metadata": {},
   "outputs": [],
   "source": [
    "# не корректно работает, пока оставила только df1_384 (только тыс рублей единицы измерения)\n",
    "# feature = df1_385[['1110', '1120', '1130', '1140','1150', '1160', '1170', '1180', '1190', '1100', '1210', '1220', '1230','1240', '1250', \n",
    "#         '1260', '1200', '1600', '1310', '1320', '1340', '1350','1360', '1370', '1300', '1410', '1420', '1430', '1450', '1400', '1510', '1520',\n",
    "#         '1530', '1540', '1550', '1500', '1700', '2110', '2120', '2100','2210', '2220', '2200', '2310', '2320', '2330', '2340', '2350', '2300',\n",
    "#         '2410', '2421', '2430', '2450', '2460', '2400', '2510', '2520', '2500','3200', '3310', '3314', '3315', '3316', '3320', '3324', '3325', '3326',\n",
    "#         '3300', '3600']]*1000\n",
    "# df1_385 = df1_385[['Наименование', 'ОКПО', 'ОКОПФ', 'ОКФС', 'ОКВЭД', 'ИНН',\n",
    "#        'Код единицы измерения', 'Тип отчета', 'Дата актуализации', 'Ликвидировано', 'Tax_inspection']]\n",
    "# df1_385= np.concatenate((df1_385, feature), axis=1)"
   ]
  },
  {
   "cell_type": "code",
   "execution_count": 66,
   "metadata": {
    "scrolled": true
   },
   "outputs": [
    {
     "data": {
      "text/plain": [
       "2    0.559120\n",
       "1    0.439963\n",
       "0    0.000917\n",
       "Name: Тип отчета, dtype: float64"
      ]
     },
     "execution_count": 66,
     "metadata": {},
     "output_type": "execute_result"
    }
   ],
   "source": [
    "df1['Тип отчета'].value_counts(normalize=True)"
   ]
  },
  {
   "cell_type": "markdown",
   "metadata": {},
   "source": [
    "### Кодировка признаков"
   ]
  },
  {
   "cell_type": "code",
   "execution_count": 67,
   "metadata": {},
   "outputs": [],
   "source": [
    "# Кодируем признак 'ОКФС' и 'Tax_inspection'\n",
    "df1_384 = pd.concat([df1_384, pd.get_dummies(df1_384['ОКФС'], prefix=\"ОКФС\"),\n",
    "                            pd.get_dummies(df1_384['Tax_inspection'], prefix=\"Tax_inspection\")],\n",
    "                            axis=1)"
   ]
  },
  {
   "cell_type": "code",
   "execution_count": 68,
   "metadata": {
    "scrolled": true
   },
   "outputs": [
    {
     "data": {
      "text/html": [
       "<div>\n",
       "<style scoped>\n",
       "    .dataframe tbody tr th:only-of-type {\n",
       "        vertical-align: middle;\n",
       "    }\n",
       "\n",
       "    .dataframe tbody tr th {\n",
       "        vertical-align: top;\n",
       "    }\n",
       "\n",
       "    .dataframe thead th {\n",
       "        text-align: right;\n",
       "    }\n",
       "</style>\n",
       "<table border=\"1\" class=\"dataframe\">\n",
       "  <thead>\n",
       "    <tr style=\"text-align: right;\">\n",
       "      <th></th>\n",
       "      <th>Наименование</th>\n",
       "      <th>ОКПО</th>\n",
       "      <th>ОКОПФ</th>\n",
       "      <th>ОКФС</th>\n",
       "      <th>ОКВЭД</th>\n",
       "      <th>ИНН</th>\n",
       "      <th>Код единицы измерения</th>\n",
       "      <th>Тип отчета</th>\n",
       "      <th>1110</th>\n",
       "      <th>1120</th>\n",
       "      <th>1130</th>\n",
       "      <th>1140</th>\n",
       "      <th>1150</th>\n",
       "      <th>1160</th>\n",
       "      <th>1170</th>\n",
       "      <th>1180</th>\n",
       "      <th>1190</th>\n",
       "      <th>1100</th>\n",
       "      <th>1210</th>\n",
       "      <th>1220</th>\n",
       "      <th>1230</th>\n",
       "      <th>1240</th>\n",
       "      <th>1250</th>\n",
       "      <th>1260</th>\n",
       "      <th>1200</th>\n",
       "      <th>1600</th>\n",
       "      <th>1310</th>\n",
       "      <th>1320</th>\n",
       "      <th>1340</th>\n",
       "      <th>1350</th>\n",
       "      <th>1360</th>\n",
       "      <th>1370</th>\n",
       "      <th>1300</th>\n",
       "      <th>1410</th>\n",
       "      <th>1420</th>\n",
       "      <th>1430</th>\n",
       "      <th>1450</th>\n",
       "      <th>1400</th>\n",
       "      <th>1510</th>\n",
       "      <th>1520</th>\n",
       "      <th>1530</th>\n",
       "      <th>1540</th>\n",
       "      <th>1550</th>\n",
       "      <th>1500</th>\n",
       "      <th>1700</th>\n",
       "      <th>2110</th>\n",
       "      <th>2120</th>\n",
       "      <th>2100</th>\n",
       "      <th>2210</th>\n",
       "      <th>2220</th>\n",
       "      <th>2200</th>\n",
       "      <th>2310</th>\n",
       "      <th>2320</th>\n",
       "      <th>2330</th>\n",
       "      <th>2340</th>\n",
       "      <th>2350</th>\n",
       "      <th>2300</th>\n",
       "      <th>2410</th>\n",
       "      <th>2421</th>\n",
       "      <th>2430</th>\n",
       "      <th>2450</th>\n",
       "      <th>2460</th>\n",
       "      <th>2400</th>\n",
       "      <th>2510</th>\n",
       "      <th>2520</th>\n",
       "      <th>2500</th>\n",
       "      <th>3200</th>\n",
       "      <th>3310</th>\n",
       "      <th>3314</th>\n",
       "      <th>3315</th>\n",
       "      <th>3316</th>\n",
       "      <th>3320</th>\n",
       "      <th>3324</th>\n",
       "      <th>3325</th>\n",
       "      <th>3326</th>\n",
       "      <th>3300</th>\n",
       "      <th>3600</th>\n",
       "      <th>Дата актуализации</th>\n",
       "      <th>Ликвидировано</th>\n",
       "      <th>Tax_inspection</th>\n",
       "      <th>ОКФС_10</th>\n",
       "      <th>ОКФС_12</th>\n",
       "      <th>ОКФС_13</th>\n",
       "      <th>ОКФС_16</th>\n",
       "      <th>ОКФС_17</th>\n",
       "      <th>ОКФС_19</th>\n",
       "      <th>ОКФС_23</th>\n",
       "      <th>ОКФС_24</th>\n",
       "      <th>ОКФС_34</th>\n",
       "      <th>ОКФС_41</th>\n",
       "      <th>ОКФС_42</th>\n",
       "      <th>ОКФС_49</th>\n",
       "      <th>Tax_inspection_01</th>\n",
       "      <th>Tax_inspection_02</th>\n",
       "      <th>Tax_inspection_03</th>\n",
       "      <th>Tax_inspection_04</th>\n",
       "      <th>Tax_inspection_05</th>\n",
       "      <th>Tax_inspection_06</th>\n",
       "      <th>Tax_inspection_07</th>\n",
       "      <th>Tax_inspection_09</th>\n",
       "      <th>Tax_inspection_10</th>\n",
       "      <th>Tax_inspection_11</th>\n",
       "      <th>Tax_inspection_12</th>\n",
       "      <th>Tax_inspection_13</th>\n",
       "      <th>Tax_inspection_14</th>\n",
       "      <th>Tax_inspection_15</th>\n",
       "      <th>Tax_inspection_16</th>\n",
       "      <th>Tax_inspection_17</th>\n",
       "      <th>Tax_inspection_19</th>\n",
       "      <th>Tax_inspection_20</th>\n",
       "      <th>Tax_inspection_21</th>\n",
       "      <th>Tax_inspection_22</th>\n",
       "      <th>Tax_inspection_23</th>\n",
       "      <th>Tax_inspection_24</th>\n",
       "      <th>Tax_inspection_25</th>\n",
       "      <th>Tax_inspection_26</th>\n",
       "      <th>Tax_inspection_27</th>\n",
       "      <th>Tax_inspection_28</th>\n",
       "      <th>Tax_inspection_29</th>\n",
       "      <th>Tax_inspection_30</th>\n",
       "      <th>Tax_inspection_31</th>\n",
       "      <th>Tax_inspection_32</th>\n",
       "      <th>Tax_inspection_33</th>\n",
       "      <th>Tax_inspection_34</th>\n",
       "      <th>Tax_inspection_35</th>\n",
       "      <th>Tax_inspection_36</th>\n",
       "      <th>Tax_inspection_37</th>\n",
       "      <th>Tax_inspection_38</th>\n",
       "      <th>Tax_inspection_39</th>\n",
       "      <th>Tax_inspection_40</th>\n",
       "      <th>Tax_inspection_42</th>\n",
       "      <th>Tax_inspection_43</th>\n",
       "      <th>Tax_inspection_44</th>\n",
       "      <th>Tax_inspection_45</th>\n",
       "      <th>Tax_inspection_46</th>\n",
       "      <th>Tax_inspection_47</th>\n",
       "      <th>Tax_inspection_48</th>\n",
       "      <th>Tax_inspection_49</th>\n",
       "      <th>Tax_inspection_50</th>\n",
       "      <th>Tax_inspection_51</th>\n",
       "      <th>Tax_inspection_52</th>\n",
       "      <th>Tax_inspection_53</th>\n",
       "      <th>Tax_inspection_54</th>\n",
       "      <th>Tax_inspection_55</th>\n",
       "      <th>Tax_inspection_56</th>\n",
       "      <th>Tax_inspection_57</th>\n",
       "      <th>Tax_inspection_58</th>\n",
       "      <th>Tax_inspection_59</th>\n",
       "      <th>Tax_inspection_60</th>\n",
       "      <th>Tax_inspection_62</th>\n",
       "      <th>Tax_inspection_63</th>\n",
       "      <th>Tax_inspection_64</th>\n",
       "      <th>Tax_inspection_70</th>\n",
       "      <th>Tax_inspection_71</th>\n",
       "      <th>Tax_inspection_72</th>\n",
       "      <th>Tax_inspection_73</th>\n",
       "      <th>Tax_inspection_74</th>\n",
       "      <th>Tax_inspection_76</th>\n",
       "      <th>Tax_inspection_77</th>\n",
       "      <th>Tax_inspection_78</th>\n",
       "      <th>Tax_inspection_79</th>\n",
       "      <th>Tax_inspection_80</th>\n",
       "      <th>Tax_inspection_81</th>\n",
       "      <th>Tax_inspection_82</th>\n",
       "      <th>Tax_inspection_83</th>\n",
       "      <th>Tax_inspection_84</th>\n",
       "      <th>Tax_inspection_85</th>\n",
       "      <th>Tax_inspection_86</th>\n",
       "    </tr>\n",
       "  </thead>\n",
       "  <tbody>\n",
       "    <tr>\n",
       "      <th>0</th>\n",
       "      <td>Общество с ограниченной ответственностью \"Де В...</td>\n",
       "      <td>72903073</td>\n",
       "      <td>12300</td>\n",
       "      <td>16</td>\n",
       "      <td>03.1</td>\n",
       "      <td>6658183636</td>\n",
       "      <td>384</td>\n",
       "      <td>1</td>\n",
       "      <td>0</td>\n",
       "      <td>0</td>\n",
       "      <td>0</td>\n",
       "      <td>0</td>\n",
       "      <td>0</td>\n",
       "      <td>0</td>\n",
       "      <td>0</td>\n",
       "      <td>0</td>\n",
       "      <td>0</td>\n",
       "      <td>0</td>\n",
       "      <td>0</td>\n",
       "      <td>0</td>\n",
       "      <td>1</td>\n",
       "      <td>0</td>\n",
       "      <td>0</td>\n",
       "      <td>0</td>\n",
       "      <td>0</td>\n",
       "      <td>1</td>\n",
       "      <td>0</td>\n",
       "      <td>0</td>\n",
       "      <td>0</td>\n",
       "      <td>0</td>\n",
       "      <td>0</td>\n",
       "      <td>0</td>\n",
       "      <td>-1515</td>\n",
       "      <td>1495</td>\n",
       "      <td>0</td>\n",
       "      <td>0</td>\n",
       "      <td>0</td>\n",
       "      <td>0</td>\n",
       "      <td>21</td>\n",
       "      <td>0</td>\n",
       "      <td>0</td>\n",
       "      <td>0</td>\n",
       "      <td>0</td>\n",
       "      <td>0</td>\n",
       "      <td>1</td>\n",
       "      <td>0</td>\n",
       "      <td>0</td>\n",
       "      <td>0</td>\n",
       "      <td>0</td>\n",
       "      <td>0</td>\n",
       "      <td>0</td>\n",
       "      <td>0</td>\n",
       "      <td>0</td>\n",
       "      <td>4</td>\n",
       "      <td>0</td>\n",
       "      <td>19</td>\n",
       "      <td>0</td>\n",
       "      <td>0</td>\n",
       "      <td>0</td>\n",
       "      <td>0</td>\n",
       "      <td>0</td>\n",
       "      <td>0</td>\n",
       "      <td>-23</td>\n",
       "      <td>0</td>\n",
       "      <td>0</td>\n",
       "      <td>0</td>\n",
       "      <td>0</td>\n",
       "      <td>0</td>\n",
       "      <td>0</td>\n",
       "      <td>0</td>\n",
       "      <td>0</td>\n",
       "      <td>0</td>\n",
       "      <td>0</td>\n",
       "      <td>0</td>\n",
       "      <td>0</td>\n",
       "      <td>0</td>\n",
       "      <td>0</td>\n",
       "      <td>20170705</td>\n",
       "      <td>0</td>\n",
       "      <td>58</td>\n",
       "      <td>0</td>\n",
       "      <td>0</td>\n",
       "      <td>0</td>\n",
       "      <td>1</td>\n",
       "      <td>0</td>\n",
       "      <td>0</td>\n",
       "      <td>0</td>\n",
       "      <td>0</td>\n",
       "      <td>0</td>\n",
       "      <td>0</td>\n",
       "      <td>0</td>\n",
       "      <td>0</td>\n",
       "      <td>0</td>\n",
       "      <td>0</td>\n",
       "      <td>0</td>\n",
       "      <td>0</td>\n",
       "      <td>0</td>\n",
       "      <td>0</td>\n",
       "      <td>0</td>\n",
       "      <td>0</td>\n",
       "      <td>0</td>\n",
       "      <td>0</td>\n",
       "      <td>0</td>\n",
       "      <td>0</td>\n",
       "      <td>0</td>\n",
       "      <td>0</td>\n",
       "      <td>0</td>\n",
       "      <td>0</td>\n",
       "      <td>0</td>\n",
       "      <td>0</td>\n",
       "      <td>0</td>\n",
       "      <td>0</td>\n",
       "      <td>0</td>\n",
       "      <td>0</td>\n",
       "      <td>0</td>\n",
       "      <td>0</td>\n",
       "      <td>0</td>\n",
       "      <td>0</td>\n",
       "      <td>0</td>\n",
       "      <td>0</td>\n",
       "      <td>0</td>\n",
       "      <td>0</td>\n",
       "      <td>0</td>\n",
       "      <td>0</td>\n",
       "      <td>0</td>\n",
       "      <td>0</td>\n",
       "      <td>0</td>\n",
       "      <td>0</td>\n",
       "      <td>0</td>\n",
       "      <td>0</td>\n",
       "      <td>0</td>\n",
       "      <td>0</td>\n",
       "      <td>0</td>\n",
       "      <td>0</td>\n",
       "      <td>0</td>\n",
       "      <td>0</td>\n",
       "      <td>0</td>\n",
       "      <td>0</td>\n",
       "      <td>0</td>\n",
       "      <td>0</td>\n",
       "      <td>0</td>\n",
       "      <td>0</td>\n",
       "      <td>0</td>\n",
       "      <td>0</td>\n",
       "      <td>0</td>\n",
       "      <td>0</td>\n",
       "      <td>1</td>\n",
       "      <td>0</td>\n",
       "      <td>0</td>\n",
       "      <td>0</td>\n",
       "      <td>0</td>\n",
       "      <td>0</td>\n",
       "      <td>0</td>\n",
       "      <td>0</td>\n",
       "      <td>0</td>\n",
       "      <td>0</td>\n",
       "      <td>0</td>\n",
       "      <td>0</td>\n",
       "      <td>0</td>\n",
       "      <td>0</td>\n",
       "      <td>0</td>\n",
       "      <td>0</td>\n",
       "      <td>0</td>\n",
       "      <td>0</td>\n",
       "      <td>0</td>\n",
       "      <td>0</td>\n",
       "      <td>0</td>\n",
       "      <td>0</td>\n",
       "    </tr>\n",
       "    <tr>\n",
       "      <th>1</th>\n",
       "      <td>ОБЩЕСТВО С ОГРАНИЧЕННОЙ ОТВЕТСТВЕННОСТЬЮ \"ЗЕЛЁ...</td>\n",
       "      <td>85447582</td>\n",
       "      <td>12300</td>\n",
       "      <td>16</td>\n",
       "      <td>01.30</td>\n",
       "      <td>6674244773</td>\n",
       "      <td>384</td>\n",
       "      <td>1</td>\n",
       "      <td>0</td>\n",
       "      <td>0</td>\n",
       "      <td>0</td>\n",
       "      <td>0</td>\n",
       "      <td>0</td>\n",
       "      <td>0</td>\n",
       "      <td>0</td>\n",
       "      <td>0</td>\n",
       "      <td>0</td>\n",
       "      <td>0</td>\n",
       "      <td>0</td>\n",
       "      <td>0</td>\n",
       "      <td>0</td>\n",
       "      <td>0</td>\n",
       "      <td>10</td>\n",
       "      <td>0</td>\n",
       "      <td>0</td>\n",
       "      <td>10</td>\n",
       "      <td>0</td>\n",
       "      <td>0</td>\n",
       "      <td>0</td>\n",
       "      <td>0</td>\n",
       "      <td>0</td>\n",
       "      <td>0</td>\n",
       "      <td>10</td>\n",
       "      <td>0</td>\n",
       "      <td>0</td>\n",
       "      <td>0</td>\n",
       "      <td>0</td>\n",
       "      <td>0</td>\n",
       "      <td>0</td>\n",
       "      <td>0</td>\n",
       "      <td>0</td>\n",
       "      <td>0</td>\n",
       "      <td>0</td>\n",
       "      <td>0</td>\n",
       "      <td>10</td>\n",
       "      <td>0</td>\n",
       "      <td>0</td>\n",
       "      <td>0</td>\n",
       "      <td>0</td>\n",
       "      <td>0</td>\n",
       "      <td>0</td>\n",
       "      <td>0</td>\n",
       "      <td>0</td>\n",
       "      <td>0</td>\n",
       "      <td>0</td>\n",
       "      <td>0</td>\n",
       "      <td>0</td>\n",
       "      <td>0</td>\n",
       "      <td>0</td>\n",
       "      <td>0</td>\n",
       "      <td>0</td>\n",
       "      <td>0</td>\n",
       "      <td>0</td>\n",
       "      <td>0</td>\n",
       "      <td>0</td>\n",
       "      <td>0</td>\n",
       "      <td>0</td>\n",
       "      <td>0</td>\n",
       "      <td>0</td>\n",
       "      <td>0</td>\n",
       "      <td>0</td>\n",
       "      <td>0</td>\n",
       "      <td>0</td>\n",
       "      <td>0</td>\n",
       "      <td>0</td>\n",
       "      <td>0</td>\n",
       "      <td>0</td>\n",
       "      <td>20170629</td>\n",
       "      <td>0</td>\n",
       "      <td>74</td>\n",
       "      <td>0</td>\n",
       "      <td>0</td>\n",
       "      <td>0</td>\n",
       "      <td>1</td>\n",
       "      <td>0</td>\n",
       "      <td>0</td>\n",
       "      <td>0</td>\n",
       "      <td>0</td>\n",
       "      <td>0</td>\n",
       "      <td>0</td>\n",
       "      <td>0</td>\n",
       "      <td>0</td>\n",
       "      <td>0</td>\n",
       "      <td>0</td>\n",
       "      <td>0</td>\n",
       "      <td>0</td>\n",
       "      <td>0</td>\n",
       "      <td>0</td>\n",
       "      <td>0</td>\n",
       "      <td>0</td>\n",
       "      <td>0</td>\n",
       "      <td>0</td>\n",
       "      <td>0</td>\n",
       "      <td>0</td>\n",
       "      <td>0</td>\n",
       "      <td>0</td>\n",
       "      <td>0</td>\n",
       "      <td>0</td>\n",
       "      <td>0</td>\n",
       "      <td>0</td>\n",
       "      <td>0</td>\n",
       "      <td>0</td>\n",
       "      <td>0</td>\n",
       "      <td>0</td>\n",
       "      <td>0</td>\n",
       "      <td>0</td>\n",
       "      <td>0</td>\n",
       "      <td>0</td>\n",
       "      <td>0</td>\n",
       "      <td>0</td>\n",
       "      <td>0</td>\n",
       "      <td>0</td>\n",
       "      <td>0</td>\n",
       "      <td>0</td>\n",
       "      <td>0</td>\n",
       "      <td>0</td>\n",
       "      <td>0</td>\n",
       "      <td>0</td>\n",
       "      <td>0</td>\n",
       "      <td>0</td>\n",
       "      <td>0</td>\n",
       "      <td>0</td>\n",
       "      <td>0</td>\n",
       "      <td>0</td>\n",
       "      <td>0</td>\n",
       "      <td>0</td>\n",
       "      <td>0</td>\n",
       "      <td>0</td>\n",
       "      <td>0</td>\n",
       "      <td>0</td>\n",
       "      <td>0</td>\n",
       "      <td>0</td>\n",
       "      <td>0</td>\n",
       "      <td>0</td>\n",
       "      <td>0</td>\n",
       "      <td>0</td>\n",
       "      <td>0</td>\n",
       "      <td>0</td>\n",
       "      <td>0</td>\n",
       "      <td>0</td>\n",
       "      <td>0</td>\n",
       "      <td>0</td>\n",
       "      <td>0</td>\n",
       "      <td>0</td>\n",
       "      <td>0</td>\n",
       "      <td>0</td>\n",
       "      <td>1</td>\n",
       "      <td>0</td>\n",
       "      <td>0</td>\n",
       "      <td>0</td>\n",
       "      <td>0</td>\n",
       "      <td>0</td>\n",
       "      <td>0</td>\n",
       "      <td>0</td>\n",
       "      <td>0</td>\n",
       "      <td>0</td>\n",
       "      <td>0</td>\n",
       "      <td>0</td>\n",
       "    </tr>\n",
       "  </tbody>\n",
       "</table>\n",
       "</div>"
      ],
      "text/plain": [
       "                                        Наименование      ОКПО  ОКОПФ  ОКФС  \\\n",
       "0  Общество с ограниченной ответственностью \"Де В...  72903073  12300    16   \n",
       "1  ОБЩЕСТВО С ОГРАНИЧЕННОЙ ОТВЕТСТВЕННОСТЬЮ \"ЗЕЛЁ...  85447582  12300    16   \n",
       "\n",
       "   ОКВЭД         ИНН  Код единицы измерения  Тип отчета  1110  1120  1130  \\\n",
       "0   03.1  6658183636                    384           1     0     0     0   \n",
       "1  01.30  6674244773                    384           1     0     0     0   \n",
       "\n",
       "   1140  1150  1160  1170  1180  1190  1100  1210  1220  1230  1240  1250  \\\n",
       "0     0     0     0     0     0     0     0     0     0     1     0     0   \n",
       "1     0     0     0     0     0     0     0     0     0     0     0    10   \n",
       "\n",
       "   1260  1200  1600  1310  1320  1340  1350  1360  1370  1300  1410  1420  \\\n",
       "0     0     0     1     0     0     0     0     0     0 -1515  1495     0   \n",
       "1     0     0    10     0     0     0     0     0     0    10     0     0   \n",
       "\n",
       "   1430  1450  1400  1510  1520  1530  1540  1550  1500  1700  2110  2120  \\\n",
       "0     0     0     0    21     0     0     0     0     0     1     0     0   \n",
       "1     0     0     0     0     0     0     0     0     0    10     0     0   \n",
       "\n",
       "   2100  2210  2220  2200  2310  2320  2330  2340  2350  2300  2410  2421  \\\n",
       "0     0     0     0     0     0     0     4     0    19     0     0     0   \n",
       "1     0     0     0     0     0     0     0     0     0     0     0     0   \n",
       "\n",
       "   2430  2450  2460  2400  2510  2520  2500  3200  3310  3314  3315  3316  \\\n",
       "0     0     0     0   -23     0     0     0     0     0     0     0     0   \n",
       "1     0     0     0     0     0     0     0     0     0     0     0     0   \n",
       "\n",
       "   3320  3324  3325  3326  3300  3600  Дата актуализации  Ликвидировано  \\\n",
       "0     0     0     0     0     0     0           20170705              0   \n",
       "1     0     0     0     0     0     0           20170629              0   \n",
       "\n",
       "  Tax_inspection  ОКФС_10  ОКФС_12  ОКФС_13  ОКФС_16  ОКФС_17  ОКФС_19  \\\n",
       "0             58        0        0        0        1        0        0   \n",
       "1             74        0        0        0        1        0        0   \n",
       "\n",
       "   ОКФС_23  ОКФС_24  ОКФС_34  ОКФС_41  ОКФС_42  ОКФС_49  Tax_inspection_01  \\\n",
       "0        0        0        0        0        0        0                  0   \n",
       "1        0        0        0        0        0        0                  0   \n",
       "\n",
       "   Tax_inspection_02  Tax_inspection_03  Tax_inspection_04  Tax_inspection_05  \\\n",
       "0                  0                  0                  0                  0   \n",
       "1                  0                  0                  0                  0   \n",
       "\n",
       "   Tax_inspection_06  Tax_inspection_07  Tax_inspection_09  Tax_inspection_10  \\\n",
       "0                  0                  0                  0                  0   \n",
       "1                  0                  0                  0                  0   \n",
       "\n",
       "   Tax_inspection_11  Tax_inspection_12  Tax_inspection_13  Tax_inspection_14  \\\n",
       "0                  0                  0                  0                  0   \n",
       "1                  0                  0                  0                  0   \n",
       "\n",
       "   Tax_inspection_15  Tax_inspection_16  Tax_inspection_17  Tax_inspection_19  \\\n",
       "0                  0                  0                  0                  0   \n",
       "1                  0                  0                  0                  0   \n",
       "\n",
       "   Tax_inspection_20  Tax_inspection_21  Tax_inspection_22  Tax_inspection_23  \\\n",
       "0                  0                  0                  0                  0   \n",
       "1                  0                  0                  0                  0   \n",
       "\n",
       "   Tax_inspection_24  Tax_inspection_25  Tax_inspection_26  Tax_inspection_27  \\\n",
       "0                  0                  0                  0                  0   \n",
       "1                  0                  0                  0                  0   \n",
       "\n",
       "   Tax_inspection_28  Tax_inspection_29  Tax_inspection_30  Tax_inspection_31  \\\n",
       "0                  0                  0                  0                  0   \n",
       "1                  0                  0                  0                  0   \n",
       "\n",
       "   Tax_inspection_32  Tax_inspection_33  Tax_inspection_34  Tax_inspection_35  \\\n",
       "0                  0                  0                  0                  0   \n",
       "1                  0                  0                  0                  0   \n",
       "\n",
       "   Tax_inspection_36  Tax_inspection_37  Tax_inspection_38  Tax_inspection_39  \\\n",
       "0                  0                  0                  0                  0   \n",
       "1                  0                  0                  0                  0   \n",
       "\n",
       "   Tax_inspection_40  Tax_inspection_42  Tax_inspection_43  Tax_inspection_44  \\\n",
       "0                  0                  0                  0                  0   \n",
       "1                  0                  0                  0                  0   \n",
       "\n",
       "   Tax_inspection_45  Tax_inspection_46  Tax_inspection_47  Tax_inspection_48  \\\n",
       "0                  0                  0                  0                  0   \n",
       "1                  0                  0                  0                  0   \n",
       "\n",
       "   Tax_inspection_49  Tax_inspection_50  Tax_inspection_51  Tax_inspection_52  \\\n",
       "0                  0                  0                  0                  0   \n",
       "1                  0                  0                  0                  0   \n",
       "\n",
       "   Tax_inspection_53  Tax_inspection_54  Tax_inspection_55  Tax_inspection_56  \\\n",
       "0                  0                  0                  0                  0   \n",
       "1                  0                  0                  0                  0   \n",
       "\n",
       "   Tax_inspection_57  Tax_inspection_58  Tax_inspection_59  Tax_inspection_60  \\\n",
       "0                  0                  1                  0                  0   \n",
       "1                  0                  0                  0                  0   \n",
       "\n",
       "   Tax_inspection_62  Tax_inspection_63  Tax_inspection_64  Tax_inspection_70  \\\n",
       "0                  0                  0                  0                  0   \n",
       "1                  0                  0                  0                  0   \n",
       "\n",
       "   Tax_inspection_71  Tax_inspection_72  Tax_inspection_73  Tax_inspection_74  \\\n",
       "0                  0                  0                  0                  0   \n",
       "1                  0                  0                  0                  1   \n",
       "\n",
       "   Tax_inspection_76  Tax_inspection_77  Tax_inspection_78  Tax_inspection_79  \\\n",
       "0                  0                  0                  0                  0   \n",
       "1                  0                  0                  0                  0   \n",
       "\n",
       "   Tax_inspection_80  Tax_inspection_81  Tax_inspection_82  Tax_inspection_83  \\\n",
       "0                  0                  0                  0                  0   \n",
       "1                  0                  0                  0                  0   \n",
       "\n",
       "   Tax_inspection_84  Tax_inspection_85  Tax_inspection_86  \n",
       "0                  0                  0                  0  \n",
       "1                  0                  0                  0  "
      ]
     },
     "execution_count": 68,
     "metadata": {},
     "output_type": "execute_result"
    }
   ],
   "source": [
    "df1_384.head(2)"
   ]
  },
  {
   "cell_type": "markdown",
   "metadata": {},
   "source": [
    "### Удаление признаков, которые не понадобятся для построения моделей"
   ]
  },
  {
   "cell_type": "code",
   "execution_count": 70,
   "metadata": {},
   "outputs": [],
   "source": [
    "df1_384 = df1_384.drop(['ОКПО', 'ОКОПФ', 'ОКФС', 'ОКВЭД', 'ИНН', 'Tax_inspection',\n",
    "       'Код единицы измерения', 'Тип отчета', '1120', '1140','1430','3314', '3316', '3324', '3326', 'Дата актуализации'], axis=1)"
   ]
  },
  {
   "cell_type": "code",
   "execution_count": 71,
   "metadata": {},
   "outputs": [
    {
     "data": {
      "text/plain": [
       "Index(['Наименование', '1110', '1130', '1150', '1160', '1170', '1180', '1190',\n",
       "       '1100', '1210',\n",
       "       ...\n",
       "       'Tax_inspection_77', 'Tax_inspection_78', 'Tax_inspection_79',\n",
       "       'Tax_inspection_80', 'Tax_inspection_81', 'Tax_inspection_82',\n",
       "       'Tax_inspection_83', 'Tax_inspection_84', 'Tax_inspection_85',\n",
       "       'Tax_inspection_86'],\n",
       "      dtype='object', length=152)"
      ]
     },
     "execution_count": 71,
     "metadata": {},
     "output_type": "execute_result"
    }
   ],
   "source": [
    "df1_384.columns"
   ]
  },
  {
   "cell_type": "markdown",
   "metadata": {},
   "source": [
    "### Датасеты для отдельных моделей"
   ]
  },
  {
   "cell_type": "code",
   "execution_count": 72,
   "metadata": {},
   "outputs": [],
   "source": [
    "# только статьи\n",
    "df1_384_articles = df1_384[['Наименование','1110', '1130','1150', '1160', '1170', '1180', '1190', '1100', '1210', '1220', '1230','1240', '1250', \n",
    "        '1260', '1200', '1600', '1310', '1320', '1340', '1350','1360', '1370', '1300', '1410', '1420', '1450', '1400', '1510', '1520',\n",
    "        '1530', '1540', '1550', '1500', '1700', '2110', '2120', '2100','2210', '2220', '2200', '2310', '2320', '2330', '2340', '2350', '2300',\n",
    "        '2410', '2421', '2430', '2450', '2460', '2400', '2510', '2520', '2500','3200', '3310', '3315', '3320', '3325', '3300', '3600', 'Ликвидировано']]\n",
    "# только данные по ОКФС, налоговой инспекции\n",
    "df1_384_info = df1_384.drop(['1110', '1130','1150', '1160', '1170', '1180', '1190', '1100', '1210', '1220', '1230','1240', '1250', \n",
    "        '1260', '1200', '1600', '1310', '1320', '1340', '1350','1360', '1370', '1300', '1410', '1420', '1450', '1400', '1510', '1520',\n",
    "        '1530', '1540', '1550', '1500', '1700', '2110', '2120', '2100','2210', '2220', '2200', '2310', '2320', '2330', '2340', '2350', '2300',\n",
    "        '2410', '2421', '2430', '2450', '2460', '2400', '2510', '2520', '2500','3200', '3310', '3315', '3320', '3325', '3300', '3600'], axis=1)\n",
    "# все вместе  - df1_384"
   ]
  },
  {
   "cell_type": "code",
   "execution_count": 73,
   "metadata": {},
   "outputs": [
    {
     "data": {
      "text/plain": [
       "Index(['Наименование', '1110', '1130', '1150', '1160', '1170', '1180', '1190',\n",
       "       '1100', '1210', '1220', '1230', '1240', '1250', '1260', '1200', '1600',\n",
       "       '1310', '1320', '1340', '1350', '1360', '1370', '1300', '1410', '1420',\n",
       "       '1450', '1400', '1510', '1520', '1530', '1540', '1550', '1500', '1700',\n",
       "       '2110', '2120', '2100', '2210', '2220', '2200', '2310', '2320', '2330',\n",
       "       '2340', '2350', '2300', '2410', '2421', '2430', '2450', '2460', '2400',\n",
       "       '2510', '2520', '2500', '3200', '3310', '3315', '3320', '3325', '3300',\n",
       "       '3600', 'Ликвидировано'],\n",
       "      dtype='object')"
      ]
     },
     "execution_count": 73,
     "metadata": {},
     "output_type": "execute_result"
    }
   ],
   "source": [
    "df1_384_articles.columns"
   ]
  },
  {
   "cell_type": "code",
   "execution_count": 74,
   "metadata": {
    "scrolled": true
   },
   "outputs": [
    {
     "data": {
      "text/plain": [
       "Index(['Наименование', 'Ликвидировано', 'ОКФС_10', 'ОКФС_12', 'ОКФС_13',\n",
       "       'ОКФС_16', 'ОКФС_17', 'ОКФС_19', 'ОКФС_23', 'ОКФС_24', 'ОКФС_34',\n",
       "       'ОКФС_41', 'ОКФС_42', 'ОКФС_49', 'Tax_inspection_01',\n",
       "       'Tax_inspection_02', 'Tax_inspection_03', 'Tax_inspection_04',\n",
       "       'Tax_inspection_05', 'Tax_inspection_06', 'Tax_inspection_07',\n",
       "       'Tax_inspection_09', 'Tax_inspection_10', 'Tax_inspection_11',\n",
       "       'Tax_inspection_12', 'Tax_inspection_13', 'Tax_inspection_14',\n",
       "       'Tax_inspection_15', 'Tax_inspection_16', 'Tax_inspection_17',\n",
       "       'Tax_inspection_19', 'Tax_inspection_20', 'Tax_inspection_21',\n",
       "       'Tax_inspection_22', 'Tax_inspection_23', 'Tax_inspection_24',\n",
       "       'Tax_inspection_25', 'Tax_inspection_26', 'Tax_inspection_27',\n",
       "       'Tax_inspection_28', 'Tax_inspection_29', 'Tax_inspection_30',\n",
       "       'Tax_inspection_31', 'Tax_inspection_32', 'Tax_inspection_33',\n",
       "       'Tax_inspection_34', 'Tax_inspection_35', 'Tax_inspection_36',\n",
       "       'Tax_inspection_37', 'Tax_inspection_38', 'Tax_inspection_39',\n",
       "       'Tax_inspection_40', 'Tax_inspection_42', 'Tax_inspection_43',\n",
       "       'Tax_inspection_44', 'Tax_inspection_45', 'Tax_inspection_46',\n",
       "       'Tax_inspection_47', 'Tax_inspection_48', 'Tax_inspection_49',\n",
       "       'Tax_inspection_50', 'Tax_inspection_51', 'Tax_inspection_52',\n",
       "       'Tax_inspection_53', 'Tax_inspection_54', 'Tax_inspection_55',\n",
       "       'Tax_inspection_56', 'Tax_inspection_57', 'Tax_inspection_58',\n",
       "       'Tax_inspection_59', 'Tax_inspection_60', 'Tax_inspection_62',\n",
       "       'Tax_inspection_63', 'Tax_inspection_64', 'Tax_inspection_70',\n",
       "       'Tax_inspection_71', 'Tax_inspection_72', 'Tax_inspection_73',\n",
       "       'Tax_inspection_74', 'Tax_inspection_76', 'Tax_inspection_77',\n",
       "       'Tax_inspection_78', 'Tax_inspection_79', 'Tax_inspection_80',\n",
       "       'Tax_inspection_81', 'Tax_inspection_82', 'Tax_inspection_83',\n",
       "       'Tax_inspection_84', 'Tax_inspection_85', 'Tax_inspection_86'],\n",
       "      dtype='object')"
      ]
     },
     "execution_count": 74,
     "metadata": {},
     "output_type": "execute_result"
    }
   ],
   "source": [
    "df1_384_info.columns"
   ]
  },
  {
   "cell_type": "markdown",
   "metadata": {},
   "source": [
    "### Разделение на train и test"
   ]
  },
  {
   "cell_type": "code",
   "execution_count": 88,
   "metadata": {},
   "outputs": [
    {
     "data": {
      "text/plain": [
       "((1036, 64), (1036, 90), (1036, 152))"
      ]
     },
     "execution_count": 88,
     "metadata": {},
     "output_type": "execute_result"
    }
   ],
   "source": [
    "df1_384_articles.shape, df1_384_info.shape, df1_384.shape"
   ]
  },
  {
   "cell_type": "code",
   "execution_count": 89,
   "metadata": {},
   "outputs": [
    {
     "data": {
      "text/plain": [
       "828.8000000000001"
      ]
     },
     "execution_count": 89,
     "metadata": {},
     "output_type": "execute_result"
    }
   ],
   "source": [
    "abs(df1_384['Наименование'].count()*0.80)"
   ]
  },
  {
   "cell_type": "code",
   "execution_count": 97,
   "metadata": {},
   "outputs": [],
   "source": [
    "# весь датасет\n",
    "df1_384_train = df1_384[0:829]\n",
    "df1_384_test = df1_384[828:1037]\n",
    "# только статьи\n",
    "df1_384_articles_train = df1_384_articles[0:829]\n",
    "df1_384_articles_test = df1_384_articles[828:1037]\n",
    "# только данные по ОКФС, налоговой инспекции\n",
    "df1_384_info_train = df1_384_info[0:829]\n",
    "df1_384_info_test = df1_384_info[828:1037]"
   ]
  },
  {
   "cell_type": "code",
   "execution_count": 91,
   "metadata": {},
   "outputs": [
    {
     "data": {
      "text/plain": [
       "0    820\n",
       "1      9\n",
       "Name: Ликвидировано, dtype: int64"
      ]
     },
     "execution_count": 91,
     "metadata": {},
     "output_type": "execute_result"
    }
   ],
   "source": [
    "df1_384_train['Ликвидировано'].value_counts()"
   ]
  },
  {
   "cell_type": "code",
   "execution_count": 92,
   "metadata": {},
   "outputs": [
    {
     "data": {
      "text/plain": [
       "0    206\n",
       "1      2\n",
       "Name: Ликвидировано, dtype: int64"
      ]
     },
     "execution_count": 92,
     "metadata": {},
     "output_type": "execute_result"
    }
   ],
   "source": [
    "df1_384_test['Ликвидировано'].value_counts()"
   ]
  },
  {
   "cell_type": "code",
   "execution_count": 93,
   "metadata": {},
   "outputs": [
    {
     "data": {
      "text/plain": [
       "(0.010856453558504222, 0.009615384615384616)"
      ]
     },
     "execution_count": 93,
     "metadata": {},
     "output_type": "execute_result"
    }
   ],
   "source": [
    "# соотношение классов \n",
    "df1_384_train['Ликвидировано'].sum()/len(df1_384_train), df1_384_test['Ликвидировано'].sum()/len(df1_384_test)"
   ]
  },
  {
   "cell_type": "code",
   "execution_count": 98,
   "metadata": {},
   "outputs": [],
   "source": [
    "# отделим признаки от целевой переменной для каждого датасета\n",
    "# все признаки\n",
    "x_train, y_train = df1_384_train.drop(['Наименование','Ликвидировано'],1), df1_384_train['Ликвидировано']\n",
    "x_test, y_test = df1_384_test.drop(['Наименование', 'Ликвидировано'],1), df1_384_test['Ликвидировано']\n",
    "# только статьи\n",
    "x_articles_train, y_articles_train = df1_384_articles_train.drop(['Наименование','Ликвидировано'],1), df1_384_articles_train['Ликвидировано']\n",
    "x_articles_test, y_articles_test = df1_384_articles_test.drop(['Наименование', 'Ликвидировано'],1), df1_384_articles_test['Ликвидировано']\n",
    "# только данные по ОКФС, налоговой инспекции\n",
    "df1_384_info\n",
    "x_info_train, y_info_train = df1_384_info_train.drop(['Наименование','Ликвидировано'],1), df1_384_info_train['Ликвидировано']\n",
    "x_info_test, y_info_test = df1_384_info_test.drop(['Наименование', 'Ликвидировано'],1), df1_384_info_test['Ликвидировано']"
   ]
  },
  {
   "cell_type": "code",
   "execution_count": 95,
   "metadata": {},
   "outputs": [
    {
     "data": {
      "text/plain": [
       "((829, 150), (829,), (208, 150), (208,))"
      ]
     },
     "execution_count": 95,
     "metadata": {},
     "output_type": "execute_result"
    }
   ],
   "source": [
    "x_train.shape, y_train.shape, x_test.shape, y_test.shape"
   ]
  },
  {
   "cell_type": "code",
   "execution_count": 99,
   "metadata": {},
   "outputs": [
    {
     "data": {
      "text/plain": [
       "((829, 62), (829,), (208, 62), (208,))"
      ]
     },
     "execution_count": 99,
     "metadata": {},
     "output_type": "execute_result"
    }
   ],
   "source": [
    "x_articles_train.shape, y_articles_train.shape, x_articles_test.shape, y_articles_test.shape"
   ]
  },
  {
   "cell_type": "code",
   "execution_count": 100,
   "metadata": {},
   "outputs": [
    {
     "data": {
      "text/plain": [
       "((829, 88), (829,), (208, 88), (208,))"
      ]
     },
     "execution_count": 100,
     "metadata": {},
     "output_type": "execute_result"
    }
   ],
   "source": [
    "x_info_train.shape, y_info_train.shape, x_info_test.shape, y_info_test.shape"
   ]
  },
  {
   "cell_type": "markdown",
   "metadata": {},
   "source": [
    "### Отображение целевой"
   ]
  },
  {
   "cell_type": "code",
   "execution_count": 102,
   "metadata": {
    "scrolled": false
   },
   "outputs": [
    {
     "data": {
      "image/png": "[encoded data removed]",
      "text/plain": [
       "<matplotlib.figure.Figure at 0x179d2306b38>"
      ]
     },
     "metadata": {},
     "output_type": "display_data"
    }
   ],
   "source": [
    "plt.figure(figsize=(12, 5))\n",
    "plt.plot(y_train, 'go', color='b')\n",
    "\n",
    "plt.show()"
   ]
  },
  {
   "cell_type": "markdown",
   "metadata": {},
   "source": [
    "### Кросс-валидация и подбор параметров"
   ]
  },
  {
   "cell_type": "code",
   "execution_count": 130,
   "metadata": {},
   "outputs": [],
   "source": [
    "# функция кросс валидации\n",
    "def show_cv(clf_i, name, f, l, cv, score='r2', param=None, vbs=False):  #f1\n",
    "    if param: \n",
    "        grid_cv = GridSearchCV(\n",
    "            clf_i,\n",
    "            param,\n",
    "            scoring=score,\n",
    "            cv=cv,\n",
    "            verbose=vbs,\n",
    "            n_jobs=10\n",
    "        )\n",
    "        grid_cv.fit(f, l)\n",
    "        clf_i = grid_cv.best_estimator_\n",
    "        print(grid_cv.best_params_)\n",
    "    score = cross_val_score(clf_i,f,l,cv=cv, scoring=score, n_jobs=10)\n",
    "    print(name, score.mean(), score)\n",
    "    return score"
   ]
  },
  {
   "cell_type": "code",
   "execution_count": 133,
   "metadata": {
    "scrolled": true
   },
   "outputs": [
    {
     "name": "stdout",
     "output_type": "stream",
     "text": [
      "Fitting 3 folds for each of 360 candidates, totalling 1080 fits\n"
     ]
    },
    {
     "name": "stderr",
     "output_type": "stream",
     "text": [
      "[Parallel(n_jobs=10)]: Done  30 tasks      | elapsed:   16.8s\n",
      "[Parallel(n_jobs=10)]: Done 664 tasks      | elapsed:   19.2s\n",
      "[Parallel(n_jobs=10)]: Done 1080 out of 1080 | elapsed:   20.8s finished\n"
     ]
    },
    {
     "name": "stdout",
     "output_type": "stream",
     "text": [
      "{'C': 1, 'class_weight': 'balanced', 'loss': 'squared_hinge', 'max_iter': 50, 'penalty': 'l2', 'tol': 1e-05}\n",
      "LinearSVC -1.4712797340534574 [-1.02189781 -2.03296703 -1.35897436]\n",
      "Fitting 3 folds for each of 180 candidates, totalling 540 fits\n"
     ]
    },
    {
     "name": "stderr",
     "output_type": "stream",
     "text": [
      "[Parallel(n_jobs=10)]: Done  30 tasks      | elapsed:   13.1s\n",
      "[Parallel(n_jobs=10)]: Done 180 tasks      | elapsed:   16.3s\n",
      "[Parallel(n_jobs=10)]: Done 430 tasks      | elapsed:   21.9s\n",
      "[Parallel(n_jobs=10)]: Done 540 out of 540 | elapsed:   24.2s finished\n"
     ]
    },
    {
     "name": "stdout",
     "output_type": "stream",
     "text": [
      "{'C': 10, 'class_weight': 'balanced', 'max_iter': 100, 'tol': 1e-05}\n",
      "SVC -0.347971979358841 [-0.01094891 -0.01098901 -1.02197802]\n"
     ]
    }
   ],
   "source": [
    "ridge_model=RidgeClassifier(random_state=0)\n",
    "# lasso_model=Lasso(random_state=0)\n",
    "logist_model=LogisticRegression(random_state=0)  \n",
    "tree_model=DecisionTreeClassifier(random_state=0)\n",
    "rf_model=RandomForestClassifier(random_state=0)\n",
    "xgb_model = xgb.XGBClassifier(random_state=0)\n",
    "linear_svc_model = LinearSVC(random_state=0)\n",
    "svc_model = SVC(random_state=0)\n",
    "\n",
    "clfs = [\n",
    "        [\"Ridge\", ridge_model],\n",
    "#         [\"Lasso\", lasso_model],\n",
    "        [\"LogistRegr\", logist_model],\n",
    "        [\"Tree\", tree_model],\n",
    "        [\"RandomForest\", rf_model],\n",
    "        [\"XGBoost\", xgb_model],\n",
    "        [\"LinearSVC\", linear_svc_model],\n",
    "        [\"SVC\", svc_model]\n",
    "       ]\n",
    "\n",
    "parameters = {\n",
    "             \"Ridge\": \n",
    "              {\n",
    "                  \"alpha\": [0.001, 0.05, 0.1, 0.3,0.5, 1, 3, 5, 10, 15, 30, 50, 75, 100]\n",
    "              },\n",
    "#              \"Lasso\": \n",
    "#               {\n",
    "#                   \"alpha\": [1,0.3, 0.5, 0.7, 0.1,0.01, 0.05, 0.001, 0.0005]\n",
    "#               },\n",
    "              \"LogistRegr\":\n",
    "              {\n",
    "                  \"penalty\": ['l1','l2'],\n",
    "                  \"C\" : [0.00001,0.0001,0.001,0.01,0.1,1,10,100,1000],\n",
    "                  \"max_iter\": [100,200,300,400,500,600,700,800,900,1000],\n",
    "                  \"tol\": [1e-5,1e-4,1e-3,1e-2], \n",
    "                  \"class_weight\": ['balanced']       \n",
    "              },\n",
    "              \"Tree\":\n",
    "              {\n",
    "                   \"max_depth\":[5,10,15],\n",
    "                   \"max_features\":[0.6,0.7,0.8,0.9],\n",
    "                   \"min_samples_split\":[2,3,5,7]\n",
    "\n",
    "              },\n",
    "              \"RandomForest\":\n",
    "              {\n",
    "                  \"max_depth\":[4,5,6,8],\n",
    "                  \"max_features\":[0.4,0.5,0.6,0.7,0.8],\n",
    "                  \"min_samples_split\":[2,3,5,7],\n",
    "                  \"n_estimators\":[20,30,40,50,100]\n",
    "              },\n",
    "              \"XGBoost\":\n",
    "              {\n",
    "                  \"n_estimators\": [20,30,40,50,100],\n",
    "                  \"max_depth\": [3, 5, 7,10],\n",
    "                  \"learning_rate\": [0.01, 0.1, 0,2, 0,5],\n",
    "                  \"subsample\": [0.4, 0.5, 0.6, 0.8],\n",
    "                  \"colsample_bytree\": [0.5, 0.6, 0.7],\n",
    "                  'gamma': [0.1,0.2,0.3,0.5,1]  \n",
    "              },\n",
    "                 \"LinearSVC\":\n",
    "              {\n",
    "                    \"penalty\": ['l2'],\n",
    "                    \"loss\": ['hinge', 'squared_hinge'],\n",
    "                    \"tol\": [1e-5,1e-4,1e-3,1e-2],\n",
    "                    \"C\" : [0.00001,0.0001,0.001,0.01,0.1,1,10,100,1000],\n",
    "                    \"class_weight\": ['balanced'], \n",
    "                    \"max_iter\": [50,100,150,200,250]\n",
    "              },\n",
    "                \"SVC\":\n",
    "              {\n",
    "                    \"tol\": [1e-5,1e-4,1e-3,1e-2],\n",
    "                    \"C\" : [0.00001,0.0001,0.001,0.01,0.1,1,10,100,1000],\n",
    "                    \"class_weight\": ['balanced'], \n",
    "                    \"max_iter\": [50,100,150,200,250] \n",
    "              }             \n",
    "           \n",
    "             }\n",
    "\n",
    "size = len(y_train)\n",
    "folds = 3\n",
    "cv = KFold(size, n_folds = folds, shuffle = True, random_state = 0)\n",
    "\n",
    "score_ridge = show_cv(ridge_model, \"Ridge\", x_train, y_train, cv = cv, param = parameters.get(\"Ridge\"), vbs = True)\n",
    "# score_lasso = show_cv(lasso_model, \"Lasso\", x_train, y_train, cv = cv, param = parameters.get(\"Lasso\"), vbs = True)\n",
    "score_logist= show_cv(logist_model,\"LogistRegr\",x_train, y_train,cv=cv,param=parameters.get(\"LogistRegr\"),vbs=True)\n",
    "score_tree= show_cv(tree_model,\"Tree\",x_train, y_train,cv=cv,param=parameters.get(\"Tree\"),vbs=True)\n",
    "score_rf = show_cv(rf_model, \"RandomForest\", x_train, y_train, cv = cv, param = parameters.get(\"RandomForest\"), vbs = True)\n",
    "score_xgb = show_cv(xgb_model, \"XGBoost\", x_train, y_train, cv = cv, param = parameters.get(\"XGBoost\"), vbs = True)\n",
    "score_linear_svc = show_cv(linear_svc_model, \"LinearSVC\", x_train, y_train, cv = cv, param = parameters.get(\"LinearSVC\"), vbs = True)\n",
    "score_svc = show_cv(svc_model, \"SVC\", x_train, y_train, cv = cv, param = parameters.get(\"SVC\"), vbs = True)"
   ]
  },
  {
   "cell_type": "code",
   "execution_count": 134,
   "metadata": {},
   "outputs": [],
   "source": [
    "# Лучшие параметры\n",
    "#     {'alpha': 3}\n",
    "# Ridge -0.23563541081789285 [-0.34793187 -0.01098901 -0.34798535]\n",
    "#     {'alpha': 0.7}\n",
    "# Lasso -0.13242779791670692 [-0.26225194 -0.01681966 -0.1182118 ]\n",
    "#     {'C': 1e-05, 'class_weight': 'balanced', 'max_iter': 100, 'penalty': 'l1', 'tol': 1e-05}\n",
    "# LogistRegr -3.1562124007379495 [-4.72871046 -2.70695971 -2.03296703]\n",
    "#     {'max_depth': 5, 'max_features': 0.6, 'min_samples_split': 7}\n",
    "# Tree -0.01097564236250396 [-0.01094891 -0.01098901 -0.01098901]\n",
    "#     {'max_depth': 4, 'max_features': 0.7, 'min_samples_split': 2, 'n_estimators': 40}\n",
    "# RandomForest 0.10135646996960838 [-0.01094891  0.32600733 -0.01098901]\n",
    "#     {'colsample_bytree': 0.6, 'gamma': 0.1, 'learning_rate': 2, 'max_depth': 3, 'n_estimators': 20, 'subsample': 0.4}\n",
    "# XGBoost 0.10135646996960841 [-0.01094891 -0.01098901  0.32600733]\n",
    "#     {'C': 1, 'class_weight': 'balanced', 'loss': 'squared_hinge', 'max_iter': 50, 'penalty': 'l2', 'tol': 1e-05}\n",
    "# LinearSVC -1.4712797340534574 [-1.02189781 -2.03296703 -1.35897436]\n",
    "#     {'C': 10, 'class_weight': 'balanced', 'max_iter': 100, 'tol': 1e-05}\n",
    "# SVC -0.347971979358841 [-0.01094891 -0.01098901 -1.02197802]"
   ]
  },
  {
   "cell_type": "code",
   "execution_count": 143,
   "metadata": {},
   "outputs": [],
   "source": [
    "def mae(y_true, y_pred): \n",
    "    y_true, y_pred = np.array(y_true), np.array(y_pred)\n",
    "    return np.mean(np.abs((y_true - y_pred))) \n",
    "def smape(y_true, y_pred):\n",
    "    y_true, y_pred = np.array(y_true), np.array(y_pred)\n",
    "    return 100*np.mean((np.abs(y_true - y_pred))/(abs(y_true)+abs(y_pred)))\n",
    "def mean_absolute_percentage_error(y_true, y_pred): \n",
    "    y_true, y_pred = np.array(y_true), np.array(y_pred)\n",
    "    return np.mean(np.abs((y_true - y_pred) / y_true)) * 100\n",
    "def wape(y_true, y_pred): \n",
    "    y_true, y_pred = np.array(y_true), np.array(y_pred)\n",
    "    return 100*sum(np.abs((y_true - y_pred)))/sum(y_true)"
   ]
  },
  {
   "cell_type": "markdown",
   "metadata": {},
   "source": [
    "### Ridge"
   ]
  },
  {
   "cell_type": "code",
   "execution_count": 155,
   "metadata": {},
   "outputs": [
    {
     "data": {
      "text/plain": [
       "RidgeClassifier(alpha=3, class_weight=None, copy_X=True, fit_intercept=True,\n",
       "        max_iter=None, normalize=True, random_state=0, solver='auto',\n",
       "        tol=0.001)"
      ]
     },
     "execution_count": 155,
     "metadata": {},
     "output_type": "execute_result"
    }
   ],
   "source": [
    "clf_ridge = RidgeClassifier(alpha=3,  random_state =0, normalize=True)\n",
    "clf_ridge.fit(x_train, y_train) "
   ]
  },
  {
   "cell_type": "code",
   "execution_count": 156,
   "metadata": {},
   "outputs": [
    {
     "data": {
      "text/plain": [
       "0.9891435464414958"
      ]
     },
     "execution_count": 156,
     "metadata": {},
     "output_type": "execute_result"
    }
   ],
   "source": [
    "clf_ridge.score(x_train, y_train)"
   ]
  },
  {
   "cell_type": "code",
   "execution_count": 157,
   "metadata": {},
   "outputs": [],
   "source": [
    "ridge = clf_ridge.predict(x_test)"
   ]
  },
  {
   "cell_type": "code",
   "execution_count": 158,
   "metadata": {},
   "outputs": [
    {
     "data": {
      "image/png": "[encoded data removed]",
      "text/plain": [
       "<matplotlib.figure.Figure at 0x179d54a47f0>"
      ]
     },
     "metadata": {},
     "output_type": "display_data"
    }
   ],
   "source": [
    "plt.figure(figsize=(20, 5))\n",
    "plt.plot(ridge, \".r-\", label=\"forecast\")\n",
    "\n",
    "plt.plot(y_test.values, label=\"fact\")\n",
    "plt.legend(loc=\"best\")\n",
    "plt.title(\"wape {} %\".format(round(wape(y_test, ridge))))\n",
    "plt.legend(loc=\"best\")\n",
    "plt.legend()\n",
    "plt.grid(True)"
   ]
  },
  {
   "cell_type": "code",
   "execution_count": 159,
   "metadata": {},
   "outputs": [
    {
     "data": {
      "image/png": "[encoded data removed]",
      "text/plain": [
       "<matplotlib.figure.Figure at 0x179d4c8b208>"
      ]
     },
     "metadata": {},
     "output_type": "display_data"
    }
   ],
   "source": [
    "plt.figure(figsize=(16, 5))\n",
    "plt.plot(ridge, 'go', color='r', label=\"forecast\")\n",
    "plt.plot(y_test.values, 'go', color='b',label=\"fact\")\n",
    "plt.legend(loc=\"best\")\n",
    "plt.title(\"wape {} %\".format(round(wape(y_test, ridge))))\n",
    "plt.legend(loc=\"best\")\n",
    "plt.legend()\n",
    "plt.grid(True)"
   ]
  },
  {
   "cell_type": "code",
   "execution_count": 160,
   "metadata": {},
   "outputs": [
    {
     "data": {
      "text/plain": [
       "0.009615384615384616"
      ]
     },
     "execution_count": 160,
     "metadata": {},
     "output_type": "execute_result"
    }
   ],
   "source": [
    "mae(y_test.values, ridge)"
   ]
  },
  {
   "cell_type": "code",
   "execution_count": 161,
   "metadata": {},
   "outputs": [
    {
     "data": {
      "text/plain": [
       "-0.009708737864077444"
      ]
     },
     "execution_count": 161,
     "metadata": {},
     "output_type": "execute_result"
    }
   ],
   "source": [
    "coefficient_of_dermination = r2_score(y_test.values, ridge)\n",
    "coefficient_of_dermination"
   ]
  },
  {
   "cell_type": "markdown",
   "metadata": {},
   "source": [
    "### Lasso"
   ]
  },
  {
   "cell_type": "code",
   "execution_count": 170,
   "metadata": {},
   "outputs": [
    {
     "data": {
      "text/plain": [
       "Lasso(alpha=0.7, copy_X=True, fit_intercept=True, max_iter=1000,\n",
       "   normalize=True, positive=False, precompute=False, random_state=0,\n",
       "   selection='cyclic', tol=0.0001, warm_start=False)"
      ]
     },
     "execution_count": 170,
     "metadata": {},
     "output_type": "execute_result"
    }
   ],
   "source": [
    "# clf_lasso = Lasso(alpha=0.7,  random_state =0, normalize=True)\n",
    "# clf_lasso.fit(x_train, y_train) "
   ]
  },
  {
   "cell_type": "code",
   "execution_count": 171,
   "metadata": {},
   "outputs": [
    {
     "data": {
      "text/plain": [
       "0.0"
      ]
     },
     "execution_count": 171,
     "metadata": {},
     "output_type": "execute_result"
    }
   ],
   "source": [
    "# clf_lasso.score(x_train, y_train)"
   ]
  },
  {
   "cell_type": "code",
   "execution_count": 172,
   "metadata": {},
   "outputs": [],
   "source": [
    "# lasso_forc = clf_lasso.predict(x_test)"
   ]
  },
  {
   "cell_type": "code",
   "execution_count": 173,
   "metadata": {},
   "outputs": [
    {
     "data": {
      "text/plain": [
       "0.020263060220840682"
      ]
     },
     "execution_count": 173,
     "metadata": {},
     "output_type": "execute_result"
    }
   ],
   "source": [
    "# mae(y_test.values, lasso_forc)"
   ]
  },
  {
   "cell_type": "code",
   "execution_count": 174,
   "metadata": {},
   "outputs": [
    {
     "data": {
      "image/png": "[encoded data removed]",
      "text/plain": [
       "<matplotlib.figure.Figure at 0x179d54e11d0>"
      ]
     },
     "metadata": {},
     "output_type": "display_data"
    }
   ],
   "source": [
    "# plt.figure(figsize=(20, 5))\n",
    "# plt.plot(lasso_forc, \".r-\", label=\"forecast\")\n",
    "\n",
    "# plt.plot(y_test.values, label=\"fact\")\n",
    "# plt.legend(loc=\"best\")\n",
    "# plt.title(\"wape {} %\".format(round(wape(y_test, lasso_forc))))\n",
    "# plt.legend(loc=\"best\")\n",
    "# plt.legend()\n",
    "# plt.grid(True)"
   ]
  },
  {
   "cell_type": "code",
   "execution_count": 175,
   "metadata": {},
   "outputs": [
    {
     "data": {
      "image/png": "[encoded data removed]",
      "text/plain": [
       "<matplotlib.figure.Figure at 0x179d56de278>"
      ]
     },
     "metadata": {},
     "output_type": "display_data"
    }
   ],
   "source": [
    "# plt.figure(figsize=(16, 5))\n",
    "# plt.plot(lasso_forc, 'go', color='r', label=\"forecast\")\n",
    "# plt.plot(y_test.values, 'go', color='b',label=\"fact\")\n",
    "# plt.legend(loc=\"best\")\n",
    "# plt.title(\"wape {} %\".format(round(wape(y_test, lasso_forc))))\n",
    "# plt.legend(loc=\"best\")\n",
    "# plt.legend()\n",
    "# plt.grid(True)"
   ]
  },
  {
   "cell_type": "code",
   "execution_count": 176,
   "metadata": {},
   "outputs": [
    {
     "data": {
      "text/plain": [
       "-0.0001617414266692485"
      ]
     },
     "execution_count": 176,
     "metadata": {},
     "output_type": "execute_result"
    }
   ],
   "source": [
    "# coefficient_of_dermination = r2_score(y_test.values, lasso_forc)\n",
    "# coefficient_of_dermination"
   ]
  },
  {
   "cell_type": "markdown",
   "metadata": {},
   "source": [
    "### LogistRegr"
   ]
  },
  {
   "cell_type": "code",
   "execution_count": 178,
   "metadata": {},
   "outputs": [
    {
     "data": {
      "text/plain": [
       "LogisticRegression(C=1e-05, class_weight='balanced', dual=False,\n",
       "          fit_intercept=True, intercept_scaling=1, max_iter=100,\n",
       "          multi_class='ovr', n_jobs=1, penalty='l1', random_state=1,\n",
       "          solver='liblinear', tol=1e-05, verbose=0, warm_start=False)"
      ]
     },
     "execution_count": 178,
     "metadata": {},
     "output_type": "execute_result"
    }
   ],
   "source": [
    "clf_logreg = LogisticRegression(C= 1e-05, class_weight= 'balanced', max_iter= 100, penalty= 'l1', tol= 1e-05,  random_state =1)\n",
    "clf_logreg.fit(x_train, y_train) "
   ]
  },
  {
   "cell_type": "code",
   "execution_count": 179,
   "metadata": {},
   "outputs": [
    {
     "data": {
      "text/plain": [
       "0.9589867310012062"
      ]
     },
     "execution_count": 179,
     "metadata": {},
     "output_type": "execute_result"
    }
   ],
   "source": [
    "clf_logreg.score(x_train, y_train)"
   ]
  },
  {
   "cell_type": "code",
   "execution_count": 180,
   "metadata": {},
   "outputs": [],
   "source": [
    "logreg_forc = clf_logreg.predict(x_test)"
   ]
  },
  {
   "cell_type": "code",
   "execution_count": 181,
   "metadata": {},
   "outputs": [
    {
     "data": {
      "text/plain": [
       "0.052884615384615384"
      ]
     },
     "execution_count": 181,
     "metadata": {},
     "output_type": "execute_result"
    }
   ],
   "source": [
    "mae(y_test.values, logreg_forc)"
   ]
  },
  {
   "cell_type": "code",
   "execution_count": 182,
   "metadata": {},
   "outputs": [
    {
     "data": {
      "image/png": "[encoded data removed]",
      "text/plain": [
       "<matplotlib.figure.Figure at 0x179d5565048>"
      ]
     },
     "metadata": {},
     "output_type": "display_data"
    }
   ],
   "source": [
    "plt.figure(figsize=(20, 5))\n",
    "plt.plot(logreg_forc, \".r-\", label=\"forecast\")\n",
    "\n",
    "plt.plot(y_test.values, label=\"fact\")\n",
    "plt.legend(loc=\"best\")\n",
    "plt.title(\"wape {} %\".format(round(wape(y_test, logreg_forc))))\n",
    "plt.legend(loc=\"best\")\n",
    "plt.legend()\n",
    "plt.grid(True)"
   ]
  },
  {
   "cell_type": "code",
   "execution_count": 183,
   "metadata": {},
   "outputs": [
    {
     "data": {
      "image/png": "[encoded data removed]",
      "text/plain": [
       "<matplotlib.figure.Figure at 0x179d55ee550>"
      ]
     },
     "metadata": {},
     "output_type": "display_data"
    }
   ],
   "source": [
    "plt.figure(figsize=(16, 5))\n",
    "plt.plot(logreg_forc, 'go', color='r', label=\"forecast\")\n",
    "plt.plot(y_test.values, 'go', color='b',label=\"fact\")\n",
    "plt.legend(loc=\"best\")\n",
    "plt.title(\"wape {} %\".format(round(wape(y_test, logreg_forc))))\n",
    "plt.legend(loc=\"best\")\n",
    "plt.legend()\n",
    "plt.grid(True)"
   ]
  },
  {
   "cell_type": "code",
   "execution_count": 184,
   "metadata": {},
   "outputs": [
    {
     "data": {
      "text/plain": [
       "-4.5533980582524265"
      ]
     },
     "execution_count": 184,
     "metadata": {},
     "output_type": "execute_result"
    }
   ],
   "source": [
    "coefficient_of_dermination = r2_score(y_test.values, logreg_forc)\n",
    "coefficient_of_dermination"
   ]
  },
  {
   "cell_type": "markdown",
   "metadata": {},
   "source": [
    "### Tree"
   ]
  },
  {
   "cell_type": "code",
   "execution_count": 185,
   "metadata": {},
   "outputs": [
    {
     "data": {
      "text/plain": [
       "DecisionTreeClassifier(class_weight=None, criterion='gini', max_depth=5,\n",
       "            max_features=0.6, max_leaf_nodes=None,\n",
       "            min_impurity_decrease=0.0, min_impurity_split=None,\n",
       "            min_samples_leaf=1, min_samples_split=7,\n",
       "            min_weight_fraction_leaf=0.0, presort=False, random_state=0,\n",
       "            splitter='best')"
      ]
     },
     "execution_count": 185,
     "metadata": {},
     "output_type": "execute_result"
    }
   ],
   "source": [
    "clf_tree = DecisionTreeClassifier(max_depth = 5, max_features = 0.6,  min_samples_split = 7, random_state =0)\n",
    "clf_tree.fit(x_train, y_train) "
   ]
  },
  {
   "cell_type": "code",
   "execution_count": 186,
   "metadata": {},
   "outputs": [
    {
     "data": {
      "text/plain": [
       "0.991556091676719"
      ]
     },
     "execution_count": 186,
     "metadata": {},
     "output_type": "execute_result"
    }
   ],
   "source": [
    "clf_tree.score(x_train, y_train)"
   ]
  },
  {
   "cell_type": "code",
   "execution_count": 187,
   "metadata": {},
   "outputs": [],
   "source": [
    "tree_forc = clf_tree.predict(x_test)"
   ]
  },
  {
   "cell_type": "code",
   "execution_count": 189,
   "metadata": {},
   "outputs": [
    {
     "data": {
      "text/plain": [
       "0.009615384615384616"
      ]
     },
     "execution_count": 189,
     "metadata": {},
     "output_type": "execute_result"
    }
   ],
   "source": [
    "mae(y_test.values, tree_forc)"
   ]
  },
  {
   "cell_type": "code",
   "execution_count": 190,
   "metadata": {},
   "outputs": [
    {
     "data": {
      "image/png": "[encoded data removed]",
      "text/plain": [
       "<matplotlib.figure.Figure at 0x179d5655b70>"
      ]
     },
     "metadata": {},
     "output_type": "display_data"
    }
   ],
   "source": [
    "plt.figure(figsize=(20, 5))\n",
    "plt.plot(tree_forc, \".r-\", label=\"forecast\")\n",
    "plt.plot(y_test.values, label=\"fact\")\n",
    "plt.legend(loc=\"best\")\n",
    "plt.title(\"wape {} %\".format(round(wape(y_test, tree_forc))))\n",
    "plt.legend(loc=\"best\")\n",
    "plt.legend()\n",
    "plt.grid(True)"
   ]
  },
  {
   "cell_type": "code",
   "execution_count": 192,
   "metadata": {},
   "outputs": [
    {
     "data": {
      "image/png": "[encoded data removed]",
      "text/plain": [
       "<matplotlib.figure.Figure at 0x179d57f2a90>"
      ]
     },
     "metadata": {},
     "output_type": "display_data"
    }
   ],
   "source": [
    "plt.figure(figsize=(20, 5))\n",
    "plt.plot(tree_forc[1:100], 'go', color = 'r', label=\"forecast\")\n",
    "plt.plot(y_test.values[1:100], 'go', color = 'b',label=\"fact\")\n",
    "plt.legend(loc=\"best\")\n",
    "plt.title(\"wape {} %\".format(round(wape(y_test, tree_forc))))\n",
    "plt.legend(loc=\"best\")\n",
    "plt.legend()\n",
    "plt.grid(True)"
   ]
  },
  {
   "cell_type": "code",
   "execution_count": 193,
   "metadata": {},
   "outputs": [
    {
     "data": {
      "text/plain": [
       "-0.009708737864077444"
      ]
     },
     "execution_count": 193,
     "metadata": {},
     "output_type": "execute_result"
    }
   ],
   "source": [
    "coefficient_of_dermination = r2_score(y_test, tree_forc)\n",
    "coefficient_of_dermination"
   ]
  },
  {
   "cell_type": "code",
   "execution_count": 228,
   "metadata": {},
   "outputs": [
    {
     "data": {
      "text/html": [
       "<div>\n",
       "<style scoped>\n",
       "    .dataframe tbody tr th:only-of-type {\n",
       "        vertical-align: middle;\n",
       "    }\n",
       "\n",
       "    .dataframe tbody tr th {\n",
       "        vertical-align: top;\n",
       "    }\n",
       "\n",
       "    .dataframe thead th {\n",
       "        text-align: right;\n",
       "    }\n",
       "</style>\n",
       "<table border=\"1\" class=\"dataframe\">\n",
       "  <thead>\n",
       "    <tr style=\"text-align: right;\">\n",
       "      <th></th>\n",
       "      <th>coef</th>\n",
       "      <th>feat</th>\n",
       "    </tr>\n",
       "  </thead>\n",
       "  <tbody>\n",
       "    <tr>\n",
       "      <th>81</th>\n",
       "      <td>0.386800</td>\n",
       "      <td>Tax_inspection_09</td>\n",
       "    </tr>\n",
       "    <tr>\n",
       "      <th>0</th>\n",
       "      <td>0.385867</td>\n",
       "      <td>1110</td>\n",
       "    </tr>\n",
       "    <tr>\n",
       "      <th>92</th>\n",
       "      <td>0.092368</td>\n",
       "      <td>Tax_inspection_21</td>\n",
       "    </tr>\n",
       "    <tr>\n",
       "      <th>22</th>\n",
       "      <td>0.074490</td>\n",
       "      <td>1300</td>\n",
       "    </tr>\n",
       "    <tr>\n",
       "      <th>103</th>\n",
       "      <td>0.060474</td>\n",
       "      <td>Tax_inspection_32</td>\n",
       "    </tr>\n",
       "    <tr>\n",
       "      <th>98</th>\n",
       "      <td>0.000000</td>\n",
       "      <td>Tax_inspection_27</td>\n",
       "    </tr>\n",
       "    <tr>\n",
       "      <th>99</th>\n",
       "      <td>0.000000</td>\n",
       "      <td>Tax_inspection_28</td>\n",
       "    </tr>\n",
       "    <tr>\n",
       "      <th>100</th>\n",
       "      <td>0.000000</td>\n",
       "      <td>Tax_inspection_29</td>\n",
       "    </tr>\n",
       "    <tr>\n",
       "      <th>101</th>\n",
       "      <td>0.000000</td>\n",
       "      <td>Tax_inspection_30</td>\n",
       "    </tr>\n",
       "    <tr>\n",
       "      <th>102</th>\n",
       "      <td>0.000000</td>\n",
       "      <td>Tax_inspection_31</td>\n",
       "    </tr>\n",
       "  </tbody>\n",
       "</table>\n",
       "</div>"
      ],
      "text/plain": [
       "         coef               feat\n",
       "81   0.386800  Tax_inspection_09\n",
       "0    0.385867               1110\n",
       "92   0.092368  Tax_inspection_21\n",
       "22   0.074490               1300\n",
       "103  0.060474  Tax_inspection_32\n",
       "98   0.000000  Tax_inspection_27\n",
       "99   0.000000  Tax_inspection_28\n",
       "100  0.000000  Tax_inspection_29\n",
       "101  0.000000  Tax_inspection_30\n",
       "102  0.000000  Tax_inspection_31"
      ]
     },
     "execution_count": 228,
     "metadata": {},
     "output_type": "execute_result"
    }
   ],
   "source": [
    "independent_columns_names = x_train.columns.values\n",
    "pd.DataFrame({'feat': independent_columns_names,\n",
    "              'coef': clf_tree.feature_importances_}).sort_values(by='coef', ascending=False).head(10)"
   ]
  },
  {
   "cell_type": "code",
   "execution_count": null,
   "metadata": {},
   "outputs": [],
   "source": [
    "# 1110 нематериальные активы\n",
    "# 1130 капитал и резервы"
   ]
  },
  {
   "cell_type": "code",
   "execution_count": 232,
   "metadata": {},
   "outputs": [
    {
     "data": {
      "image/png": "[encoded data removed]",
      "text/plain": [
       "<matplotlib.figure.Figure at 0x179d2fb3358>"
      ]
     },
     "metadata": {},
     "output_type": "display_data"
    }
   ],
   "source": [
    "import seaborn as sns \n",
    "from sklearn.metrics import confusion_matrix\n",
    "conf_mat = confusion_matrix(y_test, tree_forc)\n",
    "fig, ax = plt.subplots(figsize=(5,3))\n",
    "sns.heatmap(conf_mat, annot=True, fmt='d')\n",
    "plt.ylabel('Actual')\n",
    "plt.xlabel('Predicted')\n",
    "plt.show()"
   ]
  },
  {
   "cell_type": "code",
   "execution_count": 236,
   "metadata": {},
   "outputs": [
    {
     "name": "stdout",
     "output_type": "stream",
     "text": [
      "             precision    recall  f1-score   support\n",
      "\n",
      "          0       0.99      1.00      1.00       206\n",
      "          1       0.00      0.00      0.00         2\n",
      "\n",
      "avg / total       0.98      0.99      0.99       208\n",
      "\n"
     ]
    }
   ],
   "source": [
    "from sklearn import metrics \n",
    "print(metrics.classification_report(y_test, tree_forc))"
   ]
  },
  {
   "cell_type": "markdown",
   "metadata": {},
   "source": [
    "### RF"
   ]
  },
  {
   "cell_type": "code",
   "execution_count": 195,
   "metadata": {},
   "outputs": [
    {
     "data": {
      "text/plain": [
       "RandomForestClassifier(bootstrap=True, class_weight=None, criterion='gini',\n",
       "            max_depth=4, max_features=0.7, max_leaf_nodes=None,\n",
       "            min_impurity_decrease=0.0, min_impurity_split=None,\n",
       "            min_samples_leaf=1, min_samples_split=2,\n",
       "            min_weight_fraction_leaf=0.0, n_estimators=40, n_jobs=1,\n",
       "            oob_score=False, random_state=0, verbose=0, warm_start=False)"
      ]
     },
     "execution_count": 195,
     "metadata": {},
     "output_type": "execute_result"
    }
   ],
   "source": [
    "clf_rf = RandomForestClassifier(max_depth = 4, max_features = 0.7, min_samples_split = 2, n_estimators = 40, random_state =0)\n",
    "clf_rf.fit(x_train, y_train)"
   ]
  },
  {
   "cell_type": "code",
   "execution_count": 196,
   "metadata": {},
   "outputs": [
    {
     "data": {
      "text/plain": [
       "0.9927623642943305"
      ]
     },
     "execution_count": 196,
     "metadata": {},
     "output_type": "execute_result"
    }
   ],
   "source": [
    "clf_rf.score(x_train, y_train)"
   ]
  },
  {
   "cell_type": "code",
   "execution_count": 197,
   "metadata": {},
   "outputs": [],
   "source": [
    "RF_forc = clf_rf.predict(x_test)"
   ]
  },
  {
   "cell_type": "code",
   "execution_count": 198,
   "metadata": {},
   "outputs": [
    {
     "data": {
      "text/plain": [
       "0.009615384615384616"
      ]
     },
     "execution_count": 198,
     "metadata": {},
     "output_type": "execute_result"
    }
   ],
   "source": [
    "mae(y_test.values, RF_forc)"
   ]
  },
  {
   "cell_type": "code",
   "execution_count": 199,
   "metadata": {},
   "outputs": [
    {
     "data": {
      "image/png": "[encoded data removed]",
      "text/plain": [
       "<matplotlib.figure.Figure at 0x179d5d0e5f8>"
      ]
     },
     "metadata": {},
     "output_type": "display_data"
    }
   ],
   "source": [
    "plt.figure(figsize=(20, 5))\n",
    "plt.plot(RF_forc, \".r-\", label=\"forecast\")\n",
    "plt.plot(y_test.values, label=\"fact\")\n",
    "plt.legend(loc=\"best\")\n",
    "plt.title(\"wape {} %\".format(round(wape(y_test, RF_forc))))\n",
    "plt.legend(loc=\"best\")\n",
    "plt.legend()\n",
    "plt.grid(True)"
   ]
  },
  {
   "cell_type": "code",
   "execution_count": 200,
   "metadata": {},
   "outputs": [
    {
     "data": {
      "image/png": "[encoded data removed]",
      "text/plain": [
       "<matplotlib.figure.Figure at 0x179d674f470>"
      ]
     },
     "metadata": {},
     "output_type": "display_data"
    }
   ],
   "source": [
    "plt.figure(figsize=(20, 5))\n",
    "plt.plot(RF_forc[1:100], 'go', color = 'r', label=\"forecast\")\n",
    "plt.plot(y_test.values[1:100], 'go', color = 'b',label=\"fact\")\n",
    "plt.legend(loc=\"best\")\n",
    "plt.title(\"wape {} %\".format(round(wape(y_test, RF_forc))))\n",
    "plt.legend(loc=\"best\")\n",
    "plt.legend()\n",
    "plt.grid(True)"
   ]
  },
  {
   "cell_type": "code",
   "execution_count": 201,
   "metadata": {},
   "outputs": [
    {
     "data": {
      "text/plain": [
       "-0.009708737864077444"
      ]
     },
     "execution_count": 201,
     "metadata": {},
     "output_type": "execute_result"
    }
   ],
   "source": [
    "coefficient_of_dermination = r2_score(y_test, RF_forc)\n",
    "coefficient_of_dermination"
   ]
  },
  {
   "cell_type": "code",
   "execution_count": 229,
   "metadata": {},
   "outputs": [
    {
     "data": {
      "text/html": [
       "<div>\n",
       "<style scoped>\n",
       "    .dataframe tbody tr th:only-of-type {\n",
       "        vertical-align: middle;\n",
       "    }\n",
       "\n",
       "    .dataframe tbody tr th {\n",
       "        vertical-align: top;\n",
       "    }\n",
       "\n",
       "    .dataframe thead th {\n",
       "        text-align: right;\n",
       "    }\n",
       "</style>\n",
       "<table border=\"1\" class=\"dataframe\">\n",
       "  <thead>\n",
       "    <tr style=\"text-align: right;\">\n",
       "      <th></th>\n",
       "      <th>coef</th>\n",
       "      <th>feat</th>\n",
       "    </tr>\n",
       "  </thead>\n",
       "  <tbody>\n",
       "    <tr>\n",
       "      <th>81</th>\n",
       "      <td>0.138525</td>\n",
       "      <td>Tax_inspection_09</td>\n",
       "    </tr>\n",
       "    <tr>\n",
       "      <th>0</th>\n",
       "      <td>0.102151</td>\n",
       "      <td>1110</td>\n",
       "    </tr>\n",
       "    <tr>\n",
       "      <th>92</th>\n",
       "      <td>0.094149</td>\n",
       "      <td>Tax_inspection_21</td>\n",
       "    </tr>\n",
       "    <tr>\n",
       "      <th>22</th>\n",
       "      <td>0.084873</td>\n",
       "      <td>1300</td>\n",
       "    </tr>\n",
       "    <tr>\n",
       "      <th>103</th>\n",
       "      <td>0.047614</td>\n",
       "      <td>Tax_inspection_32</td>\n",
       "    </tr>\n",
       "    <tr>\n",
       "      <th>75</th>\n",
       "      <td>0.043770</td>\n",
       "      <td>Tax_inspection_02</td>\n",
       "    </tr>\n",
       "    <tr>\n",
       "      <th>33</th>\n",
       "      <td>0.043271</td>\n",
       "      <td>1700</td>\n",
       "    </tr>\n",
       "    <tr>\n",
       "      <th>34</th>\n",
       "      <td>0.043036</td>\n",
       "      <td>2110</td>\n",
       "    </tr>\n",
       "    <tr>\n",
       "      <th>35</th>\n",
       "      <td>0.035054</td>\n",
       "      <td>2120</td>\n",
       "    </tr>\n",
       "    <tr>\n",
       "      <th>12</th>\n",
       "      <td>0.031776</td>\n",
       "      <td>1250</td>\n",
       "    </tr>\n",
       "  </tbody>\n",
       "</table>\n",
       "</div>"
      ],
      "text/plain": [
       "         coef               feat\n",
       "81   0.138525  Tax_inspection_09\n",
       "0    0.102151               1110\n",
       "92   0.094149  Tax_inspection_21\n",
       "22   0.084873               1300\n",
       "103  0.047614  Tax_inspection_32\n",
       "75   0.043770  Tax_inspection_02\n",
       "33   0.043271               1700\n",
       "34   0.043036               2110\n",
       "35   0.035054               2120\n",
       "12   0.031776               1250"
      ]
     },
     "execution_count": 229,
     "metadata": {},
     "output_type": "execute_result"
    }
   ],
   "source": [
    "independent_columns_names = x_train.columns.values\n",
    "pd.DataFrame({'feat': independent_columns_names,\n",
    "              'coef': clf_rf.feature_importances_}).sort_values(by='coef', ascending=False).head(10)"
   ]
  },
  {
   "cell_type": "code",
   "execution_count": 233,
   "metadata": {},
   "outputs": [
    {
     "data": {
      "image/png": "[encoded data removed]",
      "text/plain": [
       "<matplotlib.figure.Figure at 0x179d69aa240>"
      ]
     },
     "metadata": {},
     "output_type": "display_data"
    }
   ],
   "source": [
    "import seaborn as sns \n",
    "from sklearn.metrics import confusion_matrix\n",
    "conf_mat = confusion_matrix(y_test, RF_forc)\n",
    "fig, ax = plt.subplots(figsize=(5,3))\n",
    "sns.heatmap(conf_mat, annot=True, fmt='d')\n",
    "plt.ylabel('Actual')\n",
    "plt.xlabel('Predicted')\n",
    "plt.show()"
   ]
  },
  {
   "cell_type": "code",
   "execution_count": 237,
   "metadata": {},
   "outputs": [
    {
     "name": "stdout",
     "output_type": "stream",
     "text": [
      "             precision    recall  f1-score   support\n",
      "\n",
      "          0       0.99      1.00      1.00       206\n",
      "          1       0.00      0.00      0.00         2\n",
      "\n",
      "avg / total       0.98      0.99      0.99       208\n",
      "\n"
     ]
    }
   ],
   "source": [
    "from sklearn import metrics \n",
    "print(metrics.classification_report(y_test, RF_forc))"
   ]
  },
  {
   "cell_type": "markdown",
   "metadata": {},
   "source": [
    "### XGBoost"
   ]
  },
  {
   "cell_type": "code",
   "execution_count": 203,
   "metadata": {},
   "outputs": [
    {
     "data": {
      "text/plain": [
       "XGBClassifier(base_score=0.5, booster='gbtree', colsample_bylevel=1,\n",
       "       colsample_bytree=0.6, gamma=0.1, learning_rate=2, max_delta_step=0,\n",
       "       max_depth=3, min_child_weight=1, missing=None, n_estimators=20,\n",
       "       n_jobs=1, nthread=None, objective='binary:logistic', random_state=0,\n",
       "       reg_alpha=0, reg_lambda=1, scale_pos_weight=1, seed=None,\n",
       "       silent=True, subsample=0.4)"
      ]
     },
     "execution_count": 203,
     "metadata": {},
     "output_type": "execute_result"
    }
   ],
   "source": [
    "clf_xgb = xgb.XGBClassifier(max_depth = 3, colsample_bytree = 0.6, gamma = 0.1, learning_rate = 2, n_estimators = 20, subsample = 0.4, random_state =0)\n",
    "clf_xgb.fit(x_train, y_train)"
   ]
  },
  {
   "cell_type": "code",
   "execution_count": 204,
   "metadata": {},
   "outputs": [
    {
     "data": {
      "text/plain": [
       "0.991556091676719"
      ]
     },
     "execution_count": 204,
     "metadata": {},
     "output_type": "execute_result"
    }
   ],
   "source": [
    "clf_xgb.score(x_train, y_train)"
   ]
  },
  {
   "cell_type": "code",
   "execution_count": 205,
   "metadata": {},
   "outputs": [],
   "source": [
    "xgb_forc = clf_xgb.predict(x_test)"
   ]
  },
  {
   "cell_type": "code",
   "execution_count": 206,
   "metadata": {},
   "outputs": [
    {
     "data": {
      "text/plain": [
       "0.009615384615384616"
      ]
     },
     "execution_count": 206,
     "metadata": {},
     "output_type": "execute_result"
    }
   ],
   "source": [
    "mae(y_test.values, xgb_forc)"
   ]
  },
  {
   "cell_type": "code",
   "execution_count": 207,
   "metadata": {},
   "outputs": [
    {
     "data": {
      "image/png": "[encoded data removed]",
      "text/plain": [
       "<matplotlib.figure.Figure at 0x179d5d24d68>"
      ]
     },
     "metadata": {},
     "output_type": "display_data"
    }
   ],
   "source": [
    "plt.figure(figsize=(20, 5))\n",
    "plt.plot(xgb_forc, \".r-\", label=\"forecast\")\n",
    "plt.plot(y_test.values, label=\"fact\")\n",
    "plt.legend(loc=\"best\")\n",
    "plt.title(\"wape {} %\".format(round(wape(y_test, xgb_forc))))\n",
    "plt.legend(loc=\"best\")\n",
    "plt.legend()\n",
    "plt.grid(True)"
   ]
  },
  {
   "cell_type": "code",
   "execution_count": 210,
   "metadata": {},
   "outputs": [
    {
     "data": {
      "image/png": "[encoded data removed]",
      "text/plain": [
       "<matplotlib.figure.Figure at 0x179d4ad7630>"
      ]
     },
     "metadata": {},
     "output_type": "display_data"
    }
   ],
   "source": [
    "plt.figure(figsize=(20, 5))\n",
    "plt.plot(xgb_forc[1:200], 'go', color = 'r', label=\"forecast\")\n",
    "plt.plot(y_test.values[1:200], 'go', color = 'b',label=\"fact\")\n",
    "plt.legend(loc=\"best\")\n",
    "plt.title(\"wape {} %\".format(round(wape(y_test, xgb_forc))))\n",
    "plt.legend(loc=\"best\")\n",
    "plt.legend()\n",
    "plt.grid(True)"
   ]
  },
  {
   "cell_type": "code",
   "execution_count": 211,
   "metadata": {},
   "outputs": [
    {
     "data": {
      "text/plain": [
       "-0.009708737864077444"
      ]
     },
     "execution_count": 211,
     "metadata": {},
     "output_type": "execute_result"
    }
   ],
   "source": [
    "coefficient_of_dermination = r2_score(y_test, xgb_forc)\n",
    "coefficient_of_dermination"
   ]
  },
  {
   "cell_type": "code",
   "execution_count": 230,
   "metadata": {},
   "outputs": [
    {
     "data": {
      "text/html": [
       "<div>\n",
       "<style scoped>\n",
       "    .dataframe tbody tr th:only-of-type {\n",
       "        vertical-align: middle;\n",
       "    }\n",
       "\n",
       "    .dataframe tbody tr th {\n",
       "        vertical-align: top;\n",
       "    }\n",
       "\n",
       "    .dataframe thead th {\n",
       "        text-align: right;\n",
       "    }\n",
       "</style>\n",
       "<table border=\"1\" class=\"dataframe\">\n",
       "  <thead>\n",
       "    <tr style=\"text-align: right;\">\n",
       "      <th></th>\n",
       "      <th>coef</th>\n",
       "      <th>feat</th>\n",
       "    </tr>\n",
       "  </thead>\n",
       "  <tbody>\n",
       "    <tr>\n",
       "      <th>15</th>\n",
       "      <td>0.260870</td>\n",
       "      <td>1600</td>\n",
       "    </tr>\n",
       "    <tr>\n",
       "      <th>2</th>\n",
       "      <td>0.130435</td>\n",
       "      <td>1150</td>\n",
       "    </tr>\n",
       "    <tr>\n",
       "      <th>8</th>\n",
       "      <td>0.086957</td>\n",
       "      <td>1210</td>\n",
       "    </tr>\n",
       "    <tr>\n",
       "      <th>33</th>\n",
       "      <td>0.086957</td>\n",
       "      <td>1700</td>\n",
       "    </tr>\n",
       "    <tr>\n",
       "      <th>22</th>\n",
       "      <td>0.086957</td>\n",
       "      <td>1300</td>\n",
       "    </tr>\n",
       "    <tr>\n",
       "      <th>14</th>\n",
       "      <td>0.043478</td>\n",
       "      <td>1200</td>\n",
       "    </tr>\n",
       "    <tr>\n",
       "      <th>27</th>\n",
       "      <td>0.043478</td>\n",
       "      <td>1510</td>\n",
       "    </tr>\n",
       "    <tr>\n",
       "      <th>12</th>\n",
       "      <td>0.043478</td>\n",
       "      <td>1250</td>\n",
       "    </tr>\n",
       "    <tr>\n",
       "      <th>34</th>\n",
       "      <td>0.043478</td>\n",
       "      <td>2110</td>\n",
       "    </tr>\n",
       "    <tr>\n",
       "      <th>28</th>\n",
       "      <td>0.043478</td>\n",
       "      <td>1520</td>\n",
       "    </tr>\n",
       "  </tbody>\n",
       "</table>\n",
       "</div>"
      ],
      "text/plain": [
       "        coef  feat\n",
       "15  0.260870  1600\n",
       "2   0.130435  1150\n",
       "8   0.086957  1210\n",
       "33  0.086957  1700\n",
       "22  0.086957  1300\n",
       "14  0.043478  1200\n",
       "27  0.043478  1510\n",
       "12  0.043478  1250\n",
       "34  0.043478  2110\n",
       "28  0.043478  1520"
      ]
     },
     "execution_count": 230,
     "metadata": {},
     "output_type": "execute_result"
    }
   ],
   "source": [
    "independent_columns_names = x_train.columns.values\n",
    "pd.DataFrame({'feat': independent_columns_names,\n",
    "              'coef': clf_xgb.feature_importances_}).sort_values(by='coef', ascending=False).head(10)"
   ]
  },
  {
   "cell_type": "code",
   "execution_count": 234,
   "metadata": {},
   "outputs": [
    {
     "data": {
      "image/png": "[encoded data removed]",
      "text/plain": [
       "<matplotlib.figure.Figure at 0x179d55a79b0>"
      ]
     },
     "metadata": {},
     "output_type": "display_data"
    }
   ],
   "source": [
    "import seaborn as sns \n",
    "from sklearn.metrics import confusion_matrix\n",
    "conf_mat = confusion_matrix(y_test, xgb_forc)\n",
    "fig, ax = plt.subplots(figsize=(5,3))\n",
    "sns.heatmap(conf_mat, annot=True, fmt='d')\n",
    "plt.ylabel('Actual')\n",
    "plt.xlabel('Predicted')\n",
    "plt.show()"
   ]
  },
  {
   "cell_type": "code",
   "execution_count": 238,
   "metadata": {},
   "outputs": [
    {
     "name": "stdout",
     "output_type": "stream",
     "text": [
      "             precision    recall  f1-score   support\n",
      "\n",
      "          0       0.99      1.00      1.00       206\n",
      "          1       0.00      0.00      0.00         2\n",
      "\n",
      "avg / total       0.98      0.99      0.99       208\n",
      "\n"
     ]
    }
   ],
   "source": [
    "from sklearn import metrics \n",
    "print(metrics.classification_report(y_test, xgb_forc))"
   ]
  },
  {
   "cell_type": "markdown",
   "metadata": {},
   "source": [
    "### LinearSVC"
   ]
  },
  {
   "cell_type": "code",
   "execution_count": 212,
   "metadata": {},
   "outputs": [
    {
     "data": {
      "text/plain": [
       "LinearSVC(C=1, class_weight='balanced', dual=True, fit_intercept=True,\n",
       "     intercept_scaling=1, loss='squared_hinge', max_iter=50,\n",
       "     multi_class='ovr', penalty='l2', random_state=0, tol=1e-05, verbose=0)"
      ]
     },
     "execution_count": 212,
     "metadata": {},
     "output_type": "execute_result"
    }
   ],
   "source": [
    "clf_lsvc = LinearSVC(C= 1, class_weight= 'balanced', loss= 'squared_hinge', max_iter= 50, penalty= 'l2', tol= 1e-05, random_state =0)\n",
    "clf_lsvc.fit(x_train, y_train)"
   ]
  },
  {
   "cell_type": "code",
   "execution_count": 213,
   "metadata": {},
   "outputs": [
    {
     "data": {
      "text/plain": [
       "0.971049457177322"
      ]
     },
     "execution_count": 213,
     "metadata": {},
     "output_type": "execute_result"
    }
   ],
   "source": [
    "clf_lsvc.score(x_train, y_train)"
   ]
  },
  {
   "cell_type": "code",
   "execution_count": 214,
   "metadata": {},
   "outputs": [],
   "source": [
    "lsvc_forc = clf_lsvc.predict(x_test)"
   ]
  },
  {
   "cell_type": "code",
   "execution_count": 215,
   "metadata": {},
   "outputs": [
    {
     "data": {
      "text/plain": [
       "0.057692307692307696"
      ]
     },
     "execution_count": 215,
     "metadata": {},
     "output_type": "execute_result"
    }
   ],
   "source": [
    "mae(y_test.values, lsvc_forc)"
   ]
  },
  {
   "cell_type": "code",
   "execution_count": 216,
   "metadata": {},
   "outputs": [
    {
     "data": {
      "image/png": "[encoded data removed]",
      "text/plain": [
       "<matplotlib.figure.Figure at 0x179d58e0cf8>"
      ]
     },
     "metadata": {},
     "output_type": "display_data"
    }
   ],
   "source": [
    "plt.figure(figsize=(20, 5))\n",
    "plt.plot(lsvc_forc, \".r-\", label=\"forecast\")\n",
    "plt.plot(y_test.values, label=\"fact\")\n",
    "plt.legend(loc=\"best\")\n",
    "plt.title(\"wape {} %\".format(round(wape(y_test, lsvc_forc))))\n",
    "plt.legend(loc=\"best\")\n",
    "plt.legend()\n",
    "plt.grid(True)"
   ]
  },
  {
   "cell_type": "code",
   "execution_count": 217,
   "metadata": {},
   "outputs": [
    {
     "data": {
      "image/png": "[encoded data removed]",
      "text/plain": [
       "<matplotlib.figure.Figure at 0x179d24934e0>"
      ]
     },
     "metadata": {},
     "output_type": "display_data"
    }
   ],
   "source": [
    "plt.figure(figsize=(20, 5))\n",
    "plt.plot(lsvc_forc, 'go', color = 'r', label=\"forecast\")\n",
    "plt.plot(y_test.values, 'go', color = 'b',label=\"fact\")\n",
    "plt.legend(loc=\"best\")\n",
    "plt.title(\"wape {} %\".format(round(wape(y_test, lsvc_forc))))\n",
    "plt.legend(loc=\"best\")\n",
    "plt.legend()\n",
    "plt.grid(True)"
   ]
  },
  {
   "cell_type": "code",
   "execution_count": 218,
   "metadata": {},
   "outputs": [
    {
     "data": {
      "text/plain": [
       "-5.058252427184465"
      ]
     },
     "execution_count": 218,
     "metadata": {},
     "output_type": "execute_result"
    }
   ],
   "source": [
    "coefficient_of_dermination = r2_score(y_test, lsvc_forc)\n",
    "coefficient_of_dermination"
   ]
  },
  {
   "cell_type": "code",
   "execution_count": 235,
   "metadata": {},
   "outputs": [
    {
     "data": {
      "image/png": "[encoded data removed]",
      "text/plain": [
       "<matplotlib.figure.Figure at 0x179d54cd550>"
      ]
     },
     "metadata": {},
     "output_type": "display_data"
    }
   ],
   "source": [
    "import seaborn as sns \n",
    "from sklearn.metrics import confusion_matrix\n",
    "conf_mat = confusion_matrix(y_test, lsvc_forc)\n",
    "fig, ax = plt.subplots(figsize=(5,3))\n",
    "sns.heatmap(conf_mat, annot=True, fmt='d')\n",
    "plt.ylabel('Actual')\n",
    "plt.xlabel('Predicted')\n",
    "plt.show()"
   ]
  },
  {
   "cell_type": "code",
   "execution_count": 239,
   "metadata": {},
   "outputs": [
    {
     "name": "stdout",
     "output_type": "stream",
     "text": [
      "             precision    recall  f1-score   support\n",
      "\n",
      "          0       0.99      0.95      0.97       206\n",
      "          1       0.00      0.00      0.00         2\n",
      "\n",
      "avg / total       0.98      0.94      0.96       208\n",
      "\n"
     ]
    }
   ],
   "source": [
    "from sklearn import metrics \n",
    "print(metrics.classification_report(y_test, lsvc_forc))"
   ]
  },
  {
   "cell_type": "markdown",
   "metadata": {},
   "source": [
    "### SVC"
   ]
  },
  {
   "cell_type": "code",
   "execution_count": 219,
   "metadata": {},
   "outputs": [
    {
     "data": {
      "text/plain": [
       "SVC(C=10, cache_size=200, class_weight='balanced', coef0=0.0,\n",
       "  decision_function_shape='ovr', degree=3, gamma='auto', kernel='rbf',\n",
       "  max_iter=100, probability=False, random_state=0, shrinking=True,\n",
       "  tol=1e-05, verbose=False)"
      ]
     },
     "execution_count": 219,
     "metadata": {},
     "output_type": "execute_result"
    }
   ],
   "source": [
    "clf_svc = SVC(C= 10, class_weight= 'balanced', max_iter= 100, tol= 1e-05, random_state =0)\n",
    "clf_svc.fit(x_train, y_train)"
   ]
  },
  {
   "cell_type": "code",
   "execution_count": 220,
   "metadata": {},
   "outputs": [
    {
     "data": {
      "text/plain": [
       "0.9951749095295537"
      ]
     },
     "execution_count": 220,
     "metadata": {},
     "output_type": "execute_result"
    }
   ],
   "source": [
    "clf_svc.score(x_train, y_train)"
   ]
  },
  {
   "cell_type": "code",
   "execution_count": 221,
   "metadata": {},
   "outputs": [],
   "source": [
    "svc_forc = clf_svc.predict(x_test)"
   ]
  },
  {
   "cell_type": "code",
   "execution_count": 222,
   "metadata": {},
   "outputs": [
    {
     "data": {
      "text/plain": [
       "0.028846153846153848"
      ]
     },
     "execution_count": 222,
     "metadata": {},
     "output_type": "execute_result"
    }
   ],
   "source": [
    "mae(y_test.values, svc_forc)"
   ]
  },
  {
   "cell_type": "code",
   "execution_count": 223,
   "metadata": {},
   "outputs": [
    {
     "data": {
      "image/png": "[encoded data removed]",
      "text/plain": [
       "<matplotlib.figure.Figure at 0x179d1b674a8>"
      ]
     },
     "metadata": {},
     "output_type": "display_data"
    }
   ],
   "source": [
    "plt.figure(figsize=(20, 5))\n",
    "plt.plot(svc_forc, \".r-\", label=\"forecast\")\n",
    "plt.plot(y_test.values, label=\"fact\")\n",
    "plt.legend(loc=\"best\")\n",
    "plt.title(\"wape {} %\".format(round(wape(y_test, svc_forc))))\n",
    "plt.legend(loc=\"best\")\n",
    "plt.legend()\n",
    "plt.grid(True)"
   ]
  },
  {
   "cell_type": "code",
   "execution_count": 224,
   "metadata": {},
   "outputs": [
    {
     "data": {
      "image/png": "[encoded data removed]",
      "text/plain": [
       "<matplotlib.figure.Figure at 0x179d226d438>"
      ]
     },
     "metadata": {},
     "output_type": "display_data"
    }
   ],
   "source": [
    "plt.figure(figsize=(20, 5))\n",
    "plt.plot(svc_forc, 'go', color = 'r', label=\"forecast\")\n",
    "plt.plot(y_test.values, 'go', color = 'b',label=\"fact\")\n",
    "plt.legend(loc=\"best\")\n",
    "plt.title(\"wape {} %\".format(round(wape(y_test, svc_forc))))\n",
    "plt.legend(loc=\"best\")\n",
    "plt.legend()\n",
    "plt.grid(True)"
   ]
  },
  {
   "cell_type": "code",
   "execution_count": 225,
   "metadata": {},
   "outputs": [
    {
     "data": {
      "text/plain": [
       "-2.0291262135922326"
      ]
     },
     "execution_count": 225,
     "metadata": {},
     "output_type": "execute_result"
    }
   ],
   "source": [
    "coefficient_of_dermination = r2_score(y_test, svc_forc)\n",
    "coefficient_of_dermination"
   ]
  },
  {
   "cell_type": "code",
   "execution_count": null,
   "metadata": {},
   "outputs": [],
   "source": []
  },
  {
   "cell_type": "code",
   "execution_count": null,
   "metadata": {},
   "outputs": [],
   "source": []
  },
  {
   "cell_type": "code",
   "execution_count": null,
   "metadata": {},
   "outputs": [],
   "source": []
  },
  {
   "cell_type": "code",
   "execution_count": 231,
   "metadata": {},
   "outputs": [],
   "source": [
    "# ROC AUC code\n",
    "\n",
    "# fpr1, tpr1, thresholds = roc_curve(y_test, y_pred)\n",
    "# auc1=auc(fpr1, tpr1)\n",
    "# print (\"auc for the first class\",auc1)\n",
    "\n",
    "# # ploting the roc curve\n",
    "# plt.plot(fpr1,tpr1)\n",
    "# plt.plot([0, 1], [0, 1], color='navy', lw=2, linestyle='--')\n",
    "\n",
    "# plt.xlim([0.0,1.0])\n",
    "# plt.ylim([0.0,1.0])\n",
    "# plt.title('Roc curve')\n",
    "# plt.xlabel('False positive rate')\n",
    "# plt.ylabel('True positive rate')\n",
    "# plt.legend(loc=\"lower right\")\n",
    "# plt.show()"
   ]
  },
  {
   "cell_type": "code",
   "execution_count": null,
   "metadata": {},
   "outputs": [],
   "source": []
  },
  {
   "cell_type": "code",
   "execution_count": null,
   "metadata": {},
   "outputs": [],
   "source": [
    "Дерево решений\n",
    "Случайный лес\n",
    "Градиентный бустинг (LightGBM, XGBoost)\n",
    "SVM\n",
    "\n",
    "Агропромышленность, строительная\n",
    "Отдельно статьи, отдельно ИНН..., вместе"
   ]
  }
 ],
 "metadata": {
  "kernelspec": {
   "display_name": "Python 3",
   "language": "python",
   "name": "python3"
  },
  "language_info": {
   "codemirror_mode": {
    "name": "ipython",
    "version": 3
   },
   "file_extension": ".py",
   "mimetype": "text/x-python",
   "name": "python",
   "nbconvert_exporter": "python",
   "pygments_lexer": "ipython3",
   "version": "3.6.4"
  }
 },
 "nbformat": 4,
 "nbformat_minor": 2
}
