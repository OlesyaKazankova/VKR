{
 "cells": [
  {
   "cell_type": "markdown",
   "metadata": {},
   "source": [
    "### Подключение библиотек"
   ]
  },
  {
   "cell_type": "code",
   "execution_count": 1,
   "metadata": {},
   "outputs": [],
   "source": [
    "# импортируем все необходимые библиотеки\n",
    "import pandas as pd\n",
    "import numpy as np\n",
    "%matplotlib inline\n",
    "import seaborn as sns\n",
    "import matplotlib.pyplot as plt\n",
    "import matplotlib.gridspec as gridspec\n",
    "import operator\n",
    "from sklearn.preprocessing import LabelEncoder\n",
    "import math\n",
    "import warnings\n",
    "warnings.filterwarnings('ignore')\n",
    "import collections\n",
    "from sklearn.metrics import *\n",
    "from sklearn.preprocessing import StandardScaler\n",
    "from sklearn.model_selection import GridSearchCV\n",
    "from sklearn import preprocessing\n",
    "from sklearn.tree import DecisionTreeClassifier, export_graphviz\n",
    "from sklearn.cross_validation import StratifiedKFold\n",
    "from sklearn.cross_validation import cross_val_score\n",
    "from sklearn.ensemble import RandomForestClassifier\n",
    "from sklearn.ensemble import GradientBoostingClassifier\n",
    "from sklearn.metrics import accuracy_score\n",
    "pd.options.display.max_columns = 400\n",
    "import statsmodels.api as sm\n",
    "import sklearn as sk\n",
    "import scipy as sp\n",
    "from sklearn.model_selection import train_test_split\n",
    "from sklearn.linear_model import Ridge, Lasso\n",
    "from sklearn.linear_model import RidgeClassifier,LogisticRegression\n",
    "from sklearn.cross_validation import KFold\n",
    "import xgboost as xgb\n",
    "from sklearn.linear_model import LinearRegression\n",
    "import sklearn\n",
    "from sklearn.metrics import mean_absolute_error as mae\n",
    "from sklearn.metrics import r2_score\n",
    "from sklearn.svm import LinearSVC\n",
    "from sklearn.svm import SVC\n",
    "from sklearn.metrics import r2_score\n",
    "from sklearn.metrics import accuracy_score"
   ]
  },
  {
   "cell_type": "markdown",
   "metadata": {},
   "source": [
    "### Загрузка данных"
   ]
  },
  {
   "cell_type": "code",
   "execution_count": 2,
   "metadata": {
    "scrolled": true
   },
   "outputs": [],
   "source": [
    "# загружаем данные, указываем разделитель\n",
    "# строительная отрасль\n",
    "df1 = pd.read_csv('data/2015_stroitelnaya_otrasl.csv', sep=',')"
   ]
  },
  {
   "cell_type": "code",
   "execution_count": 3,
   "metadata": {},
   "outputs": [
    {
     "data": {
      "text/html": [
       "<div>\n",
       "<style scoped>\n",
       "    .dataframe tbody tr th:only-of-type {\n",
       "        vertical-align: middle;\n",
       "    }\n",
       "\n",
       "    .dataframe tbody tr th {\n",
       "        vertical-align: top;\n",
       "    }\n",
       "\n",
       "    .dataframe thead th {\n",
       "        text-align: right;\n",
       "    }\n",
       "</style>\n",
       "<table border=\"1\" class=\"dataframe\">\n",
       "  <thead>\n",
       "    <tr style=\"text-align: right;\">\n",
       "      <th></th>\n",
       "      <th>Наименование</th>\n",
       "      <th>ОКПО</th>\n",
       "      <th>ОКОПФ</th>\n",
       "      <th>ОКФС</th>\n",
       "      <th>ОКВЭД</th>\n",
       "      <th>ИНН</th>\n",
       "      <th>Код единицы измерения</th>\n",
       "      <th>Тип отчета</th>\n",
       "      <th>1110</th>\n",
       "      <th>1120</th>\n",
       "      <th>1130</th>\n",
       "      <th>1140</th>\n",
       "      <th>1150</th>\n",
       "      <th>1160</th>\n",
       "      <th>1170</th>\n",
       "      <th>1180</th>\n",
       "      <th>1190</th>\n",
       "      <th>1100</th>\n",
       "      <th>1210</th>\n",
       "      <th>1220</th>\n",
       "      <th>1230</th>\n",
       "      <th>1240</th>\n",
       "      <th>1250</th>\n",
       "      <th>1260</th>\n",
       "      <th>1200</th>\n",
       "      <th>1600</th>\n",
       "      <th>1310</th>\n",
       "      <th>1320</th>\n",
       "      <th>1340</th>\n",
       "      <th>1350</th>\n",
       "      <th>1360</th>\n",
       "      <th>1370</th>\n",
       "      <th>1300</th>\n",
       "      <th>1410</th>\n",
       "      <th>1420</th>\n",
       "      <th>1430</th>\n",
       "      <th>1450</th>\n",
       "      <th>1400</th>\n",
       "      <th>1510</th>\n",
       "      <th>1520</th>\n",
       "      <th>1530</th>\n",
       "      <th>1540</th>\n",
       "      <th>1550</th>\n",
       "      <th>1500</th>\n",
       "      <th>1700</th>\n",
       "      <th>2110</th>\n",
       "      <th>2120</th>\n",
       "      <th>2100</th>\n",
       "      <th>2210</th>\n",
       "      <th>2220</th>\n",
       "      <th>2200</th>\n",
       "      <th>2310</th>\n",
       "      <th>2320</th>\n",
       "      <th>2330</th>\n",
       "      <th>2340</th>\n",
       "      <th>2350</th>\n",
       "      <th>2300</th>\n",
       "      <th>2410</th>\n",
       "      <th>2421</th>\n",
       "      <th>2430</th>\n",
       "      <th>2450</th>\n",
       "      <th>2460</th>\n",
       "      <th>2400</th>\n",
       "      <th>2510</th>\n",
       "      <th>2520</th>\n",
       "      <th>2500</th>\n",
       "      <th>3200</th>\n",
       "      <th>3310</th>\n",
       "      <th>3314</th>\n",
       "      <th>3315</th>\n",
       "      <th>3316</th>\n",
       "      <th>3320</th>\n",
       "      <th>3324</th>\n",
       "      <th>3325</th>\n",
       "      <th>3326</th>\n",
       "      <th>3300</th>\n",
       "      <th>3600</th>\n",
       "      <th>Дата актуализации</th>\n",
       "      <th>Ликвидировано</th>\n",
       "    </tr>\n",
       "  </thead>\n",
       "  <tbody>\n",
       "    <tr>\n",
       "      <th>0</th>\n",
       "      <td>ОБЩЕСТВО С ОГРАНИЧЕННОЙ ОТВЕТСТВЕННОСТЬЮ \"НЕФТ...</td>\n",
       "      <td>26298557</td>\n",
       "      <td>12300</td>\n",
       "      <td>16</td>\n",
       "      <td>41.20</td>\n",
       "      <td>6671428451</td>\n",
       "      <td>384</td>\n",
       "      <td>1</td>\n",
       "      <td>0</td>\n",
       "      <td>0</td>\n",
       "      <td>0</td>\n",
       "      <td>0</td>\n",
       "      <td>5362</td>\n",
       "      <td>0</td>\n",
       "      <td>0</td>\n",
       "      <td>0</td>\n",
       "      <td>0</td>\n",
       "      <td>0</td>\n",
       "      <td>6611</td>\n",
       "      <td>0</td>\n",
       "      <td>2410</td>\n",
       "      <td>0</td>\n",
       "      <td>245</td>\n",
       "      <td>0</td>\n",
       "      <td>0</td>\n",
       "      <td>14628</td>\n",
       "      <td>0</td>\n",
       "      <td>0</td>\n",
       "      <td>0</td>\n",
       "      <td>0</td>\n",
       "      <td>0</td>\n",
       "      <td>0</td>\n",
       "      <td>6800</td>\n",
       "      <td>0</td>\n",
       "      <td>0</td>\n",
       "      <td>0</td>\n",
       "      <td>0</td>\n",
       "      <td>0</td>\n",
       "      <td>0</td>\n",
       "      <td>2258</td>\n",
       "      <td>0</td>\n",
       "      <td>0</td>\n",
       "      <td>5570</td>\n",
       "      <td>0</td>\n",
       "      <td>14628</td>\n",
       "      <td>42381</td>\n",
       "      <td>40271</td>\n",
       "      <td>0</td>\n",
       "      <td>0</td>\n",
       "      <td>0</td>\n",
       "      <td>0</td>\n",
       "      <td>0</td>\n",
       "      <td>0</td>\n",
       "      <td>0</td>\n",
       "      <td>0</td>\n",
       "      <td>248</td>\n",
       "      <td>0</td>\n",
       "      <td>1200</td>\n",
       "      <td>0</td>\n",
       "      <td>0</td>\n",
       "      <td>0</td>\n",
       "      <td>0</td>\n",
       "      <td>662</td>\n",
       "      <td>0</td>\n",
       "      <td>0</td>\n",
       "      <td>0</td>\n",
       "      <td>0</td>\n",
       "      <td>0</td>\n",
       "      <td>0</td>\n",
       "      <td>0</td>\n",
       "      <td>0</td>\n",
       "      <td>0</td>\n",
       "      <td>0</td>\n",
       "      <td>0</td>\n",
       "      <td>0</td>\n",
       "      <td>0</td>\n",
       "      <td>0</td>\n",
       "      <td>20170403</td>\n",
       "      <td>0</td>\n",
       "    </tr>\n",
       "    <tr>\n",
       "      <th>1</th>\n",
       "      <td>ОБЩЕСТВО С ОГРАНИЧЕННОЙ ОТВЕТСТВЕННОСТЬЮ \"РЕГИ...</td>\n",
       "      <td>32270534</td>\n",
       "      <td>12300</td>\n",
       "      <td>16</td>\n",
       "      <td>41.20</td>\n",
       "      <td>6670415932</td>\n",
       "      <td>384</td>\n",
       "      <td>2</td>\n",
       "      <td>0</td>\n",
       "      <td>0</td>\n",
       "      <td>0</td>\n",
       "      <td>0</td>\n",
       "      <td>2703</td>\n",
       "      <td>0</td>\n",
       "      <td>0</td>\n",
       "      <td>0</td>\n",
       "      <td>0</td>\n",
       "      <td>2703</td>\n",
       "      <td>4991</td>\n",
       "      <td>-2907</td>\n",
       "      <td>149113</td>\n",
       "      <td>0</td>\n",
       "      <td>0</td>\n",
       "      <td>0</td>\n",
       "      <td>151197</td>\n",
       "      <td>153900</td>\n",
       "      <td>10</td>\n",
       "      <td>0</td>\n",
       "      <td>0</td>\n",
       "      <td>0</td>\n",
       "      <td>0</td>\n",
       "      <td>4302</td>\n",
       "      <td>4312</td>\n",
       "      <td>0</td>\n",
       "      <td>0</td>\n",
       "      <td>0</td>\n",
       "      <td>0</td>\n",
       "      <td>0</td>\n",
       "      <td>0</td>\n",
       "      <td>149588</td>\n",
       "      <td>0</td>\n",
       "      <td>0</td>\n",
       "      <td>0</td>\n",
       "      <td>149588</td>\n",
       "      <td>153900</td>\n",
       "      <td>192303</td>\n",
       "      <td>147965</td>\n",
       "      <td>44338</td>\n",
       "      <td>0</td>\n",
       "      <td>39915</td>\n",
       "      <td>4423</td>\n",
       "      <td>0</td>\n",
       "      <td>0</td>\n",
       "      <td>0</td>\n",
       "      <td>64</td>\n",
       "      <td>4179</td>\n",
       "      <td>308</td>\n",
       "      <td>0</td>\n",
       "      <td>0</td>\n",
       "      <td>0</td>\n",
       "      <td>0</td>\n",
       "      <td>0</td>\n",
       "      <td>308</td>\n",
       "      <td>0</td>\n",
       "      <td>0</td>\n",
       "      <td>308</td>\n",
       "      <td>0</td>\n",
       "      <td>0</td>\n",
       "      <td>0</td>\n",
       "      <td>0</td>\n",
       "      <td>0</td>\n",
       "      <td>0</td>\n",
       "      <td>0</td>\n",
       "      <td>0</td>\n",
       "      <td>0</td>\n",
       "      <td>0</td>\n",
       "      <td>0</td>\n",
       "      <td>20170302</td>\n",
       "      <td>0</td>\n",
       "    </tr>\n",
       "  </tbody>\n",
       "</table>\n",
       "</div>"
      ],
      "text/plain": [
       "                                        Наименование      ОКПО  ОКОПФ  ОКФС  \\\n",
       "0  ОБЩЕСТВО С ОГРАНИЧЕННОЙ ОТВЕТСТВЕННОСТЬЮ \"НЕФТ...  26298557  12300    16   \n",
       "1  ОБЩЕСТВО С ОГРАНИЧЕННОЙ ОТВЕТСТВЕННОСТЬЮ \"РЕГИ...  32270534  12300    16   \n",
       "\n",
       "   ОКВЭД         ИНН  Код единицы измерения  Тип отчета  1110  1120  1130  \\\n",
       "0  41.20  6671428451                    384           1     0     0     0   \n",
       "1  41.20  6670415932                    384           2     0     0     0   \n",
       "\n",
       "   1140  1150  1160  1170  1180  1190  1100  1210  1220    1230  1240  1250  \\\n",
       "0     0  5362     0     0     0     0     0  6611     0    2410     0   245   \n",
       "1     0  2703     0     0     0     0  2703  4991 -2907  149113     0     0   \n",
       "\n",
       "   1260    1200    1600  1310  1320  1340  1350  1360  1370  1300  1410  1420  \\\n",
       "0     0       0   14628     0     0     0     0     0     0  6800     0     0   \n",
       "1     0  151197  153900    10     0     0     0     0  4302  4312     0     0   \n",
       "\n",
       "   1430  1450  1400  1510    1520  1530  1540  1550    1500    1700    2110  \\\n",
       "0     0     0     0     0    2258     0     0  5570       0   14628   42381   \n",
       "1     0     0     0     0  149588     0     0     0  149588  153900  192303   \n",
       "\n",
       "     2120   2100  2210   2220  2200  2310  2320  2330  2340  2350  2300  2410  \\\n",
       "0   40271      0     0      0     0     0     0     0     0   248     0  1200   \n",
       "1  147965  44338     0  39915  4423     0     0     0    64  4179   308     0   \n",
       "\n",
       "   2421  2430  2450  2460  2400  2510  2520  2500  3200  3310  3314  3315  \\\n",
       "0     0     0     0     0   662     0     0     0     0     0     0     0   \n",
       "1     0     0     0     0   308     0     0   308     0     0     0     0   \n",
       "\n",
       "   3316  3320  3324  3325  3326  3300  3600  Дата актуализации  Ликвидировано  \n",
       "0     0     0     0     0     0     0     0           20170403              0  \n",
       "1     0     0     0     0     0     0     0           20170302              0  "
      ]
     },
     "execution_count": 3,
     "metadata": {},
     "output_type": "execute_result"
    }
   ],
   "source": [
    "df1.head(2)"
   ]
  },
  {
   "cell_type": "code",
   "execution_count": 4,
   "metadata": {},
   "outputs": [
    {
     "data": {
      "text/plain": [
       "(8272, 79)"
      ]
     },
     "execution_count": 4,
     "metadata": {},
     "output_type": "execute_result"
    }
   ],
   "source": [
    "# отображаем размер выборки (проверка, что все столбцы и строки загрузились)\n",
    "df1.shape"
   ]
  },
  {
   "cell_type": "code",
   "execution_count": 5,
   "metadata": {
    "scrolled": true
   },
   "outputs": [
    {
     "name": "stdout",
     "output_type": "stream",
     "text": [
      "<class 'pandas.core.frame.DataFrame'>\n",
      "RangeIndex: 8272 entries, 0 to 8271\n",
      "Data columns (total 79 columns):\n",
      "Наименование             8272 non-null object\n",
      "ОКПО                     8272 non-null int64\n",
      "ОКОПФ                    8272 non-null int64\n",
      "ОКФС                     8272 non-null int64\n",
      "ОКВЭД                    8272 non-null object\n",
      "ИНН                      8272 non-null int64\n",
      "Код единицы измерения    8272 non-null int64\n",
      "Тип отчета               8272 non-null int64\n",
      "1110                     8272 non-null int64\n",
      "1120                     8272 non-null int64\n",
      "1130                     8272 non-null int64\n",
      "1140                     8272 non-null int64\n",
      "1150                     8272 non-null int64\n",
      "1160                     8272 non-null int64\n",
      "1170                     8272 non-null int64\n",
      "1180                     8272 non-null int64\n",
      "1190                     8272 non-null int64\n",
      "1100                     8272 non-null int64\n",
      "1210                     8272 non-null int64\n",
      "1220                     8272 non-null int64\n",
      "1230                     8272 non-null int64\n",
      "1240                     8272 non-null int64\n",
      "1250                     8272 non-null int64\n",
      "1260                     8272 non-null int64\n",
      "1200                     8272 non-null int64\n",
      "1600                     8272 non-null int64\n",
      "1310                     8272 non-null int64\n",
      "1320                     8272 non-null int64\n",
      "1340                     8272 non-null int64\n",
      "1350                     8272 non-null int64\n",
      "1360                     8272 non-null int64\n",
      "1370                     8272 non-null int64\n",
      "1300                     8272 non-null int64\n",
      "1410                     8272 non-null int64\n",
      "1420                     8272 non-null int64\n",
      "1430                     8272 non-null int64\n",
      "1450                     8272 non-null int64\n",
      "1400                     8272 non-null int64\n",
      "1510                     8272 non-null int64\n",
      "1520                     8272 non-null int64\n",
      "1530                     8272 non-null int64\n",
      "1540                     8272 non-null int64\n",
      "1550                     8272 non-null int64\n",
      "1500                     8272 non-null int64\n",
      "1700                     8272 non-null int64\n",
      "2110                     8272 non-null int64\n",
      "2120                     8272 non-null int64\n",
      "2100                     8272 non-null int64\n",
      "2210                     8272 non-null int64\n",
      "2220                     8272 non-null int64\n",
      "2200                     8272 non-null int64\n",
      "2310                     8272 non-null int64\n",
      "2320                     8272 non-null int64\n",
      "2330                     8272 non-null int64\n",
      "2340                     8272 non-null int64\n",
      "2350                     8272 non-null int64\n",
      "2300                     8272 non-null int64\n",
      "2410                     8272 non-null int64\n",
      "2421                     8272 non-null int64\n",
      "2430                     8272 non-null int64\n",
      "2450                     8272 non-null int64\n",
      "2460                     8272 non-null int64\n",
      "2400                     8272 non-null int64\n",
      "2510                     8272 non-null int64\n",
      "2520                     8272 non-null int64\n",
      "2500                     8272 non-null int64\n",
      "3200                     8272 non-null int64\n",
      "3310                     8272 non-null int64\n",
      "3314                     8272 non-null int64\n",
      "3315                     8272 non-null int64\n",
      "3316                     8272 non-null int64\n",
      "3320                     8272 non-null int64\n",
      "3324                     8272 non-null int64\n",
      "3325                     8272 non-null int64\n",
      "3326                     8272 non-null int64\n",
      "3300                     8272 non-null int64\n",
      "3600                     8272 non-null int64\n",
      "Дата актуализации        8272 non-null int64\n",
      "Ликвидировано            8272 non-null int64\n",
      "dtypes: int64(77), object(2)\n",
      "memory usage: 5.0+ MB\n"
     ]
    }
   ],
   "source": [
    "# отображаем общую информацию о данных и проверяем типы данных\n",
    "df1.info()"
   ]
  },
  {
   "cell_type": "code",
   "execution_count": 6,
   "metadata": {},
   "outputs": [
    {
     "data": {
      "text/plain": [
       "ОБЩЕСТВО С ОГРАНИЧЕННОЙ ОТВЕТСТВЕННОСТЬЮ \"СТРОЙСЕРВИС\"                        17\n",
       "ОБЩЕСТВО С ОГРАНИЧЕННОЙ ОТВЕТСТВЕННОСТЬЮ \"УРАЛЬСКАЯ СТРОИТЕЛЬНАЯ КОМПАНИЯ\"    13\n",
       "ОБЩЕСТВО С ОГРАНИЧЕННОЙ ОТВЕТСТВЕННОСТЬЮ \"СТРОЙМОНТАЖ\"                        11\n",
       "ОБЩЕСТВО С ОГРАНИЧЕННОЙ ОТВЕТСТВЕННОСТЬЮ \"СТРОЙКОМПЛЕКТ\"                      10\n",
       "ОБЩЕСТВО С ОГРАНИЧЕННОЙ ОТВЕТСТВЕННОСТЬЮ \"СТРОЙРЕСУРС\"                        10\n",
       "ОБЩЕСТВО С ОГРАНИЧЕННОЙ ОТВЕТСТВЕННОСТЬЮ \"МЕГАПОЛИС\"                           8\n",
       "ОБЩЕСТВО С ОГРАНИЧЕННОЙ ОТВЕТСТВЕННОСТЬЮ \"ОЛИМП\"                               8\n",
       "ОБЩЕСТВО С ОГРАНИЧЕННОЙ ОТВЕТСТВЕННОСТЬЮ \"ВЕКТОР\"                              8\n",
       "ОБЩЕСТВО С ОГРАНИЧЕННОЙ ОТВЕТСТВЕННОСТЬЮ \"ГАРАНТ\"                              7\n",
       "ОБЩЕСТВО С ОГРАНИЧЕННОЙ ОТВЕТСТВЕННОСТЬЮ \"СПЕЦМОНТАЖ\"                          7\n",
       "ОБЩЕСТВО С ОГРАНИЧЕННОЙ ОТВЕТСТВЕННОСТЬЮ \"ПЕРСПЕКТИВА\"                         7\n",
       "ОБЩЕСТВО С ОГРАНИЧЕННОЙ ОТВЕТСТВЕННОСТЬЮ \"РЕМСТРОЙ\"                            7\n",
       "ОБЩЕСТВО С ОГРАНИЧЕННОЙ ОТВЕТСТВЕННОСТЬЮ \"ПАРТНЕР\"                             7\n",
       "ОБЩЕСТВО С ОГРАНИЧЕННОЙ ОТВЕТСТВЕННОСТЬЮ \"АЛЬЯНС\"                              7\n",
       "ОБЩЕСТВО С ОГРАНИЧЕННОЙ ОТВЕТСТВЕННОСТЬЮ \"СПЕЦСТРОЙ\"                           7\n",
       "ОБЩЕСТВО С ОГРАНИЧЕННОЙ ОТВЕТСТВЕННОСТЬЮ \"ТЕХНОСТРОЙ\"                          7\n",
       "ОБЩЕСТВО С ОГРАНИЧЕННОЙ ОТВЕТСТВЕННОСТЬЮ \"ЛИДЕР\"                               6\n",
       "ОБЩЕСТВО С ОГРАНИЧЕННОЙ ОТВЕТСТВЕННОСТЬЮ \"ИНВЕСТСТРОЙ\"                         6\n",
       "ОБЩЕСТВО С ОГРАНИЧЕННОЙ ОТВЕТСТВЕННОСТЬЮ \"СПЕКТР\"                              6\n",
       "ОБЩЕСТВО С ОГРАНИЧЕННОЙ ОТВЕТСТВЕННОСТЬЮ \"СТРОЙИНВЕСТ\"                         6\n",
       "ОБЩЕСТВО С ОГРАНИЧЕННОЙ ОТВЕТСТВЕННОСТЬЮ \"УРАЛСТРОЙ\"                           6\n",
       "ОБЩЕСТВО С ОГРАНИЧЕННОЙ ОТВЕТСТВЕННОСТЬЮ \"ПРОГРЕСС\"                            6\n",
       "ОБЩЕСТВО С ОГРАНИЧЕННОЙ ОТВЕТСТВЕННОСТЬЮ \"КАПИТАЛСТРОЙ\"                        6\n",
       "ОБЩЕСТВО С ОГРАНИЧЕННОЙ ОТВЕТСТВЕННОСТЬЮ \"СТРОЙКОМ\"                            6\n",
       "ОБЩЕСТВО С ОГРАНИЧЕННОЙ ОТВЕТСТВЕННОСТЬЮ \"РЕМОНТНО-СТРОИТЕЛЬНАЯ КОМПАНИЯ\"      6\n",
       "ОБЩЕСТВО С ОГРАНИЧЕННОЙ ОТВЕТСТВЕННОСТЬЮ \"МАСТЕР\"                              6\n",
       "Name: Наименование, dtype: int64"
      ]
     },
     "execution_count": 6,
     "metadata": {},
     "output_type": "execute_result"
    }
   ],
   "source": [
    "df1['Наименование'].value_counts()[0:26]"
   ]
  },
  {
   "cell_type": "markdown",
   "metadata": {},
   "source": [
    "### Проверяем на наличие NaN"
   ]
  },
  {
   "cell_type": "code",
   "execution_count": 7,
   "metadata": {},
   "outputs": [],
   "source": [
    "for col in df1.columns:\n",
    "    nan_numbers = df1[pd.isnull(df1[col])].shape[0]\n",
    "    if nan_numbers > 0:\n",
    "        print(col, nan_numbers)"
   ]
  },
  {
   "cell_type": "markdown",
   "metadata": {},
   "source": [
    "### Смотрим на соотношение классов в выборке"
   ]
  },
  {
   "cell_type": "code",
   "execution_count": 8,
   "metadata": {
    "scrolled": false
   },
   "outputs": [
    {
     "data": {
      "text/plain": [
       "0    8246\n",
       "1      26\n",
       "Name: Ликвидировано, dtype: int64"
      ]
     },
     "execution_count": 8,
     "metadata": {},
     "output_type": "execute_result"
    }
   ],
   "source": [
    "df1['Ликвидировано'].value_counts(normalize=False)"
   ]
  },
  {
   "cell_type": "markdown",
   "metadata": {},
   "source": [
    "### Статистика по выборке"
   ]
  },
  {
   "cell_type": "code",
   "execution_count": 9,
   "metadata": {},
   "outputs": [
    {
     "data": {
      "text/html": [
       "<div>\n",
       "<style scoped>\n",
       "    .dataframe tbody tr th:only-of-type {\n",
       "        vertical-align: middle;\n",
       "    }\n",
       "\n",
       "    .dataframe tbody tr th {\n",
       "        vertical-align: top;\n",
       "    }\n",
       "\n",
       "    .dataframe thead th {\n",
       "        text-align: right;\n",
       "    }\n",
       "</style>\n",
       "<table border=\"1\" class=\"dataframe\">\n",
       "  <thead>\n",
       "    <tr style=\"text-align: right;\">\n",
       "      <th></th>\n",
       "      <th>ОКПО</th>\n",
       "      <th>ОКОПФ</th>\n",
       "      <th>ОКФС</th>\n",
       "      <th>ИНН</th>\n",
       "      <th>Код единицы измерения</th>\n",
       "      <th>Тип отчета</th>\n",
       "      <th>1110</th>\n",
       "      <th>1120</th>\n",
       "      <th>1130</th>\n",
       "      <th>1140</th>\n",
       "      <th>1150</th>\n",
       "      <th>1160</th>\n",
       "      <th>1170</th>\n",
       "      <th>1180</th>\n",
       "      <th>1190</th>\n",
       "      <th>1100</th>\n",
       "      <th>1210</th>\n",
       "      <th>1220</th>\n",
       "      <th>1230</th>\n",
       "      <th>1240</th>\n",
       "      <th>1250</th>\n",
       "      <th>1260</th>\n",
       "      <th>1200</th>\n",
       "      <th>1600</th>\n",
       "      <th>1310</th>\n",
       "      <th>1320</th>\n",
       "      <th>1340</th>\n",
       "      <th>1350</th>\n",
       "      <th>1360</th>\n",
       "      <th>1370</th>\n",
       "      <th>1300</th>\n",
       "      <th>1410</th>\n",
       "      <th>1420</th>\n",
       "      <th>1430</th>\n",
       "      <th>1450</th>\n",
       "      <th>1400</th>\n",
       "      <th>1510</th>\n",
       "      <th>1520</th>\n",
       "      <th>1530</th>\n",
       "      <th>1540</th>\n",
       "      <th>1550</th>\n",
       "      <th>1500</th>\n",
       "      <th>1700</th>\n",
       "      <th>2110</th>\n",
       "      <th>2120</th>\n",
       "      <th>2100</th>\n",
       "      <th>2210</th>\n",
       "      <th>2220</th>\n",
       "      <th>2200</th>\n",
       "      <th>2310</th>\n",
       "      <th>2320</th>\n",
       "      <th>2330</th>\n",
       "      <th>2340</th>\n",
       "      <th>2350</th>\n",
       "      <th>2300</th>\n",
       "      <th>2410</th>\n",
       "      <th>2421</th>\n",
       "      <th>2430</th>\n",
       "      <th>2450</th>\n",
       "      <th>2460</th>\n",
       "      <th>2400</th>\n",
       "      <th>2510</th>\n",
       "      <th>2520</th>\n",
       "      <th>2500</th>\n",
       "      <th>3200</th>\n",
       "      <th>3310</th>\n",
       "      <th>3314</th>\n",
       "      <th>3315</th>\n",
       "      <th>3316</th>\n",
       "      <th>3320</th>\n",
       "      <th>3324</th>\n",
       "      <th>3325</th>\n",
       "      <th>3326</th>\n",
       "      <th>3300</th>\n",
       "      <th>3600</th>\n",
       "      <th>Дата актуализации</th>\n",
       "      <th>Ликвидировано</th>\n",
       "    </tr>\n",
       "  </thead>\n",
       "  <tbody>\n",
       "    <tr>\n",
       "      <th>count</th>\n",
       "      <td>8.272000e+03</td>\n",
       "      <td>8272.000000</td>\n",
       "      <td>8272.000000</td>\n",
       "      <td>8.272000e+03</td>\n",
       "      <td>8272.000000</td>\n",
       "      <td>8272.000000</td>\n",
       "      <td>8272.000000</td>\n",
       "      <td>8272.000000</td>\n",
       "      <td>8272.000000</td>\n",
       "      <td>8272.000000</td>\n",
       "      <td>8.272000e+03</td>\n",
       "      <td>8272.000000</td>\n",
       "      <td>8272.000000</td>\n",
       "      <td>8272.000000</td>\n",
       "      <td>8.272000e+03</td>\n",
       "      <td>8.272000e+03</td>\n",
       "      <td>8.272000e+03</td>\n",
       "      <td>8272.000000</td>\n",
       "      <td>8.272000e+03</td>\n",
       "      <td>8272.000000</td>\n",
       "      <td>8272.000000</td>\n",
       "      <td>8272.000000</td>\n",
       "      <td>8.272000e+03</td>\n",
       "      <td>8.272000e+03</td>\n",
       "      <td>8.272000e+03</td>\n",
       "      <td>8272.000000</td>\n",
       "      <td>8272.000000</td>\n",
       "      <td>8272.000000</td>\n",
       "      <td>8272.000000</td>\n",
       "      <td>8.272000e+03</td>\n",
       "      <td>8.272000e+03</td>\n",
       "      <td>8.272000e+03</td>\n",
       "      <td>8272.000000</td>\n",
       "      <td>8272.000000</td>\n",
       "      <td>8.272000e+03</td>\n",
       "      <td>8.272000e+03</td>\n",
       "      <td>8.272000e+03</td>\n",
       "      <td>8.272000e+03</td>\n",
       "      <td>8272.000000</td>\n",
       "      <td>8272.000000</td>\n",
       "      <td>8.272000e+03</td>\n",
       "      <td>8.272000e+03</td>\n",
       "      <td>8.272000e+03</td>\n",
       "      <td>8.272000e+03</td>\n",
       "      <td>8.272000e+03</td>\n",
       "      <td>8.272000e+03</td>\n",
       "      <td>8272.000000</td>\n",
       "      <td>8.272000e+03</td>\n",
       "      <td>8272.000000</td>\n",
       "      <td>8272.000000</td>\n",
       "      <td>8272.000000</td>\n",
       "      <td>8272.000000</td>\n",
       "      <td>8272.000000</td>\n",
       "      <td>8.272000e+03</td>\n",
       "      <td>8272.000000</td>\n",
       "      <td>8272.000000</td>\n",
       "      <td>8272.000000</td>\n",
       "      <td>8272.000000</td>\n",
       "      <td>8272.000000</td>\n",
       "      <td>8272.000000</td>\n",
       "      <td>8272.000000</td>\n",
       "      <td>8272.000000</td>\n",
       "      <td>8272.000000</td>\n",
       "      <td>8272.000000</td>\n",
       "      <td>8272.000000</td>\n",
       "      <td>8272.000000</td>\n",
       "      <td>8272.0</td>\n",
       "      <td>8272.0</td>\n",
       "      <td>8272.000000</td>\n",
       "      <td>8272.000000</td>\n",
       "      <td>8272.0</td>\n",
       "      <td>8272.000000</td>\n",
       "      <td>8272.000000</td>\n",
       "      <td>8272.000000</td>\n",
       "      <td>8.272000e+03</td>\n",
       "      <td>8.272000e+03</td>\n",
       "      <td>8272.000000</td>\n",
       "    </tr>\n",
       "    <tr>\n",
       "      <th>mean</th>\n",
       "      <td>4.472248e+07</td>\n",
       "      <td>7530.566489</td>\n",
       "      <td>16.076161</td>\n",
       "      <td>6.662983e+09</td>\n",
       "      <td>383.972316</td>\n",
       "      <td>1.505561</td>\n",
       "      <td>44.650024</td>\n",
       "      <td>1.797751</td>\n",
       "      <td>6.719657</td>\n",
       "      <td>6.374033</td>\n",
       "      <td>5.855461e+03</td>\n",
       "      <td>37.691852</td>\n",
       "      <td>725.818786</td>\n",
       "      <td>207.490087</td>\n",
       "      <td>2.395977e+03</td>\n",
       "      <td>8.747759e+03</td>\n",
       "      <td>5.308042e+03</td>\n",
       "      <td>487.251209</td>\n",
       "      <td>1.420742e+04</td>\n",
       "      <td>1496.477635</td>\n",
       "      <td>1040.082205</td>\n",
       "      <td>340.812137</td>\n",
       "      <td>1.938014e+04</td>\n",
       "      <td>3.216152e+04</td>\n",
       "      <td>1.056244e+03</td>\n",
       "      <td>-20.164289</td>\n",
       "      <td>61.929279</td>\n",
       "      <td>108.569270</td>\n",
       "      <td>10.613153</td>\n",
       "      <td>2.207021e+03</td>\n",
       "      <td>3.940048e+03</td>\n",
       "      <td>3.679065e+03</td>\n",
       "      <td>109.437379</td>\n",
       "      <td>28.296301</td>\n",
       "      <td>2.435227e+03</td>\n",
       "      <td>5.992858e+03</td>\n",
       "      <td>2.643804e+03</td>\n",
       "      <td>1.720581e+04</td>\n",
       "      <td>820.170575</td>\n",
       "      <td>60.683873</td>\n",
       "      <td>1.249607e+03</td>\n",
       "      <td>1.872379e+04</td>\n",
       "      <td>3.217243e+04</td>\n",
       "      <td>3.411332e+04</td>\n",
       "      <td>3.009415e+04</td>\n",
       "      <td>3.793136e+03</td>\n",
       "      <td>356.756286</td>\n",
       "      <td>2.250049e+03</td>\n",
       "      <td>1186.502297</td>\n",
       "      <td>28.157157</td>\n",
       "      <td>165.127901</td>\n",
       "      <td>279.333293</td>\n",
       "      <td>1884.188951</td>\n",
       "      <td>2.281515e+03</td>\n",
       "      <td>752.001088</td>\n",
       "      <td>247.389144</td>\n",
       "      <td>-15.028530</td>\n",
       "      <td>43.232108</td>\n",
       "      <td>82.815885</td>\n",
       "      <td>26.246978</td>\n",
       "      <td>718.666465</td>\n",
       "      <td>3.641683</td>\n",
       "      <td>-1.846107</td>\n",
       "      <td>553.152563</td>\n",
       "      <td>-18.422510</td>\n",
       "      <td>-0.011968</td>\n",
       "      <td>0.0</td>\n",
       "      <td>0.0</td>\n",
       "      <td>-0.011968</td>\n",
       "      <td>3.248670</td>\n",
       "      <td>0.0</td>\n",
       "      <td>0.105537</td>\n",
       "      <td>3.143133</td>\n",
       "      <td>-21.472679</td>\n",
       "      <td>3.675922e+03</td>\n",
       "      <td>2.017041e+07</td>\n",
       "      <td>0.003143</td>\n",
       "    </tr>\n",
       "    <tr>\n",
       "      <th>std</th>\n",
       "      <td>2.838247e+07</td>\n",
       "      <td>5946.713260</td>\n",
       "      <td>1.403659</td>\n",
       "      <td>2.203460e+07</td>\n",
       "      <td>0.165542</td>\n",
       "      <td>0.501207</td>\n",
       "      <td>3359.054083</td>\n",
       "      <td>158.127742</td>\n",
       "      <td>463.451950</td>\n",
       "      <td>567.539446</td>\n",
       "      <td>1.129158e+05</td>\n",
       "      <td>1106.952507</td>\n",
       "      <td>15048.296808</td>\n",
       "      <td>4818.341706</td>\n",
       "      <td>6.017812e+04</td>\n",
       "      <td>1.343161e+05</td>\n",
       "      <td>6.383890e+04</td>\n",
       "      <td>10095.949836</td>\n",
       "      <td>9.429024e+04</td>\n",
       "      <td>17978.437874</td>\n",
       "      <td>10823.720778</td>\n",
       "      <td>9515.587358</td>\n",
       "      <td>1.497095e+05</td>\n",
       "      <td>2.358104e+05</td>\n",
       "      <td>4.506346e+04</td>\n",
       "      <td>1350.867470</td>\n",
       "      <td>3437.447405</td>\n",
       "      <td>5228.254315</td>\n",
       "      <td>440.222274</td>\n",
       "      <td>5.789789e+04</td>\n",
       "      <td>6.712341e+04</td>\n",
       "      <td>7.102575e+04</td>\n",
       "      <td>3875.610708</td>\n",
       "      <td>2571.222042</td>\n",
       "      <td>8.063461e+04</td>\n",
       "      <td>1.261451e+05</td>\n",
       "      <td>4.984500e+04</td>\n",
       "      <td>9.678681e+04</td>\n",
       "      <td>19763.934912</td>\n",
       "      <td>1364.264827</td>\n",
       "      <td>6.362653e+04</td>\n",
       "      <td>1.367936e+05</td>\n",
       "      <td>2.358142e+05</td>\n",
       "      <td>3.319938e+05</td>\n",
       "      <td>3.036839e+05</td>\n",
       "      <td>1.070828e+05</td>\n",
       "      <td>8420.137464</td>\n",
       "      <td>9.649684e+04</td>\n",
       "      <td>22465.830562</td>\n",
       "      <td>2513.711033</td>\n",
       "      <td>3168.614784</td>\n",
       "      <td>4334.779170</td>\n",
       "      <td>19784.534833</td>\n",
       "      <td>2.338858e+04</td>\n",
       "      <td>24927.577579</td>\n",
       "      <td>3431.313781</td>\n",
       "      <td>573.089413</td>\n",
       "      <td>3031.100491</td>\n",
       "      <td>2664.968118</td>\n",
       "      <td>866.104760</td>\n",
       "      <td>20330.799757</td>\n",
       "      <td>252.374789</td>\n",
       "      <td>86.489770</td>\n",
       "      <td>20163.876597</td>\n",
       "      <td>1344.400576</td>\n",
       "      <td>1.088504</td>\n",
       "      <td>0.0</td>\n",
       "      <td>0.0</td>\n",
       "      <td>1.088504</td>\n",
       "      <td>286.029614</td>\n",
       "      <td>0.0</td>\n",
       "      <td>9.598624</td>\n",
       "      <td>285.869673</td>\n",
       "      <td>1430.422062</td>\n",
       "      <td>6.699205e+04</td>\n",
       "      <td>4.181936e+02</td>\n",
       "      <td>0.055979</td>\n",
       "    </tr>\n",
       "    <tr>\n",
       "      <th>min</th>\n",
       "      <td>4.047100e+04</td>\n",
       "      <td>39.000000</td>\n",
       "      <td>10.000000</td>\n",
       "      <td>6.601002e+09</td>\n",
       "      <td>383.000000</td>\n",
       "      <td>0.000000</td>\n",
       "      <td>0.000000</td>\n",
       "      <td>0.000000</td>\n",
       "      <td>0.000000</td>\n",
       "      <td>0.000000</td>\n",
       "      <td>-1.700000e+01</td>\n",
       "      <td>0.000000</td>\n",
       "      <td>-11.000000</td>\n",
       "      <td>-1353.000000</td>\n",
       "      <td>0.000000e+00</td>\n",
       "      <td>-2.000000e+00</td>\n",
       "      <td>-2.500000e+01</td>\n",
       "      <td>-2907.000000</td>\n",
       "      <td>-6.553000e+03</td>\n",
       "      <td>-4794.000000</td>\n",
       "      <td>-510.000000</td>\n",
       "      <td>-231.000000</td>\n",
       "      <td>-1.078000e+03</td>\n",
       "      <td>-3.260000e+02</td>\n",
       "      <td>-9.630000e+02</td>\n",
       "      <td>-119487.000000</td>\n",
       "      <td>0.000000</td>\n",
       "      <td>-29.000000</td>\n",
       "      <td>-12539.000000</td>\n",
       "      <td>-1.277099e+06</td>\n",
       "      <td>-8.958530e+05</td>\n",
       "      <td>-6.613000e+03</td>\n",
       "      <td>-29.000000</td>\n",
       "      <td>0.000000</td>\n",
       "      <td>-5.568000e+03</td>\n",
       "      <td>-4.645000e+03</td>\n",
       "      <td>-4.853000e+03</td>\n",
       "      <td>-2.600000e+02</td>\n",
       "      <td>0.000000</td>\n",
       "      <td>0.000000</td>\n",
       "      <td>0.000000e+00</td>\n",
       "      <td>-6.200000e+01</td>\n",
       "      <td>-4.050000e+02</td>\n",
       "      <td>0.000000e+00</td>\n",
       "      <td>0.000000e+00</td>\n",
       "      <td>-4.147450e+05</td>\n",
       "      <td>0.000000</td>\n",
       "      <td>0.000000e+00</td>\n",
       "      <td>-479748.000000</td>\n",
       "      <td>0.000000</td>\n",
       "      <td>0.000000</td>\n",
       "      <td>-148.000000</td>\n",
       "      <td>-2359.000000</td>\n",
       "      <td>-1.170000e+02</td>\n",
       "      <td>-719469.000000</td>\n",
       "      <td>-672.000000</td>\n",
       "      <td>-29985.000000</td>\n",
       "      <td>-37704.000000</td>\n",
       "      <td>-37515.000000</td>\n",
       "      <td>-3672.000000</td>\n",
       "      <td>-594445.000000</td>\n",
       "      <td>-470.000000</td>\n",
       "      <td>-6343.000000</td>\n",
       "      <td>-594445.000000</td>\n",
       "      <td>-119487.000000</td>\n",
       "      <td>-99.000000</td>\n",
       "      <td>0.0</td>\n",
       "      <td>0.0</td>\n",
       "      <td>-99.000000</td>\n",
       "      <td>0.000000</td>\n",
       "      <td>0.0</td>\n",
       "      <td>0.000000</td>\n",
       "      <td>0.000000</td>\n",
       "      <td>-119487.000000</td>\n",
       "      <td>-5.923290e+05</td>\n",
       "      <td>2.017012e+07</td>\n",
       "      <td>0.000000</td>\n",
       "    </tr>\n",
       "    <tr>\n",
       "      <th>25%</th>\n",
       "      <td>2.504050e+07</td>\n",
       "      <td>65.000000</td>\n",
       "      <td>16.000000</td>\n",
       "      <td>6.658408e+09</td>\n",
       "      <td>384.000000</td>\n",
       "      <td>1.000000</td>\n",
       "      <td>0.000000</td>\n",
       "      <td>0.000000</td>\n",
       "      <td>0.000000</td>\n",
       "      <td>0.000000</td>\n",
       "      <td>0.000000e+00</td>\n",
       "      <td>0.000000</td>\n",
       "      <td>0.000000</td>\n",
       "      <td>0.000000</td>\n",
       "      <td>0.000000e+00</td>\n",
       "      <td>0.000000e+00</td>\n",
       "      <td>0.000000e+00</td>\n",
       "      <td>0.000000</td>\n",
       "      <td>0.000000e+00</td>\n",
       "      <td>0.000000</td>\n",
       "      <td>0.000000</td>\n",
       "      <td>0.000000</td>\n",
       "      <td>0.000000e+00</td>\n",
       "      <td>1.000000e+01</td>\n",
       "      <td>0.000000e+00</td>\n",
       "      <td>0.000000</td>\n",
       "      <td>0.000000</td>\n",
       "      <td>0.000000</td>\n",
       "      <td>0.000000</td>\n",
       "      <td>0.000000e+00</td>\n",
       "      <td>0.000000e+00</td>\n",
       "      <td>0.000000e+00</td>\n",
       "      <td>0.000000</td>\n",
       "      <td>0.000000</td>\n",
       "      <td>0.000000e+00</td>\n",
       "      <td>0.000000e+00</td>\n",
       "      <td>0.000000e+00</td>\n",
       "      <td>0.000000e+00</td>\n",
       "      <td>0.000000</td>\n",
       "      <td>0.000000</td>\n",
       "      <td>0.000000e+00</td>\n",
       "      <td>0.000000e+00</td>\n",
       "      <td>1.000000e+01</td>\n",
       "      <td>0.000000e+00</td>\n",
       "      <td>0.000000e+00</td>\n",
       "      <td>0.000000e+00</td>\n",
       "      <td>0.000000</td>\n",
       "      <td>0.000000e+00</td>\n",
       "      <td>0.000000</td>\n",
       "      <td>0.000000</td>\n",
       "      <td>0.000000</td>\n",
       "      <td>0.000000</td>\n",
       "      <td>0.000000</td>\n",
       "      <td>0.000000e+00</td>\n",
       "      <td>0.000000</td>\n",
       "      <td>0.000000</td>\n",
       "      <td>0.000000</td>\n",
       "      <td>0.000000</td>\n",
       "      <td>0.000000</td>\n",
       "      <td>0.000000</td>\n",
       "      <td>0.000000</td>\n",
       "      <td>0.000000</td>\n",
       "      <td>0.000000</td>\n",
       "      <td>0.000000</td>\n",
       "      <td>0.000000</td>\n",
       "      <td>0.000000</td>\n",
       "      <td>0.0</td>\n",
       "      <td>0.0</td>\n",
       "      <td>0.000000</td>\n",
       "      <td>0.000000</td>\n",
       "      <td>0.0</td>\n",
       "      <td>0.000000</td>\n",
       "      <td>0.000000</td>\n",
       "      <td>0.000000</td>\n",
       "      <td>0.000000e+00</td>\n",
       "      <td>2.017033e+07</td>\n",
       "      <td>0.000000</td>\n",
       "    </tr>\n",
       "    <tr>\n",
       "      <th>50%</th>\n",
       "      <td>4.174470e+07</td>\n",
       "      <td>12165.000000</td>\n",
       "      <td>16.000000</td>\n",
       "      <td>6.671001e+09</td>\n",
       "      <td>384.000000</td>\n",
       "      <td>2.000000</td>\n",
       "      <td>0.000000</td>\n",
       "      <td>0.000000</td>\n",
       "      <td>0.000000</td>\n",
       "      <td>0.000000</td>\n",
       "      <td>0.000000e+00</td>\n",
       "      <td>0.000000</td>\n",
       "      <td>0.000000</td>\n",
       "      <td>0.000000</td>\n",
       "      <td>0.000000e+00</td>\n",
       "      <td>0.000000e+00</td>\n",
       "      <td>0.000000e+00</td>\n",
       "      <td>0.000000</td>\n",
       "      <td>1.490000e+02</td>\n",
       "      <td>0.000000</td>\n",
       "      <td>5.000000</td>\n",
       "      <td>0.000000</td>\n",
       "      <td>0.000000e+00</td>\n",
       "      <td>5.405000e+02</td>\n",
       "      <td>0.000000e+00</td>\n",
       "      <td>0.000000</td>\n",
       "      <td>0.000000</td>\n",
       "      <td>0.000000</td>\n",
       "      <td>0.000000</td>\n",
       "      <td>0.000000e+00</td>\n",
       "      <td>2.000000e+01</td>\n",
       "      <td>0.000000e+00</td>\n",
       "      <td>0.000000</td>\n",
       "      <td>0.000000</td>\n",
       "      <td>0.000000e+00</td>\n",
       "      <td>0.000000e+00</td>\n",
       "      <td>0.000000e+00</td>\n",
       "      <td>1.220000e+02</td>\n",
       "      <td>0.000000</td>\n",
       "      <td>0.000000</td>\n",
       "      <td>0.000000e+00</td>\n",
       "      <td>0.000000e+00</td>\n",
       "      <td>5.420000e+02</td>\n",
       "      <td>6.190000e+02</td>\n",
       "      <td>3.720000e+02</td>\n",
       "      <td>0.000000e+00</td>\n",
       "      <td>0.000000</td>\n",
       "      <td>0.000000e+00</td>\n",
       "      <td>0.000000</td>\n",
       "      <td>0.000000</td>\n",
       "      <td>0.000000</td>\n",
       "      <td>0.000000</td>\n",
       "      <td>0.000000</td>\n",
       "      <td>7.500000e+00</td>\n",
       "      <td>0.000000</td>\n",
       "      <td>0.000000</td>\n",
       "      <td>0.000000</td>\n",
       "      <td>0.000000</td>\n",
       "      <td>0.000000</td>\n",
       "      <td>0.000000</td>\n",
       "      <td>0.000000</td>\n",
       "      <td>0.000000</td>\n",
       "      <td>0.000000</td>\n",
       "      <td>0.000000</td>\n",
       "      <td>0.000000</td>\n",
       "      <td>0.000000</td>\n",
       "      <td>0.0</td>\n",
       "      <td>0.0</td>\n",
       "      <td>0.000000</td>\n",
       "      <td>0.000000</td>\n",
       "      <td>0.0</td>\n",
       "      <td>0.000000</td>\n",
       "      <td>0.000000</td>\n",
       "      <td>0.000000</td>\n",
       "      <td>0.000000e+00</td>\n",
       "      <td>2.017033e+07</td>\n",
       "      <td>0.000000</td>\n",
       "    </tr>\n",
       "    <tr>\n",
       "      <th>75%</th>\n",
       "      <td>6.772359e+07</td>\n",
       "      <td>12300.000000</td>\n",
       "      <td>16.000000</td>\n",
       "      <td>6.678074e+09</td>\n",
       "      <td>384.000000</td>\n",
       "      <td>2.000000</td>\n",
       "      <td>0.000000</td>\n",
       "      <td>0.000000</td>\n",
       "      <td>0.000000</td>\n",
       "      <td>0.000000</td>\n",
       "      <td>0.000000e+00</td>\n",
       "      <td>0.000000</td>\n",
       "      <td>0.000000</td>\n",
       "      <td>0.000000</td>\n",
       "      <td>0.000000e+00</td>\n",
       "      <td>0.000000e+00</td>\n",
       "      <td>6.022500e+02</td>\n",
       "      <td>0.000000</td>\n",
       "      <td>3.229000e+03</td>\n",
       "      <td>0.000000</td>\n",
       "      <td>151.250000</td>\n",
       "      <td>0.000000</td>\n",
       "      <td>8.122500e+02</td>\n",
       "      <td>7.218750e+03</td>\n",
       "      <td>1.000000e+01</td>\n",
       "      <td>0.000000</td>\n",
       "      <td>0.000000</td>\n",
       "      <td>0.000000</td>\n",
       "      <td>0.000000</td>\n",
       "      <td>6.000000e+00</td>\n",
       "      <td>5.292500e+02</td>\n",
       "      <td>0.000000e+00</td>\n",
       "      <td>0.000000</td>\n",
       "      <td>0.000000</td>\n",
       "      <td>0.000000e+00</td>\n",
       "      <td>0.000000e+00</td>\n",
       "      <td>0.000000e+00</td>\n",
       "      <td>3.795250e+03</td>\n",
       "      <td>0.000000</td>\n",
       "      <td>0.000000</td>\n",
       "      <td>0.000000e+00</td>\n",
       "      <td>4.865000e+02</td>\n",
       "      <td>7.222500e+03</td>\n",
       "      <td>9.646500e+03</td>\n",
       "      <td>7.888000e+03</td>\n",
       "      <td>3.425000e+01</td>\n",
       "      <td>0.000000</td>\n",
       "      <td>0.000000e+00</td>\n",
       "      <td>0.000000</td>\n",
       "      <td>0.000000</td>\n",
       "      <td>0.000000</td>\n",
       "      <td>0.000000</td>\n",
       "      <td>0.000000</td>\n",
       "      <td>7.500000e+01</td>\n",
       "      <td>0.000000</td>\n",
       "      <td>32.000000</td>\n",
       "      <td>0.000000</td>\n",
       "      <td>0.000000</td>\n",
       "      <td>0.000000</td>\n",
       "      <td>0.000000</td>\n",
       "      <td>150.250000</td>\n",
       "      <td>0.000000</td>\n",
       "      <td>0.000000</td>\n",
       "      <td>0.000000</td>\n",
       "      <td>0.000000</td>\n",
       "      <td>0.000000</td>\n",
       "      <td>0.0</td>\n",
       "      <td>0.0</td>\n",
       "      <td>0.000000</td>\n",
       "      <td>0.000000</td>\n",
       "      <td>0.0</td>\n",
       "      <td>0.000000</td>\n",
       "      <td>0.000000</td>\n",
       "      <td>0.000000</td>\n",
       "      <td>0.000000e+00</td>\n",
       "      <td>2.017042e+07</td>\n",
       "      <td>0.000000</td>\n",
       "    </tr>\n",
       "    <tr>\n",
       "      <th>max</th>\n",
       "      <td>9.995392e+07</td>\n",
       "      <td>19000.000000</td>\n",
       "      <td>53.000000</td>\n",
       "      <td>6.686089e+09</td>\n",
       "      <td>385.000000</td>\n",
       "      <td>2.000000</td>\n",
       "      <td>304941.000000</td>\n",
       "      <td>14374.000000</td>\n",
       "      <td>41530.000000</td>\n",
       "      <td>51606.000000</td>\n",
       "      <td>7.501007e+06</td>\n",
       "      <td>64538.000000</td>\n",
       "      <td>920183.000000</td>\n",
       "      <td>248225.000000</td>\n",
       "      <td>3.567577e+06</td>\n",
       "      <td>7.749469e+06</td>\n",
       "      <td>4.298340e+06</td>\n",
       "      <td>507163.000000</td>\n",
       "      <td>3.731139e+06</td>\n",
       "      <td>825000.000000</td>\n",
       "      <td>603618.000000</td>\n",
       "      <td>780130.000000</td>\n",
       "      <td>6.723450e+06</td>\n",
       "      <td>8.208324e+06</td>\n",
       "      <td>2.921097e+06</td>\n",
       "      <td>0.000000</td>\n",
       "      <td>304882.000000</td>\n",
       "      <td>396000.000000</td>\n",
       "      <td>30000.000000</td>\n",
       "      <td>3.037612e+06</td>\n",
       "      <td>3.037620e+06</td>\n",
       "      <td>4.079220e+06</td>\n",
       "      <td>250259.000000</td>\n",
       "      <td>233854.000000</td>\n",
       "      <td>4.702950e+06</td>\n",
       "      <td>6.907789e+06</td>\n",
       "      <td>3.018165e+06</td>\n",
       "      <td>3.304446e+06</td>\n",
       "      <td>841770.000000</td>\n",
       "      <td>94631.000000</td>\n",
       "      <td>5.482326e+06</td>\n",
       "      <td>5.861422e+06</td>\n",
       "      <td>8.208324e+06</td>\n",
       "      <td>2.141001e+07</td>\n",
       "      <td>2.122567e+07</td>\n",
       "      <td>9.431903e+06</td>\n",
       "      <td>680362.000000</td>\n",
       "      <td>8.735066e+06</td>\n",
       "      <td>876925.000000</td>\n",
       "      <td>228605.000000</td>\n",
       "      <td>194554.000000</td>\n",
       "      <td>169144.000000</td>\n",
       "      <td>777106.000000</td>\n",
       "      <td>1.010871e+06</td>\n",
       "      <td>872025.000000</td>\n",
       "      <td>162517.000000</td>\n",
       "      <td>10383.000000</td>\n",
       "      <td>244928.000000</td>\n",
       "      <td>118233.000000</td>\n",
       "      <td>73118.000000</td>\n",
       "      <td>711827.000000</td>\n",
       "      <td>21510.000000</td>\n",
       "      <td>0.000000</td>\n",
       "      <td>711827.000000</td>\n",
       "      <td>0.000000</td>\n",
       "      <td>0.000000</td>\n",
       "      <td>0.0</td>\n",
       "      <td>0.0</td>\n",
       "      <td>0.000000</td>\n",
       "      <td>26000.000000</td>\n",
       "      <td>0.0</td>\n",
       "      <td>873.000000</td>\n",
       "      <td>26000.000000</td>\n",
       "      <td>0.000000</td>\n",
       "      <td>3.037620e+06</td>\n",
       "      <td>2.018030e+07</td>\n",
       "      <td>1.000000</td>\n",
       "    </tr>\n",
       "  </tbody>\n",
       "</table>\n",
       "</div>"
      ],
      "text/plain": [
       "               ОКПО         ОКОПФ         ОКФС           ИНН  \\\n",
       "count  8.272000e+03   8272.000000  8272.000000  8.272000e+03   \n",
       "mean   4.472248e+07   7530.566489    16.076161  6.662983e+09   \n",
       "std    2.838247e+07   5946.713260     1.403659  2.203460e+07   \n",
       "min    4.047100e+04     39.000000    10.000000  6.601002e+09   \n",
       "25%    2.504050e+07     65.000000    16.000000  6.658408e+09   \n",
       "50%    4.174470e+07  12165.000000    16.000000  6.671001e+09   \n",
       "75%    6.772359e+07  12300.000000    16.000000  6.678074e+09   \n",
       "max    9.995392e+07  19000.000000    53.000000  6.686089e+09   \n",
       "\n",
       "       Код единицы измерения   Тип отчета           1110          1120  \\\n",
       "count            8272.000000  8272.000000    8272.000000   8272.000000   \n",
       "mean              383.972316     1.505561      44.650024      1.797751   \n",
       "std                 0.165542     0.501207    3359.054083    158.127742   \n",
       "min               383.000000     0.000000       0.000000      0.000000   \n",
       "25%               384.000000     1.000000       0.000000      0.000000   \n",
       "50%               384.000000     2.000000       0.000000      0.000000   \n",
       "75%               384.000000     2.000000       0.000000      0.000000   \n",
       "max               385.000000     2.000000  304941.000000  14374.000000   \n",
       "\n",
       "               1130          1140          1150          1160           1170  \\\n",
       "count   8272.000000   8272.000000  8.272000e+03   8272.000000    8272.000000   \n",
       "mean       6.719657      6.374033  5.855461e+03     37.691852     725.818786   \n",
       "std      463.451950    567.539446  1.129158e+05   1106.952507   15048.296808   \n",
       "min        0.000000      0.000000 -1.700000e+01      0.000000     -11.000000   \n",
       "25%        0.000000      0.000000  0.000000e+00      0.000000       0.000000   \n",
       "50%        0.000000      0.000000  0.000000e+00      0.000000       0.000000   \n",
       "75%        0.000000      0.000000  0.000000e+00      0.000000       0.000000   \n",
       "max    41530.000000  51606.000000  7.501007e+06  64538.000000  920183.000000   \n",
       "\n",
       "                1180          1190          1100          1210           1220  \\\n",
       "count    8272.000000  8.272000e+03  8.272000e+03  8.272000e+03    8272.000000   \n",
       "mean      207.490087  2.395977e+03  8.747759e+03  5.308042e+03     487.251209   \n",
       "std      4818.341706  6.017812e+04  1.343161e+05  6.383890e+04   10095.949836   \n",
       "min     -1353.000000  0.000000e+00 -2.000000e+00 -2.500000e+01   -2907.000000   \n",
       "25%         0.000000  0.000000e+00  0.000000e+00  0.000000e+00       0.000000   \n",
       "50%         0.000000  0.000000e+00  0.000000e+00  0.000000e+00       0.000000   \n",
       "75%         0.000000  0.000000e+00  0.000000e+00  6.022500e+02       0.000000   \n",
       "max    248225.000000  3.567577e+06  7.749469e+06  4.298340e+06  507163.000000   \n",
       "\n",
       "               1230           1240           1250           1260  \\\n",
       "count  8.272000e+03    8272.000000    8272.000000    8272.000000   \n",
       "mean   1.420742e+04    1496.477635    1040.082205     340.812137   \n",
       "std    9.429024e+04   17978.437874   10823.720778    9515.587358   \n",
       "min   -6.553000e+03   -4794.000000    -510.000000    -231.000000   \n",
       "25%    0.000000e+00       0.000000       0.000000       0.000000   \n",
       "50%    1.490000e+02       0.000000       5.000000       0.000000   \n",
       "75%    3.229000e+03       0.000000     151.250000       0.000000   \n",
       "max    3.731139e+06  825000.000000  603618.000000  780130.000000   \n",
       "\n",
       "               1200          1600          1310           1320           1340  \\\n",
       "count  8.272000e+03  8.272000e+03  8.272000e+03    8272.000000    8272.000000   \n",
       "mean   1.938014e+04  3.216152e+04  1.056244e+03     -20.164289      61.929279   \n",
       "std    1.497095e+05  2.358104e+05  4.506346e+04    1350.867470    3437.447405   \n",
       "min   -1.078000e+03 -3.260000e+02 -9.630000e+02 -119487.000000       0.000000   \n",
       "25%    0.000000e+00  1.000000e+01  0.000000e+00       0.000000       0.000000   \n",
       "50%    0.000000e+00  5.405000e+02  0.000000e+00       0.000000       0.000000   \n",
       "75%    8.122500e+02  7.218750e+03  1.000000e+01       0.000000       0.000000   \n",
       "max    6.723450e+06  8.208324e+06  2.921097e+06       0.000000  304882.000000   \n",
       "\n",
       "                1350          1360          1370          1300          1410  \\\n",
       "count    8272.000000   8272.000000  8.272000e+03  8.272000e+03  8.272000e+03   \n",
       "mean      108.569270     10.613153  2.207021e+03  3.940048e+03  3.679065e+03   \n",
       "std      5228.254315    440.222274  5.789789e+04  6.712341e+04  7.102575e+04   \n",
       "min       -29.000000 -12539.000000 -1.277099e+06 -8.958530e+05 -6.613000e+03   \n",
       "25%         0.000000      0.000000  0.000000e+00  0.000000e+00  0.000000e+00   \n",
       "50%         0.000000      0.000000  0.000000e+00  2.000000e+01  0.000000e+00   \n",
       "75%         0.000000      0.000000  6.000000e+00  5.292500e+02  0.000000e+00   \n",
       "max    396000.000000  30000.000000  3.037612e+06  3.037620e+06  4.079220e+06   \n",
       "\n",
       "                1420           1430          1450          1400          1510  \\\n",
       "count    8272.000000    8272.000000  8.272000e+03  8.272000e+03  8.272000e+03   \n",
       "mean      109.437379      28.296301  2.435227e+03  5.992858e+03  2.643804e+03   \n",
       "std      3875.610708    2571.222042  8.063461e+04  1.261451e+05  4.984500e+04   \n",
       "min       -29.000000       0.000000 -5.568000e+03 -4.645000e+03 -4.853000e+03   \n",
       "25%         0.000000       0.000000  0.000000e+00  0.000000e+00  0.000000e+00   \n",
       "50%         0.000000       0.000000  0.000000e+00  0.000000e+00  0.000000e+00   \n",
       "75%         0.000000       0.000000  0.000000e+00  0.000000e+00  0.000000e+00   \n",
       "max    250259.000000  233854.000000  4.702950e+06  6.907789e+06  3.018165e+06   \n",
       "\n",
       "               1520           1530          1540          1550          1500  \\\n",
       "count  8.272000e+03    8272.000000   8272.000000  8.272000e+03  8.272000e+03   \n",
       "mean   1.720581e+04     820.170575     60.683873  1.249607e+03  1.872379e+04   \n",
       "std    9.678681e+04   19763.934912   1364.264827  6.362653e+04  1.367936e+05   \n",
       "min   -2.600000e+02       0.000000      0.000000  0.000000e+00 -6.200000e+01   \n",
       "25%    0.000000e+00       0.000000      0.000000  0.000000e+00  0.000000e+00   \n",
       "50%    1.220000e+02       0.000000      0.000000  0.000000e+00  0.000000e+00   \n",
       "75%    3.795250e+03       0.000000      0.000000  0.000000e+00  4.865000e+02   \n",
       "max    3.304446e+06  841770.000000  94631.000000  5.482326e+06  5.861422e+06   \n",
       "\n",
       "               1700          2110          2120          2100           2210  \\\n",
       "count  8.272000e+03  8.272000e+03  8.272000e+03  8.272000e+03    8272.000000   \n",
       "mean   3.217243e+04  3.411332e+04  3.009415e+04  3.793136e+03     356.756286   \n",
       "std    2.358142e+05  3.319938e+05  3.036839e+05  1.070828e+05    8420.137464   \n",
       "min   -4.050000e+02  0.000000e+00  0.000000e+00 -4.147450e+05       0.000000   \n",
       "25%    1.000000e+01  0.000000e+00  0.000000e+00  0.000000e+00       0.000000   \n",
       "50%    5.420000e+02  6.190000e+02  3.720000e+02  0.000000e+00       0.000000   \n",
       "75%    7.222500e+03  9.646500e+03  7.888000e+03  3.425000e+01       0.000000   \n",
       "max    8.208324e+06  2.141001e+07  2.122567e+07  9.431903e+06  680362.000000   \n",
       "\n",
       "               2220           2200           2310           2320  \\\n",
       "count  8.272000e+03    8272.000000    8272.000000    8272.000000   \n",
       "mean   2.250049e+03    1186.502297      28.157157     165.127901   \n",
       "std    9.649684e+04   22465.830562    2513.711033    3168.614784   \n",
       "min    0.000000e+00 -479748.000000       0.000000       0.000000   \n",
       "25%    0.000000e+00       0.000000       0.000000       0.000000   \n",
       "50%    0.000000e+00       0.000000       0.000000       0.000000   \n",
       "75%    0.000000e+00       0.000000       0.000000       0.000000   \n",
       "max    8.735066e+06  876925.000000  228605.000000  194554.000000   \n",
       "\n",
       "                2330           2340          2350           2300  \\\n",
       "count    8272.000000    8272.000000  8.272000e+03    8272.000000   \n",
       "mean      279.333293    1884.188951  2.281515e+03     752.001088   \n",
       "std      4334.779170   19784.534833  2.338858e+04   24927.577579   \n",
       "min      -148.000000   -2359.000000 -1.170000e+02 -719469.000000   \n",
       "25%         0.000000       0.000000  0.000000e+00       0.000000   \n",
       "50%         0.000000       0.000000  7.500000e+00       0.000000   \n",
       "75%         0.000000       0.000000  7.500000e+01       0.000000   \n",
       "max    169144.000000  777106.000000  1.010871e+06  872025.000000   \n",
       "\n",
       "                2410          2421           2430           2450  \\\n",
       "count    8272.000000   8272.000000    8272.000000    8272.000000   \n",
       "mean      247.389144    -15.028530      43.232108      82.815885   \n",
       "std      3431.313781    573.089413    3031.100491    2664.968118   \n",
       "min      -672.000000 -29985.000000  -37704.000000  -37515.000000   \n",
       "25%         0.000000      0.000000       0.000000       0.000000   \n",
       "50%         0.000000      0.000000       0.000000       0.000000   \n",
       "75%        32.000000      0.000000       0.000000       0.000000   \n",
       "max    162517.000000  10383.000000  244928.000000  118233.000000   \n",
       "\n",
       "               2460           2400          2510         2520           2500  \\\n",
       "count   8272.000000    8272.000000   8272.000000  8272.000000    8272.000000   \n",
       "mean      26.246978     718.666465      3.641683    -1.846107     553.152563   \n",
       "std      866.104760   20330.799757    252.374789    86.489770   20163.876597   \n",
       "min    -3672.000000 -594445.000000   -470.000000 -6343.000000 -594445.000000   \n",
       "25%        0.000000       0.000000      0.000000     0.000000       0.000000   \n",
       "50%        0.000000       0.000000      0.000000     0.000000       0.000000   \n",
       "75%        0.000000     150.250000      0.000000     0.000000       0.000000   \n",
       "max    73118.000000  711827.000000  21510.000000     0.000000  711827.000000   \n",
       "\n",
       "                3200         3310    3314    3315         3316          3320  \\\n",
       "count    8272.000000  8272.000000  8272.0  8272.0  8272.000000   8272.000000   \n",
       "mean      -18.422510    -0.011968     0.0     0.0    -0.011968      3.248670   \n",
       "std      1344.400576     1.088504     0.0     0.0     1.088504    286.029614   \n",
       "min   -119487.000000   -99.000000     0.0     0.0   -99.000000      0.000000   \n",
       "25%         0.000000     0.000000     0.0     0.0     0.000000      0.000000   \n",
       "50%         0.000000     0.000000     0.0     0.0     0.000000      0.000000   \n",
       "75%         0.000000     0.000000     0.0     0.0     0.000000      0.000000   \n",
       "max         0.000000     0.000000     0.0     0.0     0.000000  26000.000000   \n",
       "\n",
       "         3324         3325          3326           3300          3600  \\\n",
       "count  8272.0  8272.000000   8272.000000    8272.000000  8.272000e+03   \n",
       "mean      0.0     0.105537      3.143133     -21.472679  3.675922e+03   \n",
       "std       0.0     9.598624    285.869673    1430.422062  6.699205e+04   \n",
       "min       0.0     0.000000      0.000000 -119487.000000 -5.923290e+05   \n",
       "25%       0.0     0.000000      0.000000       0.000000  0.000000e+00   \n",
       "50%       0.0     0.000000      0.000000       0.000000  0.000000e+00   \n",
       "75%       0.0     0.000000      0.000000       0.000000  0.000000e+00   \n",
       "max       0.0   873.000000  26000.000000       0.000000  3.037620e+06   \n",
       "\n",
       "       Дата актуализации  Ликвидировано  \n",
       "count       8.272000e+03    8272.000000  \n",
       "mean        2.017041e+07       0.003143  \n",
       "std         4.181936e+02       0.055979  \n",
       "min         2.017012e+07       0.000000  \n",
       "25%         2.017033e+07       0.000000  \n",
       "50%         2.017033e+07       0.000000  \n",
       "75%         2.017042e+07       0.000000  \n",
       "max         2.018030e+07       1.000000  "
      ]
     },
     "execution_count": 9,
     "metadata": {},
     "output_type": "execute_result"
    }
   ],
   "source": [
    "df1.describe()"
   ]
  },
  {
   "cell_type": "code",
   "execution_count": 10,
   "metadata": {
    "scrolled": true
   },
   "outputs": [
    {
     "data": {
      "text/html": [
       "<div>\n",
       "<style scoped>\n",
       "    .dataframe tbody tr th:only-of-type {\n",
       "        vertical-align: middle;\n",
       "    }\n",
       "\n",
       "    .dataframe tbody tr th {\n",
       "        vertical-align: top;\n",
       "    }\n",
       "\n",
       "    .dataframe thead th {\n",
       "        text-align: right;\n",
       "    }\n",
       "</style>\n",
       "<table border=\"1\" class=\"dataframe\">\n",
       "  <thead>\n",
       "    <tr style=\"text-align: right;\">\n",
       "      <th></th>\n",
       "      <th>count</th>\n",
       "      <th>unique</th>\n",
       "      <th>top</th>\n",
       "      <th>freq</th>\n",
       "    </tr>\n",
       "  </thead>\n",
       "  <tbody>\n",
       "    <tr>\n",
       "      <th>Наименование</th>\n",
       "      <td>8272</td>\n",
       "      <td>7525</td>\n",
       "      <td>ОБЩЕСТВО С ОГРАНИЧЕННОЙ ОТВЕТСТВЕННОСТЬЮ \"СТРО...</td>\n",
       "      <td>17</td>\n",
       "    </tr>\n",
       "    <tr>\n",
       "      <th>ОКВЭД</th>\n",
       "      <td>8272</td>\n",
       "      <td>52</td>\n",
       "      <td>41.20</td>\n",
       "      <td>3589</td>\n",
       "    </tr>\n",
       "  </tbody>\n",
       "</table>\n",
       "</div>"
      ],
      "text/plain": [
       "             count unique                                                top  \\\n",
       "Наименование  8272   7525  ОБЩЕСТВО С ОГРАНИЧЕННОЙ ОТВЕТСТВЕННОСТЬЮ \"СТРО...   \n",
       "ОКВЭД         8272     52                                              41.20   \n",
       "\n",
       "              freq  \n",
       "Наименование    17  \n",
       "ОКВЭД         3589  "
      ]
     },
     "execution_count": 10,
     "metadata": {},
     "output_type": "execute_result"
    }
   ],
   "source": [
    "df1.describe(include = 'object').T"
   ]
  },
  {
   "cell_type": "markdown",
   "metadata": {},
   "source": [
    "### Строим функции плотности вероятности для признаков и смотрим на распределения"
   ]
  },
  {
   "cell_type": "code",
   "execution_count": 11,
   "metadata": {
    "scrolled": false
   },
   "outputs": [
    {
     "data": {
      "text/plain": [
       "<seaborn.axisgrid.PairGrid at 0x23d1019b2b0>"
      ]
     },
     "execution_count": 11,
     "metadata": {},
     "output_type": "execute_result"
    },
    {
     "data": {
      "image/png": "[encoded data removed]",
      "text/plain": [
       "<matplotlib.figure.Figure at 0x23d10198ac8>"
      ]
     },
     "metadata": {},
     "output_type": "display_data"
    }
   ],
   "source": [
    "plot_features = ['1110', '1130', '1150', '1160', '1170']\n",
    "new_palette = sns.color_palette(\"Paired\")\n",
    "sns.pairplot(df1, vars=plot_features, hue=\"Ликвидировано\", size=3, diag_kind=\"kde\")"
   ]
  },
  {
   "cell_type": "markdown",
   "metadata": {},
   "source": [
    "### Строим функции плотности вероятности для признаков и смотрим на распределения¶"
   ]
  },
  {
   "cell_type": "code",
   "execution_count": 12,
   "metadata": {
    "scrolled": false
   },
   "outputs": [
    {
     "data": {
      "image/png": "[encoded data removed]",
      "text/plain": [
       "<matplotlib.figure.Figure at 0x23d135443c8>"
      ]
     },
     "metadata": {},
     "output_type": "display_data"
    }
   ],
   "source": [
    "plot_features = ['1110']\n",
    "plt.figure(figsize=(10,5))\n",
    "grids = gridspec.GridSpec(len(plot_features),1)\n",
    "for i,j in enumerate(df1[plot_features]):\n",
    "    ax = plt.subplot(grids[i])\n",
    "    sns.distplot(df1[j][df1.Ликвидировано == 0], bins=30)\n",
    "    sns.distplot(df1[j][df1.Ликвидировано == 1], bins=30)\n",
    "    ax.set_xlabel('')\n",
    "    ax.set_title('Histogram for feature: ' + str(j))\n",
    "plt.show()"
   ]
  },
  {
   "cell_type": "markdown",
   "metadata": {},
   "source": [
    "### Корреляция (только статьи)"
   ]
  },
  {
   "cell_type": "code",
   "execution_count": 13,
   "metadata": {},
   "outputs": [],
   "source": [
    "df1_1 = df1.iloc[:,8:32]\n",
    "df1_2 = df1.iloc[:,32:56]\n",
    "df1_3 = df1.iloc[:,56:77]"
   ]
  },
  {
   "cell_type": "code",
   "execution_count": 14,
   "metadata": {
    "scrolled": false
   },
   "outputs": [
    {
     "data": {
      "text/plain": [
       "<matplotlib.axes._subplots.AxesSubplot at 0x23d106e05c0>"
      ]
     },
     "execution_count": 14,
     "metadata": {},
     "output_type": "execute_result"
    },
    {
     "data": {
      "image/png": "[encoded data removed]",
      "text/plain": [
       "<matplotlib.figure.Figure at 0x23d135009e8>"
      ]
     },
     "metadata": {},
     "output_type": "display_data"
    }
   ],
   "source": [
    "f, ax = plt.subplots(figsize=(15, 15))\n",
    "plt.title('Pearson correlation coefficients of features')\n",
    "sns.heatmap(df1_1.astype(float).corr(),linewidths=0.25,vmax=1.0, square=True, linecolor='black')"
   ]
  },
  {
   "cell_type": "code",
   "execution_count": 15,
   "metadata": {
    "scrolled": false
   },
   "outputs": [
    {
     "data": {
      "text/plain": [
       "<matplotlib.axes._subplots.AxesSubplot at 0x23d137fbe48>"
      ]
     },
     "execution_count": 15,
     "metadata": {},
     "output_type": "execute_result"
    },
    {
     "data": {
      "image/png": "[encoded data removed]",
      "text/plain": [
       "<matplotlib.figure.Figure at 0x23d13975be0>"
      ]
     },
     "metadata": {},
     "output_type": "display_data"
    }
   ],
   "source": [
    "f, ax = plt.subplots(figsize=(15, 15))\n",
    "plt.title('Pearson correlation coefficients of features')\n",
    "sns.heatmap(df1_2.astype(float).corr(),linewidths=0.25,vmax=1.0, square=True, linecolor='black')"
   ]
  },
  {
   "cell_type": "code",
   "execution_count": 16,
   "metadata": {
    "scrolled": true
   },
   "outputs": [
    {
     "data": {
      "text/plain": [
       "<matplotlib.axes._subplots.AxesSubplot at 0x23d1590c668>"
      ]
     },
     "execution_count": 16,
     "metadata": {},
     "output_type": "execute_result"
    },
    {
     "data": {
      "image/png": "[encoded data removed]",
      "text/plain": [
       "<matplotlib.figure.Figure at 0x23d158410f0>"
      ]
     },
     "metadata": {},
     "output_type": "display_data"
    }
   ],
   "source": [
    "f, ax = plt.subplots(figsize=(15, 15))\n",
    "plt.title('Pearson correlation coefficients of features')\n",
    "sns.heatmap(df1_3.astype(float).corr(),linewidths=0.25,vmax=1.0, square=True, linecolor='black')"
   ]
  },
  {
   "cell_type": "code",
   "execution_count": 17,
   "metadata": {},
   "outputs": [
    {
     "data": {
      "text/plain": [
       "(array([0], dtype=int64), array([0], dtype=int64), array([0], dtype=int64))"
      ]
     },
     "execution_count": 17,
     "metadata": {},
     "output_type": "execute_result"
    }
   ],
   "source": [
    "# статьи 3314, 3315, 3324 постоянны - только нули (необходимо убрать данные признаки перед построением модели)\n",
    "df1['3314'].unique(), df1['3315'].unique(), df1['3324'].unique()"
   ]
  },
  {
   "cell_type": "markdown",
   "metadata": {},
   "source": [
    "### Корреляция признаков с целевой переменной"
   ]
  },
  {
   "cell_type": "code",
   "execution_count": 18,
   "metadata": {},
   "outputs": [],
   "source": [
    "def CorrelationSelector(x,y):\n",
    "    columns = x.columns\n",
    "    corr_data = dict([(abs(np.corrcoef(x[c],y)[0,1]),c) for c in columns if math.isnan(abs(np.corrcoef(x[c],y)[0,1]))==False])\n",
    "    sorted_corr_data = sorted(corr_data.items(), key=operator.itemgetter(0), reverse=True)\n",
    "    return sorted_corr_data"
   ]
  },
  {
   "cell_type": "code",
   "execution_count": 19,
   "metadata": {
    "scrolled": true
   },
   "outputs": [
    {
     "data": {
      "text/plain": [
       "[(0.043249966927124635, '1180'),\n",
       " (0.041624934217415144, 'ОКПО'),\n",
       " (0.017455286160795207, '2450'),\n",
       " (0.016766731371045927, '2400'),\n",
       " (0.016280991930428864, '2300'),\n",
       " (0.016268918085681074, '2500'),\n",
       " (0.01600303844534561, 'ИНН'),\n",
       " (0.01370650761933887, '2200'),\n",
       " (0.011486064284994676, '1370'),\n",
       " (0.010312569780123652, '1300'),\n",
       " (0.007853444485517488, '1510'),\n",
       " (0.006720969126012515, '3600'),\n",
       " (0.005913507676462461, '2430'),\n",
       " (0.005372183867710379, '1250'),\n",
       " (0.004932290051918849, 'Тип отчета'),\n",
       " (0.0048985213800239605, 'ОКОПФ'),\n",
       " (0.004728817605805878, '1260'),\n",
       " (0.004606108204783259, '1240'),\n",
       " (0.004259082090360423, '2110'),\n",
       " (0.004055193926837722, '1520')]"
      ]
     },
     "execution_count": 19,
     "metadata": {},
     "output_type": "execute_result"
    }
   ],
   "source": [
    "CorrelationSelector(df1.drop(['Ликвидировано', 'Наименование', 'ОКВЭД'],1),df1['Ликвидировано'])[0:20]"
   ]
  },
  {
   "cell_type": "markdown",
   "metadata": {},
   "source": [
    "### Посмотрим, насколько можем понизить размерность задачи без значительно потери информации"
   ]
  },
  {
   "cell_type": "code",
   "execution_count": 20,
   "metadata": {
    "scrolled": true
   },
   "outputs": [
    {
     "data": {
      "image/png": "[encoded data removed]",
      "text/plain": [
       "<matplotlib.figure.Figure at 0x23d15c68160>"
      ]
     },
     "metadata": {},
     "output_type": "display_data"
    }
   ],
   "source": [
    "scaler = StandardScaler()\n",
    "x_scaled = scaler.fit_transform(df1.drop(['Ликвидировано', 'Наименование', 'ОКВЭД'],1))\n",
    "from numpy.linalg import eig\n",
    "covX = np.cov(x_scaled.T)\n",
    "eigs, vecs = eig(covX)\n",
    "eig_pairs = [(abs(eigs[i]),vecs[:,i]) for i in range(len(eigs))]\n",
    "eig_pairs.sort(key = lambda x: x[0], reverse= True)\n",
    "E = sum(eigs)\n",
    "exp_variance = [(i/E)*100 for i in sorted(eigs, reverse=True)] # Individual explained variance\n",
    "cum_variance = np.cumsum(exp_variance) # Cumulative explained variance\n",
    "\n",
    "plt.figure(figsize=(30,10))\n",
    "plt.bar(range(len(eigs)), exp_variance, alpha=0.8, label='Variance of individual PC, %', color = 'r')\n",
    "plt.step(range(len(eigs)), cum_variance, label='Cumulative variance, %')\n",
    "plt.ylabel('Total variance %')\n",
    "plt.xlabel('Number of principal components')\n",
    "plt.legend()\n",
    "plt.show()"
   ]
  },
  {
   "cell_type": "code",
   "execution_count": 21,
   "metadata": {},
   "outputs": [],
   "source": [
    "# Для сохранения 90% информации необходимо от 30 до 35 признаков \n",
    "# Возможно стоит сделать отбор признаков "
   ]
  },
  {
   "cell_type": "markdown",
   "metadata": {},
   "source": [
    "### Преобразование переменных"
   ]
  },
  {
   "cell_type": "code",
   "execution_count": 22,
   "metadata": {},
   "outputs": [
    {
     "data": {
      "text/plain": [
       "Index(['Наименование', 'ОКПО', 'ОКОПФ', 'ОКФС', 'ОКВЭД', 'ИНН',\n",
       "       'Код единицы измерения', 'Тип отчета', '1110', '1120', '1130', '1140',\n",
       "       '1150', '1160', '1170', '1180', '1190', '1100', '1210', '1220', '1230',\n",
       "       '1240', '1250', '1260', '1200', '1600', '1310', '1320', '1340', '1350',\n",
       "       '1360', '1370', '1300', '1410', '1420', '1430', '1450', '1400', '1510',\n",
       "       '1520', '1530', '1540', '1550', '1500', '1700', '2110', '2120', '2100',\n",
       "       '2210', '2220', '2200', '2310', '2320', '2330', '2340', '2350', '2300',\n",
       "       '2410', '2421', '2430', '2450', '2460', '2400', '2510', '2520', '2500',\n",
       "       '3200', '3310', '3314', '3315', '3316', '3320', '3324', '3325', '3326',\n",
       "       '3300', '3600', 'Дата актуализации', 'Ликвидировано'],\n",
       "      dtype='object')"
      ]
     },
     "execution_count": 22,
     "metadata": {},
     "output_type": "execute_result"
    }
   ],
   "source": [
    "df1.columns"
   ]
  },
  {
   "cell_type": "code",
   "execution_count": 23,
   "metadata": {},
   "outputs": [],
   "source": [
    "# ОКПО Общероссийский классификатор предприятий и организаций  - не преобразуем, убираем из датасета при построении модели\n",
    "        # В первом разделе общероссийском классификаторе находятся коды, созданные кодированием порядкового номера. Здесь создаются первые восемь цифр. Причем, первые семь – это сведения согласно порядковому номеру, а восьмая – контрольное число.\n",
    "        # Источник: http://vseproip.com/otkrytie-i-zakrytie-ip/okpo/skolko-cifr-soderzhit-kod-okpo.html\n",
    "        \n",
    "# ОКОПФ  Общероссийский Классификатор Организационно-Правовых Форм  - может попробовать первую цифру вытащить?\n",
    "        # http://ip-nalog.ru/kody-statistiki/okopf.html \n",
    "        # количество цифр разное, если только первую вытаскивать от 1 до 7 (1, 4, 5, 6 - в первом датасете)\n",
    "            # 1 00 00 - организационно-правовые формы юридических лиц, являющихся коммерческими корпоративными организациями;\n",
    "            # 4 00 00 - организационно-правовые формы международных организаций, осуществляющих деятельность на территории Российской Федерации;\n",
    "            # 5 00 00 - организационно-правовые формы для деятельности граждан (физических лиц).\n",
    "            # 6 00 00 - организационно-правовые формы юридических лиц, являющихся коммерческими унитарными организациями.\n",
    "            \n",
    "# ОКФС Общероссийский Классификатор Форм Собственности  - преобразуем\n",
    "        # http://ip-nalog.ru/kody-statistiki/okfs.html\n",
    "        # либо в 4 столбца, либо в 12\n",
    "    \n",
    "# ОКВЭД Общероссийский классификатор видов экономической деятельности - преобразуем\n",
    "        # Первые 4 цифры или 3 цифры, в столбцы\n",
    "        # XX — класс;\n",
    "        # ХХ.Х — подкласс;\n",
    "        # ХХ.ХХ — группа;\n",
    "    \n",
    "# ИНН Индивидуальный номер налогоплательщика  - преобразуем, вытаскиваем номер налоговой инспекции\n",
    "        # 2 цифры - код субъекта РФ\n",
    "        # следующие 2 -номер местной налоговой инспекции\n",
    "        # далее номер записи и контрольные цифры\n",
    "        \n",
    "# Код единицы измерения - преобразуем, перевод в тысячи рублей\n",
    "        # 384 Тысяча рублей   95% записей\n",
    "        # 383 Рубль \n",
    "        # 385 Миллион рублей\n",
    "        \n",
    "# Тип отчета - 0,1,2 - до конца не понятно что это, не преобразуем, убираем из датасета"
   ]
  },
  {
   "cell_type": "code",
   "execution_count": 24,
   "metadata": {},
   "outputs": [],
   "source": [
    "# преобразование ИНН\n",
    "df1['Tax_inspection'] = df1['ИНН'].map(lambda x: str(x)[:-6]) # удаление последних 6 символов\n",
    "df1['Tax_inspection'] = df1['Tax_inspection'].map(lambda x: str(x)[2:]) # удаление первых 2 символов"
   ]
  },
  {
   "cell_type": "code",
   "execution_count": 25,
   "metadata": {},
   "outputs": [
    {
     "data": {
      "text/plain": [
       "array(['71', '70', '74', '85', '12', '58', '72', '19', '78', '64', '23',\n",
       "       '57', '83', '79', '86', '76', '33', '81', '82', '84', '77', '61',\n",
       "       '59', '62', '17', '28', '60', '66', '80', '26', '68', '38', '63',\n",
       "       '65', '37', '24', '48', '02', '07', '27', '25', '54', '16', '05',\n",
       "       '73', '46', '13', '03', '39', '30', '21', '29', '56', '20', '52',\n",
       "       '69', '04', '31', '14', '01', '32', '10', '43', '06', '35', '36',\n",
       "       '67', '09', '15', '11', '34', '40', '47', '55', '49', '51'],\n",
       "      dtype=object)"
      ]
     },
     "execution_count": 25,
     "metadata": {},
     "output_type": "execute_result"
    }
   ],
   "source": [
    "df1['Tax_inspection'].unique()"
   ]
  },
  {
   "cell_type": "code",
   "execution_count": 26,
   "metadata": {},
   "outputs": [
    {
     "data": {
      "text/plain": [
       "70    0.130803\n",
       "58    0.120769\n",
       "71    0.110493\n",
       "79    0.075435\n",
       "85    0.070721\n",
       "Name: Tax_inspection, dtype: float64"
      ]
     },
     "execution_count": 26,
     "metadata": {},
     "output_type": "execute_result"
    }
   ],
   "source": [
    "df1['Tax_inspection'].value_counts(normalize=True).head(5)"
   ]
  },
  {
   "cell_type": "code",
   "execution_count": 55,
   "metadata": {},
   "outputs": [
    {
     "data": {
      "text/plain": [
       "0    41.20\n",
       "1    41.20\n",
       "2    41.20\n",
       "3    41.20\n",
       "4    41.20\n",
       "Name: ОКВЭД, dtype: object"
      ]
     },
     "execution_count": 55,
     "metadata": {},
     "output_type": "execute_result"
    }
   ],
   "source": [
    "# df1['ОКВЭД'].head()"
   ]
  },
  {
   "cell_type": "code",
   "execution_count": 27,
   "metadata": {
    "scrolled": true
   },
   "outputs": [],
   "source": [
    "# преобразование ОКВЭД\n",
    "# df1['ОКВЭД1'] = df1['ОКВЭД'].map(lambda x: len(x)<=4)\n",
    "# подумать как оставить первые символы"
   ]
  },
  {
   "cell_type": "code",
   "execution_count": 28,
   "metadata": {},
   "outputs": [
    {
     "data": {
      "text/plain": [
       "16    0.993109\n",
       "34    0.001451\n",
       "24    0.001451\n",
       "10    0.001088\n",
       "23    0.000846\n",
       "53    0.000604\n",
       "19    0.000363\n",
       "12    0.000242\n",
       "49    0.000242\n",
       "41    0.000242\n",
       "14    0.000121\n",
       "13    0.000121\n",
       "42    0.000121\n",
       "Name: ОКФС, dtype: float64"
      ]
     },
     "execution_count": 28,
     "metadata": {},
     "output_type": "execute_result"
    }
   ],
   "source": [
    "df1['ОКФС'].value_counts(normalize=True)"
   ]
  },
  {
   "cell_type": "code",
   "execution_count": 29,
   "metadata": {},
   "outputs": [],
   "source": [
    "# преобразование ОКОПФ\n",
    "# df['ОКОПФ'].value_counts(normalize=True)\n",
    "# df1['ОКОПФ1'] = df1['ОКОПФ'].map(lambda x: str(x)[:-4]) # удаление последних 4 символов\n",
    "# надо не удалять последние символы, а оставить только первый"
   ]
  },
  {
   "cell_type": "code",
   "execution_count": 30,
   "metadata": {},
   "outputs": [
    {
     "data": {
      "text/plain": [
       "384    0.971833\n",
       "383    0.027926\n",
       "385    0.000242\n",
       "Name: Код единицы измерения, dtype: float64"
      ]
     },
     "execution_count": 30,
     "metadata": {},
     "output_type": "execute_result"
    }
   ],
   "source": [
    "# преобразование единиц измерения\n",
    "df1['Код единицы измерения'].value_counts(normalize=True)\n",
    "# 384 Тысяча рублей\n",
    "# 383 Рубль \n",
    "# 385 Миллион рублей"
   ]
  },
  {
   "cell_type": "code",
   "execution_count": 31,
   "metadata": {},
   "outputs": [],
   "source": [
    "df1_384 = df1[df1['Код единицы измерения']==384]\n",
    "df1_383 = df1[df1['Код единицы измерения']==383]\n",
    "df1_385 = df1[df1['Код единицы измерения']==385]"
   ]
  },
  {
   "cell_type": "code",
   "execution_count": 32,
   "metadata": {},
   "outputs": [
    {
     "data": {
      "text/plain": [
       "((8039, 80), (231, 80), (2, 80))"
      ]
     },
     "execution_count": 32,
     "metadata": {},
     "output_type": "execute_result"
    }
   ],
   "source": [
    "df1_384.shape, df1_383.shape, df1_385.shape"
   ]
  },
  {
   "cell_type": "code",
   "execution_count": 33,
   "metadata": {},
   "outputs": [],
   "source": [
    "# не корректно работает, пока оставила только df1_384 (только тыс рублей единицы измерения)\n",
    "# feature = df1_385[['1110', '1120', '1130', '1140','1150', '1160', '1170', '1180', '1190', '1100', '1210', '1220', '1230','1240', '1250', \n",
    "#         '1260', '1200', '1600', '1310', '1320', '1340', '1350','1360', '1370', '1300', '1410', '1420', '1430', '1450', '1400', '1510', '1520',\n",
    "#         '1530', '1540', '1550', '1500', '1700', '2110', '2120', '2100','2210', '2220', '2200', '2310', '2320', '2330', '2340', '2350', '2300',\n",
    "#         '2410', '2421', '2430', '2450', '2460', '2400', '2510', '2520', '2500','3200', '3310', '3314', '3315', '3316', '3320', '3324', '3325', '3326',\n",
    "#         '3300', '3600']]*1000\n",
    "# df1_385 = df1_385[['Наименование', 'ОКПО', 'ОКОПФ', 'ОКФС', 'ОКВЭД', 'ИНН',\n",
    "#        'Код единицы измерения', 'Тип отчета', 'Дата актуализации', 'Ликвидировано', 'Tax_inspection']]\n",
    "# df1_385= np.concatenate((df1_385, feature), axis=1)"
   ]
  },
  {
   "cell_type": "code",
   "execution_count": 34,
   "metadata": {
    "scrolled": true
   },
   "outputs": [
    {
     "data": {
      "text/plain": [
       "2    0.506165\n",
       "1    0.493230\n",
       "0    0.000604\n",
       "Name: Тип отчета, dtype: float64"
      ]
     },
     "execution_count": 34,
     "metadata": {},
     "output_type": "execute_result"
    }
   ],
   "source": [
    "df1['Тип отчета'].value_counts(normalize=True)"
   ]
  },
  {
   "cell_type": "markdown",
   "metadata": {},
   "source": [
    "### Кодировка признаков"
   ]
  },
  {
   "cell_type": "code",
   "execution_count": 35,
   "metadata": {},
   "outputs": [],
   "source": [
    "# Кодируем признак 'ОКФС' и 'Tax_inspection'\n",
    "df1_384 = pd.concat([df1_384, pd.get_dummies(df1_384['ОКФС'], prefix=\"ОКФС\"),\n",
    "                            pd.get_dummies(df1_384['Tax_inspection'], prefix=\"Tax_inspection\")],\n",
    "                            axis=1)"
   ]
  },
  {
   "cell_type": "code",
   "execution_count": 36,
   "metadata": {
    "scrolled": true
   },
   "outputs": [
    {
     "data": {
      "text/html": [
       "<div>\n",
       "<style scoped>\n",
       "    .dataframe tbody tr th:only-of-type {\n",
       "        vertical-align: middle;\n",
       "    }\n",
       "\n",
       "    .dataframe tbody tr th {\n",
       "        vertical-align: top;\n",
       "    }\n",
       "\n",
       "    .dataframe thead th {\n",
       "        text-align: right;\n",
       "    }\n",
       "</style>\n",
       "<table border=\"1\" class=\"dataframe\">\n",
       "  <thead>\n",
       "    <tr style=\"text-align: right;\">\n",
       "      <th></th>\n",
       "      <th>Наименование</th>\n",
       "      <th>ОКПО</th>\n",
       "      <th>ОКОПФ</th>\n",
       "      <th>ОКФС</th>\n",
       "      <th>ОКВЭД</th>\n",
       "      <th>ИНН</th>\n",
       "      <th>Код единицы измерения</th>\n",
       "      <th>Тип отчета</th>\n",
       "      <th>1110</th>\n",
       "      <th>1120</th>\n",
       "      <th>1130</th>\n",
       "      <th>1140</th>\n",
       "      <th>1150</th>\n",
       "      <th>1160</th>\n",
       "      <th>1170</th>\n",
       "      <th>1180</th>\n",
       "      <th>1190</th>\n",
       "      <th>1100</th>\n",
       "      <th>1210</th>\n",
       "      <th>1220</th>\n",
       "      <th>1230</th>\n",
       "      <th>1240</th>\n",
       "      <th>1250</th>\n",
       "      <th>1260</th>\n",
       "      <th>1200</th>\n",
       "      <th>1600</th>\n",
       "      <th>1310</th>\n",
       "      <th>1320</th>\n",
       "      <th>1340</th>\n",
       "      <th>1350</th>\n",
       "      <th>1360</th>\n",
       "      <th>1370</th>\n",
       "      <th>1300</th>\n",
       "      <th>1410</th>\n",
       "      <th>1420</th>\n",
       "      <th>1430</th>\n",
       "      <th>1450</th>\n",
       "      <th>1400</th>\n",
       "      <th>1510</th>\n",
       "      <th>1520</th>\n",
       "      <th>1530</th>\n",
       "      <th>1540</th>\n",
       "      <th>1550</th>\n",
       "      <th>1500</th>\n",
       "      <th>1700</th>\n",
       "      <th>2110</th>\n",
       "      <th>2120</th>\n",
       "      <th>2100</th>\n",
       "      <th>2210</th>\n",
       "      <th>2220</th>\n",
       "      <th>2200</th>\n",
       "      <th>2310</th>\n",
       "      <th>2320</th>\n",
       "      <th>2330</th>\n",
       "      <th>2340</th>\n",
       "      <th>2350</th>\n",
       "      <th>2300</th>\n",
       "      <th>2410</th>\n",
       "      <th>2421</th>\n",
       "      <th>2430</th>\n",
       "      <th>2450</th>\n",
       "      <th>2460</th>\n",
       "      <th>2400</th>\n",
       "      <th>2510</th>\n",
       "      <th>2520</th>\n",
       "      <th>2500</th>\n",
       "      <th>3200</th>\n",
       "      <th>3310</th>\n",
       "      <th>3314</th>\n",
       "      <th>3315</th>\n",
       "      <th>3316</th>\n",
       "      <th>3320</th>\n",
       "      <th>3324</th>\n",
       "      <th>3325</th>\n",
       "      <th>3326</th>\n",
       "      <th>3300</th>\n",
       "      <th>3600</th>\n",
       "      <th>Дата актуализации</th>\n",
       "      <th>Ликвидировано</th>\n",
       "      <th>Tax_inspection</th>\n",
       "      <th>ОКФС_10</th>\n",
       "      <th>ОКФС_12</th>\n",
       "      <th>ОКФС_13</th>\n",
       "      <th>ОКФС_14</th>\n",
       "      <th>ОКФС_16</th>\n",
       "      <th>ОКФС_19</th>\n",
       "      <th>ОКФС_23</th>\n",
       "      <th>ОКФС_24</th>\n",
       "      <th>ОКФС_34</th>\n",
       "      <th>ОКФС_41</th>\n",
       "      <th>ОКФС_42</th>\n",
       "      <th>ОКФС_49</th>\n",
       "      <th>ОКФС_53</th>\n",
       "      <th>Tax_inspection_01</th>\n",
       "      <th>Tax_inspection_02</th>\n",
       "      <th>Tax_inspection_03</th>\n",
       "      <th>Tax_inspection_04</th>\n",
       "      <th>Tax_inspection_05</th>\n",
       "      <th>Tax_inspection_06</th>\n",
       "      <th>Tax_inspection_07</th>\n",
       "      <th>Tax_inspection_09</th>\n",
       "      <th>Tax_inspection_10</th>\n",
       "      <th>Tax_inspection_11</th>\n",
       "      <th>Tax_inspection_12</th>\n",
       "      <th>Tax_inspection_13</th>\n",
       "      <th>Tax_inspection_14</th>\n",
       "      <th>Tax_inspection_15</th>\n",
       "      <th>Tax_inspection_16</th>\n",
       "      <th>Tax_inspection_17</th>\n",
       "      <th>Tax_inspection_19</th>\n",
       "      <th>Tax_inspection_20</th>\n",
       "      <th>Tax_inspection_21</th>\n",
       "      <th>Tax_inspection_23</th>\n",
       "      <th>Tax_inspection_24</th>\n",
       "      <th>Tax_inspection_25</th>\n",
       "      <th>Tax_inspection_26</th>\n",
       "      <th>Tax_inspection_27</th>\n",
       "      <th>Tax_inspection_28</th>\n",
       "      <th>Tax_inspection_29</th>\n",
       "      <th>Tax_inspection_30</th>\n",
       "      <th>Tax_inspection_31</th>\n",
       "      <th>Tax_inspection_32</th>\n",
       "      <th>Tax_inspection_33</th>\n",
       "      <th>Tax_inspection_34</th>\n",
       "      <th>Tax_inspection_35</th>\n",
       "      <th>Tax_inspection_36</th>\n",
       "      <th>Tax_inspection_37</th>\n",
       "      <th>Tax_inspection_38</th>\n",
       "      <th>Tax_inspection_39</th>\n",
       "      <th>Tax_inspection_40</th>\n",
       "      <th>Tax_inspection_43</th>\n",
       "      <th>Tax_inspection_46</th>\n",
       "      <th>Tax_inspection_47</th>\n",
       "      <th>Tax_inspection_48</th>\n",
       "      <th>Tax_inspection_49</th>\n",
       "      <th>Tax_inspection_51</th>\n",
       "      <th>Tax_inspection_52</th>\n",
       "      <th>Tax_inspection_54</th>\n",
       "      <th>Tax_inspection_55</th>\n",
       "      <th>Tax_inspection_56</th>\n",
       "      <th>Tax_inspection_57</th>\n",
       "      <th>Tax_inspection_58</th>\n",
       "      <th>Tax_inspection_59</th>\n",
       "      <th>Tax_inspection_60</th>\n",
       "      <th>Tax_inspection_61</th>\n",
       "      <th>Tax_inspection_62</th>\n",
       "      <th>Tax_inspection_63</th>\n",
       "      <th>Tax_inspection_64</th>\n",
       "      <th>Tax_inspection_65</th>\n",
       "      <th>Tax_inspection_66</th>\n",
       "      <th>Tax_inspection_67</th>\n",
       "      <th>Tax_inspection_68</th>\n",
       "      <th>Tax_inspection_69</th>\n",
       "      <th>Tax_inspection_70</th>\n",
       "      <th>Tax_inspection_71</th>\n",
       "      <th>Tax_inspection_72</th>\n",
       "      <th>Tax_inspection_73</th>\n",
       "      <th>Tax_inspection_74</th>\n",
       "      <th>Tax_inspection_76</th>\n",
       "      <th>Tax_inspection_77</th>\n",
       "      <th>Tax_inspection_78</th>\n",
       "      <th>Tax_inspection_79</th>\n",
       "      <th>Tax_inspection_80</th>\n",
       "      <th>Tax_inspection_81</th>\n",
       "      <th>Tax_inspection_82</th>\n",
       "      <th>Tax_inspection_83</th>\n",
       "      <th>Tax_inspection_84</th>\n",
       "      <th>Tax_inspection_85</th>\n",
       "      <th>Tax_inspection_86</th>\n",
       "    </tr>\n",
       "  </thead>\n",
       "  <tbody>\n",
       "    <tr>\n",
       "      <th>0</th>\n",
       "      <td>ОБЩЕСТВО С ОГРАНИЧЕННОЙ ОТВЕТСТВЕННОСТЬЮ \"НЕФТ...</td>\n",
       "      <td>26298557</td>\n",
       "      <td>12300</td>\n",
       "      <td>16</td>\n",
       "      <td>41.20</td>\n",
       "      <td>6671428451</td>\n",
       "      <td>384</td>\n",
       "      <td>1</td>\n",
       "      <td>0</td>\n",
       "      <td>0</td>\n",
       "      <td>0</td>\n",
       "      <td>0</td>\n",
       "      <td>5362</td>\n",
       "      <td>0</td>\n",
       "      <td>0</td>\n",
       "      <td>0</td>\n",
       "      <td>0</td>\n",
       "      <td>0</td>\n",
       "      <td>6611</td>\n",
       "      <td>0</td>\n",
       "      <td>2410</td>\n",
       "      <td>0</td>\n",
       "      <td>245</td>\n",
       "      <td>0</td>\n",
       "      <td>0</td>\n",
       "      <td>14628</td>\n",
       "      <td>0</td>\n",
       "      <td>0</td>\n",
       "      <td>0</td>\n",
       "      <td>0</td>\n",
       "      <td>0</td>\n",
       "      <td>0</td>\n",
       "      <td>6800</td>\n",
       "      <td>0</td>\n",
       "      <td>0</td>\n",
       "      <td>0</td>\n",
       "      <td>0</td>\n",
       "      <td>0</td>\n",
       "      <td>0</td>\n",
       "      <td>2258</td>\n",
       "      <td>0</td>\n",
       "      <td>0</td>\n",
       "      <td>5570</td>\n",
       "      <td>0</td>\n",
       "      <td>14628</td>\n",
       "      <td>42381</td>\n",
       "      <td>40271</td>\n",
       "      <td>0</td>\n",
       "      <td>0</td>\n",
       "      <td>0</td>\n",
       "      <td>0</td>\n",
       "      <td>0</td>\n",
       "      <td>0</td>\n",
       "      <td>0</td>\n",
       "      <td>0</td>\n",
       "      <td>248</td>\n",
       "      <td>0</td>\n",
       "      <td>1200</td>\n",
       "      <td>0</td>\n",
       "      <td>0</td>\n",
       "      <td>0</td>\n",
       "      <td>0</td>\n",
       "      <td>662</td>\n",
       "      <td>0</td>\n",
       "      <td>0</td>\n",
       "      <td>0</td>\n",
       "      <td>0</td>\n",
       "      <td>0</td>\n",
       "      <td>0</td>\n",
       "      <td>0</td>\n",
       "      <td>0</td>\n",
       "      <td>0</td>\n",
       "      <td>0</td>\n",
       "      <td>0</td>\n",
       "      <td>0</td>\n",
       "      <td>0</td>\n",
       "      <td>0</td>\n",
       "      <td>20170403</td>\n",
       "      <td>0</td>\n",
       "      <td>71</td>\n",
       "      <td>0</td>\n",
       "      <td>0</td>\n",
       "      <td>0</td>\n",
       "      <td>0</td>\n",
       "      <td>1</td>\n",
       "      <td>0</td>\n",
       "      <td>0</td>\n",
       "      <td>0</td>\n",
       "      <td>0</td>\n",
       "      <td>0</td>\n",
       "      <td>0</td>\n",
       "      <td>0</td>\n",
       "      <td>0</td>\n",
       "      <td>0</td>\n",
       "      <td>0</td>\n",
       "      <td>0</td>\n",
       "      <td>0</td>\n",
       "      <td>0</td>\n",
       "      <td>0</td>\n",
       "      <td>0</td>\n",
       "      <td>0</td>\n",
       "      <td>0</td>\n",
       "      <td>0</td>\n",
       "      <td>0</td>\n",
       "      <td>0</td>\n",
       "      <td>0</td>\n",
       "      <td>0</td>\n",
       "      <td>0</td>\n",
       "      <td>0</td>\n",
       "      <td>0</td>\n",
       "      <td>0</td>\n",
       "      <td>0</td>\n",
       "      <td>0</td>\n",
       "      <td>0</td>\n",
       "      <td>0</td>\n",
       "      <td>0</td>\n",
       "      <td>0</td>\n",
       "      <td>0</td>\n",
       "      <td>0</td>\n",
       "      <td>0</td>\n",
       "      <td>0</td>\n",
       "      <td>0</td>\n",
       "      <td>0</td>\n",
       "      <td>0</td>\n",
       "      <td>0</td>\n",
       "      <td>0</td>\n",
       "      <td>0</td>\n",
       "      <td>0</td>\n",
       "      <td>0</td>\n",
       "      <td>0</td>\n",
       "      <td>0</td>\n",
       "      <td>0</td>\n",
       "      <td>0</td>\n",
       "      <td>0</td>\n",
       "      <td>0</td>\n",
       "      <td>0</td>\n",
       "      <td>0</td>\n",
       "      <td>0</td>\n",
       "      <td>0</td>\n",
       "      <td>0</td>\n",
       "      <td>0</td>\n",
       "      <td>0</td>\n",
       "      <td>0</td>\n",
       "      <td>0</td>\n",
       "      <td>0</td>\n",
       "      <td>0</td>\n",
       "      <td>0</td>\n",
       "      <td>0</td>\n",
       "      <td>0</td>\n",
       "      <td>0</td>\n",
       "      <td>0</td>\n",
       "      <td>0</td>\n",
       "      <td>0</td>\n",
       "      <td>0</td>\n",
       "      <td>1</td>\n",
       "      <td>0</td>\n",
       "      <td>0</td>\n",
       "      <td>0</td>\n",
       "      <td>0</td>\n",
       "      <td>0</td>\n",
       "      <td>0</td>\n",
       "      <td>0</td>\n",
       "      <td>0</td>\n",
       "      <td>0</td>\n",
       "      <td>0</td>\n",
       "      <td>0</td>\n",
       "      <td>0</td>\n",
       "      <td>0</td>\n",
       "      <td>0</td>\n",
       "    </tr>\n",
       "    <tr>\n",
       "      <th>1</th>\n",
       "      <td>ОБЩЕСТВО С ОГРАНИЧЕННОЙ ОТВЕТСТВЕННОСТЬЮ \"РЕГИ...</td>\n",
       "      <td>32270534</td>\n",
       "      <td>12300</td>\n",
       "      <td>16</td>\n",
       "      <td>41.20</td>\n",
       "      <td>6670415932</td>\n",
       "      <td>384</td>\n",
       "      <td>2</td>\n",
       "      <td>0</td>\n",
       "      <td>0</td>\n",
       "      <td>0</td>\n",
       "      <td>0</td>\n",
       "      <td>2703</td>\n",
       "      <td>0</td>\n",
       "      <td>0</td>\n",
       "      <td>0</td>\n",
       "      <td>0</td>\n",
       "      <td>2703</td>\n",
       "      <td>4991</td>\n",
       "      <td>-2907</td>\n",
       "      <td>149113</td>\n",
       "      <td>0</td>\n",
       "      <td>0</td>\n",
       "      <td>0</td>\n",
       "      <td>151197</td>\n",
       "      <td>153900</td>\n",
       "      <td>10</td>\n",
       "      <td>0</td>\n",
       "      <td>0</td>\n",
       "      <td>0</td>\n",
       "      <td>0</td>\n",
       "      <td>4302</td>\n",
       "      <td>4312</td>\n",
       "      <td>0</td>\n",
       "      <td>0</td>\n",
       "      <td>0</td>\n",
       "      <td>0</td>\n",
       "      <td>0</td>\n",
       "      <td>0</td>\n",
       "      <td>149588</td>\n",
       "      <td>0</td>\n",
       "      <td>0</td>\n",
       "      <td>0</td>\n",
       "      <td>149588</td>\n",
       "      <td>153900</td>\n",
       "      <td>192303</td>\n",
       "      <td>147965</td>\n",
       "      <td>44338</td>\n",
       "      <td>0</td>\n",
       "      <td>39915</td>\n",
       "      <td>4423</td>\n",
       "      <td>0</td>\n",
       "      <td>0</td>\n",
       "      <td>0</td>\n",
       "      <td>64</td>\n",
       "      <td>4179</td>\n",
       "      <td>308</td>\n",
       "      <td>0</td>\n",
       "      <td>0</td>\n",
       "      <td>0</td>\n",
       "      <td>0</td>\n",
       "      <td>0</td>\n",
       "      <td>308</td>\n",
       "      <td>0</td>\n",
       "      <td>0</td>\n",
       "      <td>308</td>\n",
       "      <td>0</td>\n",
       "      <td>0</td>\n",
       "      <td>0</td>\n",
       "      <td>0</td>\n",
       "      <td>0</td>\n",
       "      <td>0</td>\n",
       "      <td>0</td>\n",
       "      <td>0</td>\n",
       "      <td>0</td>\n",
       "      <td>0</td>\n",
       "      <td>0</td>\n",
       "      <td>20170302</td>\n",
       "      <td>0</td>\n",
       "      <td>70</td>\n",
       "      <td>0</td>\n",
       "      <td>0</td>\n",
       "      <td>0</td>\n",
       "      <td>0</td>\n",
       "      <td>1</td>\n",
       "      <td>0</td>\n",
       "      <td>0</td>\n",
       "      <td>0</td>\n",
       "      <td>0</td>\n",
       "      <td>0</td>\n",
       "      <td>0</td>\n",
       "      <td>0</td>\n",
       "      <td>0</td>\n",
       "      <td>0</td>\n",
       "      <td>0</td>\n",
       "      <td>0</td>\n",
       "      <td>0</td>\n",
       "      <td>0</td>\n",
       "      <td>0</td>\n",
       "      <td>0</td>\n",
       "      <td>0</td>\n",
       "      <td>0</td>\n",
       "      <td>0</td>\n",
       "      <td>0</td>\n",
       "      <td>0</td>\n",
       "      <td>0</td>\n",
       "      <td>0</td>\n",
       "      <td>0</td>\n",
       "      <td>0</td>\n",
       "      <td>0</td>\n",
       "      <td>0</td>\n",
       "      <td>0</td>\n",
       "      <td>0</td>\n",
       "      <td>0</td>\n",
       "      <td>0</td>\n",
       "      <td>0</td>\n",
       "      <td>0</td>\n",
       "      <td>0</td>\n",
       "      <td>0</td>\n",
       "      <td>0</td>\n",
       "      <td>0</td>\n",
       "      <td>0</td>\n",
       "      <td>0</td>\n",
       "      <td>0</td>\n",
       "      <td>0</td>\n",
       "      <td>0</td>\n",
       "      <td>0</td>\n",
       "      <td>0</td>\n",
       "      <td>0</td>\n",
       "      <td>0</td>\n",
       "      <td>0</td>\n",
       "      <td>0</td>\n",
       "      <td>0</td>\n",
       "      <td>0</td>\n",
       "      <td>0</td>\n",
       "      <td>0</td>\n",
       "      <td>0</td>\n",
       "      <td>0</td>\n",
       "      <td>0</td>\n",
       "      <td>0</td>\n",
       "      <td>0</td>\n",
       "      <td>0</td>\n",
       "      <td>0</td>\n",
       "      <td>0</td>\n",
       "      <td>0</td>\n",
       "      <td>0</td>\n",
       "      <td>0</td>\n",
       "      <td>0</td>\n",
       "      <td>0</td>\n",
       "      <td>0</td>\n",
       "      <td>0</td>\n",
       "      <td>0</td>\n",
       "      <td>0</td>\n",
       "      <td>1</td>\n",
       "      <td>0</td>\n",
       "      <td>0</td>\n",
       "      <td>0</td>\n",
       "      <td>0</td>\n",
       "      <td>0</td>\n",
       "      <td>0</td>\n",
       "      <td>0</td>\n",
       "      <td>0</td>\n",
       "      <td>0</td>\n",
       "      <td>0</td>\n",
       "      <td>0</td>\n",
       "      <td>0</td>\n",
       "      <td>0</td>\n",
       "      <td>0</td>\n",
       "      <td>0</td>\n",
       "    </tr>\n",
       "  </tbody>\n",
       "</table>\n",
       "</div>"
      ],
      "text/plain": [
       "                                        Наименование      ОКПО  ОКОПФ  ОКФС  \\\n",
       "0  ОБЩЕСТВО С ОГРАНИЧЕННОЙ ОТВЕТСТВЕННОСТЬЮ \"НЕФТ...  26298557  12300    16   \n",
       "1  ОБЩЕСТВО С ОГРАНИЧЕННОЙ ОТВЕТСТВЕННОСТЬЮ \"РЕГИ...  32270534  12300    16   \n",
       "\n",
       "   ОКВЭД         ИНН  Код единицы измерения  Тип отчета  1110  1120  1130  \\\n",
       "0  41.20  6671428451                    384           1     0     0     0   \n",
       "1  41.20  6670415932                    384           2     0     0     0   \n",
       "\n",
       "   1140  1150  1160  1170  1180  1190  1100  1210  1220    1230  1240  1250  \\\n",
       "0     0  5362     0     0     0     0     0  6611     0    2410     0   245   \n",
       "1     0  2703     0     0     0     0  2703  4991 -2907  149113     0     0   \n",
       "\n",
       "   1260    1200    1600  1310  1320  1340  1350  1360  1370  1300  1410  1420  \\\n",
       "0     0       0   14628     0     0     0     0     0     0  6800     0     0   \n",
       "1     0  151197  153900    10     0     0     0     0  4302  4312     0     0   \n",
       "\n",
       "   1430  1450  1400  1510    1520  1530  1540  1550    1500    1700    2110  \\\n",
       "0     0     0     0     0    2258     0     0  5570       0   14628   42381   \n",
       "1     0     0     0     0  149588     0     0     0  149588  153900  192303   \n",
       "\n",
       "     2120   2100  2210   2220  2200  2310  2320  2330  2340  2350  2300  2410  \\\n",
       "0   40271      0     0      0     0     0     0     0     0   248     0  1200   \n",
       "1  147965  44338     0  39915  4423     0     0     0    64  4179   308     0   \n",
       "\n",
       "   2421  2430  2450  2460  2400  2510  2520  2500  3200  3310  3314  3315  \\\n",
       "0     0     0     0     0   662     0     0     0     0     0     0     0   \n",
       "1     0     0     0     0   308     0     0   308     0     0     0     0   \n",
       "\n",
       "   3316  3320  3324  3325  3326  3300  3600  Дата актуализации  Ликвидировано  \\\n",
       "0     0     0     0     0     0     0     0           20170403              0   \n",
       "1     0     0     0     0     0     0     0           20170302              0   \n",
       "\n",
       "  Tax_inspection  ОКФС_10  ОКФС_12  ОКФС_13  ОКФС_14  ОКФС_16  ОКФС_19  \\\n",
       "0             71        0        0        0        0        1        0   \n",
       "1             70        0        0        0        0        1        0   \n",
       "\n",
       "   ОКФС_23  ОКФС_24  ОКФС_34  ОКФС_41  ОКФС_42  ОКФС_49  ОКФС_53  \\\n",
       "0        0        0        0        0        0        0        0   \n",
       "1        0        0        0        0        0        0        0   \n",
       "\n",
       "   Tax_inspection_01  Tax_inspection_02  Tax_inspection_03  Tax_inspection_04  \\\n",
       "0                  0                  0                  0                  0   \n",
       "1                  0                  0                  0                  0   \n",
       "\n",
       "   Tax_inspection_05  Tax_inspection_06  Tax_inspection_07  Tax_inspection_09  \\\n",
       "0                  0                  0                  0                  0   \n",
       "1                  0                  0                  0                  0   \n",
       "\n",
       "   Tax_inspection_10  Tax_inspection_11  Tax_inspection_12  Tax_inspection_13  \\\n",
       "0                  0                  0                  0                  0   \n",
       "1                  0                  0                  0                  0   \n",
       "\n",
       "   Tax_inspection_14  Tax_inspection_15  Tax_inspection_16  Tax_inspection_17  \\\n",
       "0                  0                  0                  0                  0   \n",
       "1                  0                  0                  0                  0   \n",
       "\n",
       "   Tax_inspection_19  Tax_inspection_20  Tax_inspection_21  Tax_inspection_23  \\\n",
       "0                  0                  0                  0                  0   \n",
       "1                  0                  0                  0                  0   \n",
       "\n",
       "   Tax_inspection_24  Tax_inspection_25  Tax_inspection_26  Tax_inspection_27  \\\n",
       "0                  0                  0                  0                  0   \n",
       "1                  0                  0                  0                  0   \n",
       "\n",
       "   Tax_inspection_28  Tax_inspection_29  Tax_inspection_30  Tax_inspection_31  \\\n",
       "0                  0                  0                  0                  0   \n",
       "1                  0                  0                  0                  0   \n",
       "\n",
       "   Tax_inspection_32  Tax_inspection_33  Tax_inspection_34  Tax_inspection_35  \\\n",
       "0                  0                  0                  0                  0   \n",
       "1                  0                  0                  0                  0   \n",
       "\n",
       "   Tax_inspection_36  Tax_inspection_37  Tax_inspection_38  Tax_inspection_39  \\\n",
       "0                  0                  0                  0                  0   \n",
       "1                  0                  0                  0                  0   \n",
       "\n",
       "   Tax_inspection_40  Tax_inspection_43  Tax_inspection_46  Tax_inspection_47  \\\n",
       "0                  0                  0                  0                  0   \n",
       "1                  0                  0                  0                  0   \n",
       "\n",
       "   Tax_inspection_48  Tax_inspection_49  Tax_inspection_51  Tax_inspection_52  \\\n",
       "0                  0                  0                  0                  0   \n",
       "1                  0                  0                  0                  0   \n",
       "\n",
       "   Tax_inspection_54  Tax_inspection_55  Tax_inspection_56  Tax_inspection_57  \\\n",
       "0                  0                  0                  0                  0   \n",
       "1                  0                  0                  0                  0   \n",
       "\n",
       "   Tax_inspection_58  Tax_inspection_59  Tax_inspection_60  Tax_inspection_61  \\\n",
       "0                  0                  0                  0                  0   \n",
       "1                  0                  0                  0                  0   \n",
       "\n",
       "   Tax_inspection_62  Tax_inspection_63  Tax_inspection_64  Tax_inspection_65  \\\n",
       "0                  0                  0                  0                  0   \n",
       "1                  0                  0                  0                  0   \n",
       "\n",
       "   Tax_inspection_66  Tax_inspection_67  Tax_inspection_68  Tax_inspection_69  \\\n",
       "0                  0                  0                  0                  0   \n",
       "1                  0                  0                  0                  0   \n",
       "\n",
       "   Tax_inspection_70  Tax_inspection_71  Tax_inspection_72  Tax_inspection_73  \\\n",
       "0                  0                  1                  0                  0   \n",
       "1                  1                  0                  0                  0   \n",
       "\n",
       "   Tax_inspection_74  Tax_inspection_76  Tax_inspection_77  Tax_inspection_78  \\\n",
       "0                  0                  0                  0                  0   \n",
       "1                  0                  0                  0                  0   \n",
       "\n",
       "   Tax_inspection_79  Tax_inspection_80  Tax_inspection_81  Tax_inspection_82  \\\n",
       "0                  0                  0                  0                  0   \n",
       "1                  0                  0                  0                  0   \n",
       "\n",
       "   Tax_inspection_83  Tax_inspection_84  Tax_inspection_85  Tax_inspection_86  \n",
       "0                  0                  0                  0                  0  \n",
       "1                  0                  0                  0                  0  "
      ]
     },
     "execution_count": 36,
     "metadata": {},
     "output_type": "execute_result"
    }
   ],
   "source": [
    "df1_384.head(2)"
   ]
  },
  {
   "cell_type": "markdown",
   "metadata": {},
   "source": [
    "### Удаление признаков, которые не понадобятся для построения моделей"
   ]
  },
  {
   "cell_type": "code",
   "execution_count": 37,
   "metadata": {},
   "outputs": [],
   "source": [
    "df1_384 = df1_384.drop(['ОКПО', 'ОКОПФ', 'ОКФС', 'ОКВЭД', 'ИНН', 'Tax_inspection',\n",
    "       'Код единицы измерения', 'Тип отчета',  '3314', '3315', '3324', 'Дата актуализации'], axis=1)"
   ]
  },
  {
   "cell_type": "code",
   "execution_count": 38,
   "metadata": {},
   "outputs": [
    {
     "data": {
      "text/plain": [
       "Index(['Наименование', '1110', '1120', '1130', '1140', '1150', '1160', '1170',\n",
       "       '1180', '1190',\n",
       "       ...\n",
       "       'Tax_inspection_77', 'Tax_inspection_78', 'Tax_inspection_79',\n",
       "       'Tax_inspection_80', 'Tax_inspection_81', 'Tax_inspection_82',\n",
       "       'Tax_inspection_83', 'Tax_inspection_84', 'Tax_inspection_85',\n",
       "       'Tax_inspection_86'],\n",
       "      dtype='object', length=157)"
      ]
     },
     "execution_count": 38,
     "metadata": {},
     "output_type": "execute_result"
    }
   ],
   "source": [
    "df1_384.columns"
   ]
  },
  {
   "cell_type": "markdown",
   "metadata": {},
   "source": [
    "### Датасеты для отдельных моделей"
   ]
  },
  {
   "cell_type": "code",
   "execution_count": 39,
   "metadata": {},
   "outputs": [],
   "source": [
    "# только статьи\n",
    "df1_384_articles = df1_384[['Наименование','1110', '1120', '1130', '1140', '1150', '1160', '1170', '1180', '1190', '1100', '1210', '1220', '1230',\n",
    "       '1240', '1250', '1260', '1200', '1600', '1310', '1320', '1340', '1350', '1360', '1370', '1300', '1410', '1420', '1430', '1450', '1400', '1510',\n",
    "       '1520', '1530', '1540', '1550', '1500', '1700', '2110', '2120', '2100','2210', '2220', '2200', '2310', '2320', '2330', '2340', '2350', '2300',\n",
    "       '2410', '2421', '2430', '2450', '2460', '2400', '2510', '2520', '2500', '3200', '3310', '3316', '3320', '3325', '3326', '3300', '3600', 'Ликвидировано']]\n",
    "# только данные по ОКФС, налоговой инспекции\n",
    "df1_384_info = df1_384.drop(['1110', '1120', '1130', '1140', '1150', '1160', '1170', '1180', '1190', '1100', '1210', '1220', '1230',\n",
    "       '1240', '1250', '1260', '1200', '1600', '1310', '1320', '1340', '1350', '1360', '1370', '1300', '1410', '1420', '1430', '1450', '1400', '1510',\n",
    "       '1520', '1530', '1540', '1550', '1500', '1700', '2110', '2120', '2100','2210', '2220', '2200', '2310', '2320', '2330', '2340', '2350', '2300',\n",
    "       '2410', '2421', '2430', '2450', '2460', '2400', '2510', '2520', '2500', '3200', '3310', '3316', '3320', '3325', '3326', '3300', '3600'], axis=1)\n",
    "# все вместе  - df1_384"
   ]
  },
  {
   "cell_type": "code",
   "execution_count": 40,
   "metadata": {},
   "outputs": [
    {
     "data": {
      "text/plain": [
       "Index(['Наименование', '1110', '1120', '1130', '1140', '1150', '1160', '1170',\n",
       "       '1180', '1190', '1100', '1210', '1220', '1230', '1240', '1250', '1260',\n",
       "       '1200', '1600', '1310', '1320', '1340', '1350', '1360', '1370', '1300',\n",
       "       '1410', '1420', '1430', '1450', '1400', '1510', '1520', '1530', '1540',\n",
       "       '1550', '1500', '1700', '2110', '2120', '2100', '2210', '2220', '2200',\n",
       "       '2310', '2320', '2330', '2340', '2350', '2300', '2410', '2421', '2430',\n",
       "       '2450', '2460', '2400', '2510', '2520', '2500', '3200', '3310', '3316',\n",
       "       '3320', '3325', '3326', '3300', '3600', 'Ликвидировано'],\n",
       "      dtype='object')"
      ]
     },
     "execution_count": 40,
     "metadata": {},
     "output_type": "execute_result"
    }
   ],
   "source": [
    "df1_384_articles.columns"
   ]
  },
  {
   "cell_type": "code",
   "execution_count": 41,
   "metadata": {
    "scrolled": true
   },
   "outputs": [
    {
     "data": {
      "text/plain": [
       "Index(['Наименование', 'Ликвидировано', 'ОКФС_10', 'ОКФС_12', 'ОКФС_13',\n",
       "       'ОКФС_14', 'ОКФС_16', 'ОКФС_19', 'ОКФС_23', 'ОКФС_24', 'ОКФС_34',\n",
       "       'ОКФС_41', 'ОКФС_42', 'ОКФС_49', 'ОКФС_53', 'Tax_inspection_01',\n",
       "       'Tax_inspection_02', 'Tax_inspection_03', 'Tax_inspection_04',\n",
       "       'Tax_inspection_05', 'Tax_inspection_06', 'Tax_inspection_07',\n",
       "       'Tax_inspection_09', 'Tax_inspection_10', 'Tax_inspection_11',\n",
       "       'Tax_inspection_12', 'Tax_inspection_13', 'Tax_inspection_14',\n",
       "       'Tax_inspection_15', 'Tax_inspection_16', 'Tax_inspection_17',\n",
       "       'Tax_inspection_19', 'Tax_inspection_20', 'Tax_inspection_21',\n",
       "       'Tax_inspection_23', 'Tax_inspection_24', 'Tax_inspection_25',\n",
       "       'Tax_inspection_26', 'Tax_inspection_27', 'Tax_inspection_28',\n",
       "       'Tax_inspection_29', 'Tax_inspection_30', 'Tax_inspection_31',\n",
       "       'Tax_inspection_32', 'Tax_inspection_33', 'Tax_inspection_34',\n",
       "       'Tax_inspection_35', 'Tax_inspection_36', 'Tax_inspection_37',\n",
       "       'Tax_inspection_38', 'Tax_inspection_39', 'Tax_inspection_40',\n",
       "       'Tax_inspection_43', 'Tax_inspection_46', 'Tax_inspection_47',\n",
       "       'Tax_inspection_48', 'Tax_inspection_49', 'Tax_inspection_51',\n",
       "       'Tax_inspection_52', 'Tax_inspection_54', 'Tax_inspection_55',\n",
       "       'Tax_inspection_56', 'Tax_inspection_57', 'Tax_inspection_58',\n",
       "       'Tax_inspection_59', 'Tax_inspection_60', 'Tax_inspection_61',\n",
       "       'Tax_inspection_62', 'Tax_inspection_63', 'Tax_inspection_64',\n",
       "       'Tax_inspection_65', 'Tax_inspection_66', 'Tax_inspection_67',\n",
       "       'Tax_inspection_68', 'Tax_inspection_69', 'Tax_inspection_70',\n",
       "       'Tax_inspection_71', 'Tax_inspection_72', 'Tax_inspection_73',\n",
       "       'Tax_inspection_74', 'Tax_inspection_76', 'Tax_inspection_77',\n",
       "       'Tax_inspection_78', 'Tax_inspection_79', 'Tax_inspection_80',\n",
       "       'Tax_inspection_81', 'Tax_inspection_82', 'Tax_inspection_83',\n",
       "       'Tax_inspection_84', 'Tax_inspection_85', 'Tax_inspection_86'],\n",
       "      dtype='object')"
      ]
     },
     "execution_count": 41,
     "metadata": {},
     "output_type": "execute_result"
    }
   ],
   "source": [
    "df1_384_info.columns"
   ]
  },
  {
   "cell_type": "markdown",
   "metadata": {},
   "source": [
    "### Разделение на train и test"
   ]
  },
  {
   "cell_type": "code",
   "execution_count": 42,
   "metadata": {},
   "outputs": [
    {
     "data": {
      "text/plain": [
       "((8039, 68), (8039, 91), (8039, 157))"
      ]
     },
     "execution_count": 42,
     "metadata": {},
     "output_type": "execute_result"
    }
   ],
   "source": [
    "df1_384_articles.shape, df1_384_info.shape, df1_384.shape"
   ]
  },
  {
   "cell_type": "code",
   "execution_count": 43,
   "metadata": {},
   "outputs": [
    {
     "data": {
      "text/plain": [
       "6431.200000000001"
      ]
     },
     "execution_count": 43,
     "metadata": {},
     "output_type": "execute_result"
    }
   ],
   "source": [
    "abs(df1_384['Наименование'].count()*0.80)"
   ]
  },
  {
   "cell_type": "code",
   "execution_count": 44,
   "metadata": {},
   "outputs": [],
   "source": [
    "# весь датасет\n",
    "df1_384_train = df1_384[0:6431]\n",
    "df1_384_test = df1_384[6431:8040]\n",
    "# только статьи\n",
    "df1_384_articles_train = df1_384_articles[0:6431]\n",
    "df1_384_articles_test = df1_384_articles[6431:8040]\n",
    "# только данные по ОКФС, налоговой инспекции\n",
    "df1_384_info_train = df1_384_info[0:6431]\n",
    "df1_384_info_test = df1_384_info[6431:8040]"
   ]
  },
  {
   "cell_type": "code",
   "execution_count": 45,
   "metadata": {},
   "outputs": [
    {
     "data": {
      "text/plain": [
       "0    6414\n",
       "1      17\n",
       "Name: Ликвидировано, dtype: int64"
      ]
     },
     "execution_count": 45,
     "metadata": {},
     "output_type": "execute_result"
    }
   ],
   "source": [
    "df1_384_train['Ликвидировано'].value_counts()"
   ]
  },
  {
   "cell_type": "code",
   "execution_count": 46,
   "metadata": {},
   "outputs": [
    {
     "data": {
      "text/plain": [
       "0    1600\n",
       "1       8\n",
       "Name: Ликвидировано, dtype: int64"
      ]
     },
     "execution_count": 46,
     "metadata": {},
     "output_type": "execute_result"
    }
   ],
   "source": [
    "df1_384_test['Ликвидировано'].value_counts()"
   ]
  },
  {
   "cell_type": "code",
   "execution_count": 47,
   "metadata": {},
   "outputs": [
    {
     "data": {
      "text/plain": [
       "(0.002643445809360908, 0.004975124378109453)"
      ]
     },
     "execution_count": 47,
     "metadata": {},
     "output_type": "execute_result"
    }
   ],
   "source": [
    "# соотношение классов \n",
    "df1_384_train['Ликвидировано'].sum()/len(df1_384_train), df1_384_test['Ликвидировано'].sum()/len(df1_384_test)"
   ]
  },
  {
   "cell_type": "code",
   "execution_count": 48,
   "metadata": {},
   "outputs": [],
   "source": [
    "# отделим признаки от целевой переменной для каждого датасета\n",
    "# все признаки\n",
    "x_train, y_train = df1_384_train.drop(['Наименование','Ликвидировано'],1), df1_384_train['Ликвидировано']\n",
    "x_test, y_test = df1_384_test.drop(['Наименование', 'Ликвидировано'],1), df1_384_test['Ликвидировано']\n",
    "# только статьи\n",
    "x_articles_train, y_articles_train = df1_384_articles_train.drop(['Наименование','Ликвидировано'],1), df1_384_articles_train['Ликвидировано']\n",
    "x_articles_test, y_articles_test = df1_384_articles_test.drop(['Наименование', 'Ликвидировано'],1), df1_384_articles_test['Ликвидировано']\n",
    "# только данные по ОКФС, налоговой инспекции\n",
    "df1_384_info\n",
    "x_info_train, y_info_train = df1_384_info_train.drop(['Наименование','Ликвидировано'],1), df1_384_info_train['Ликвидировано']\n",
    "x_info_test, y_info_test = df1_384_info_test.drop(['Наименование', 'Ликвидировано'],1), df1_384_info_test['Ликвидировано']"
   ]
  },
  {
   "cell_type": "code",
   "execution_count": 49,
   "metadata": {},
   "outputs": [
    {
     "data": {
      "text/plain": [
       "((6431, 155), (6431,), (1608, 155), (1608,))"
      ]
     },
     "execution_count": 49,
     "metadata": {},
     "output_type": "execute_result"
    }
   ],
   "source": [
    "x_train.shape, y_train.shape, x_test.shape, y_test.shape"
   ]
  },
  {
   "cell_type": "code",
   "execution_count": 50,
   "metadata": {},
   "outputs": [
    {
     "data": {
      "text/plain": [
       "((6431, 66), (6431,), (1608, 66), (1608,))"
      ]
     },
     "execution_count": 50,
     "metadata": {},
     "output_type": "execute_result"
    }
   ],
   "source": [
    "x_articles_train.shape, y_articles_train.shape, x_articles_test.shape, y_articles_test.shape"
   ]
  },
  {
   "cell_type": "code",
   "execution_count": 51,
   "metadata": {},
   "outputs": [
    {
     "data": {
      "text/plain": [
       "((6431, 89), (6431,), (1608, 89), (1608,))"
      ]
     },
     "execution_count": 51,
     "metadata": {},
     "output_type": "execute_result"
    }
   ],
   "source": [
    "x_info_train.shape, y_info_train.shape, x_info_test.shape, y_info_test.shape"
   ]
  },
  {
   "cell_type": "markdown",
   "metadata": {},
   "source": [
    "### Отображение целевой"
   ]
  },
  {
   "cell_type": "code",
   "execution_count": 52,
   "metadata": {
    "scrolled": false
   },
   "outputs": [
    {
     "data": {
      "image/png": "[encoded data removed]",
      "text/plain": [
       "<matplotlib.figure.Figure at 0x23d15c47940>"
      ]
     },
     "metadata": {},
     "output_type": "display_data"
    }
   ],
   "source": [
    "plt.figure(figsize=(12, 5))\n",
    "plt.plot(y_train, 'go', color='b')\n",
    "\n",
    "plt.show()"
   ]
  },
  {
   "cell_type": "markdown",
   "metadata": {},
   "source": [
    "### Кросс-валидация и подбор параметров"
   ]
  },
  {
   "cell_type": "code",
   "execution_count": 53,
   "metadata": {},
   "outputs": [],
   "source": [
    "# функция кросс валидации\n",
    "def show_cv(clf_i, name, f, l, cv, score='accuracy', param=None, vbs=False):  \n",
    "    if param: \n",
    "        grid_cv = GridSearchCV(\n",
    "            clf_i,\n",
    "            param,\n",
    "            scoring=score,\n",
    "            cv=cv,\n",
    "            verbose=vbs,\n",
    "            n_jobs=10\n",
    "        )\n",
    "        grid_cv.fit(f, l)\n",
    "        clf_i = grid_cv.best_estimator_\n",
    "        print(grid_cv.best_params_)\n",
    "    score = cross_val_score(clf_i,f,l,cv=cv, scoring=score, n_jobs=10)\n",
    "    print(name, score.mean(), score)\n",
    "    return score"
   ]
  },
  {
   "cell_type": "code",
   "execution_count": 54,
   "metadata": {
    "scrolled": true
   },
   "outputs": [
    {
     "name": "stdout",
     "output_type": "stream",
     "text": [
      "Fitting 3 folds for each of 252 candidates, totalling 756 fits\n"
     ]
    },
    {
     "name": "stderr",
     "output_type": "stream",
     "text": [
      "[Parallel(n_jobs=10)]: Done  30 tasks      | elapsed:  1.0min\n",
      "[Parallel(n_jobs=10)]: Done 180 tasks      | elapsed: 11.2min\n",
      "[Parallel(n_jobs=10)]: Done 430 tasks      | elapsed: 35.9min\n",
      "[Parallel(n_jobs=10)]: Done 756 out of 756 | elapsed: 48.9min finished\n"
     ]
    },
    {
     "name": "stdout",
     "output_type": "stream",
     "text": [
      "{'C': 0.001, 'class_weight': 'balanced', 'max_iter': 300, 'penalty': 'l1', 'tol': 0.001}\n",
      "LogistRegr 0.9284696007828334 [0.92210821 0.94682836 0.91647224]\n",
      "Fitting 3 folds for each of 48 candidates, totalling 144 fits\n"
     ]
    },
    {
     "name": "stderr",
     "output_type": "stream",
     "text": [
      "[Parallel(n_jobs=10)]: Done  30 tasks      | elapsed:   19.5s\n",
      "[Parallel(n_jobs=10)]: Done 144 out of 144 | elapsed:   25.4s finished\n"
     ]
    },
    {
     "name": "stdout",
     "output_type": "stream",
     "text": [
      "{'max_depth': 5, 'max_features': 0.7, 'min_samples_split': 2}\n",
      "Tree 0.9968902570674393 [0.99580224 0.99673507 0.99813346]\n"
     ]
    }
   ],
   "source": [
    "ridge_model=RidgeClassifier(random_state=0)\n",
    "logist_model=LogisticRegression(random_state=0)  \n",
    "tree_model=DecisionTreeClassifier(random_state=0)\n",
    "rf_model=RandomForestClassifier(random_state=0)\n",
    "xgb_model = xgb.XGBClassifier(random_state=0)\n",
    "linear_svc_model = LinearSVC(random_state=0)\n",
    "svc_model = SVC(random_state=0)\n",
    "\n",
    "clfs = [\n",
    "        [\"Ridge\", ridge_model],\n",
    "        [\"LogistRegr\", logist_model],\n",
    "        [\"Tree\", tree_model],\n",
    "        [\"RandomForest\", rf_model],\n",
    "        [\"XGBoost\", xgb_model],\n",
    "        [\"LinearSVC\", linear_svc_model],\n",
    "        [\"SVC\", svc_model]\n",
    "       ]\n",
    "\n",
    "parameters = {\n",
    "             \"Ridge\": \n",
    "              {\n",
    "                  \"alpha\": [0.001, 0.05, 0.1, 0.3,0.5, 1, 3, 5, 10, 15, 30, 50, 75, 100]\n",
    "              },\n",
    "              \"LogistRegr\":\n",
    "              {\n",
    "                  \"penalty\": ['l1','l2'],\n",
    "                  \"C\" : [0.0001,0.001,0.01,0.1,1,10,100],\n",
    "                  \"max_iter\": [100,200,300,400,500,600],\n",
    "                  \"tol\": [1e-5,1e-4,1e-3], \n",
    "                  \"class_weight\": ['balanced']       \n",
    "              },\n",
    "              \"Tree\":\n",
    "              {\n",
    "                   \"max_depth\":[5,10,15],\n",
    "                   \"max_features\":[0.6,0.7,0.8,0.9],\n",
    "                   \"min_samples_split\":[2,3,5,7]\n",
    "\n",
    "              },\n",
    "              \"RandomForest\":\n",
    "              {\n",
    "                  \"max_depth\":[4,5,6,8],\n",
    "                  \"max_features\":[0.4,0.5,0.6,0.7,0.8],\n",
    "                  \"min_samples_split\":[2,3,5,7],\n",
    "                  \"n_estimators\":[20,30,40,50,100]\n",
    "              },\n",
    "              \"XGBoost\":\n",
    "              {\n",
    "                  \"n_estimators\": [20,30,40,50,100],\n",
    "                  \"max_depth\": [3, 5, 7,10],\n",
    "                  \"learning_rate\": [0.01, 0.1, 0.2, 0.5],\n",
    "                  \"subsample\": [0.4, 0.5, 0.6, 0.8],\n",
    "                  \"colsample_bytree\": [0.5, 0.6, 0.7],\n",
    "                  'gamma': [0.1,0.2,0.3,0.5,1]  \n",
    "              },\n",
    "                 \"LinearSVC\":\n",
    "              {\n",
    "                    \"penalty\": ['l2'],\n",
    "                    \"loss\": ['hinge', 'squared_hinge'],\n",
    "                    \"tol\": [1e-5,1e-4,1e-3],\n",
    "                    \"C\" : [0.0001,0.001,0.01,0.1,1,10,100],\n",
    "                    \"class_weight\": ['balanced'], \n",
    "                    \"max_iter\": [50,100,150,200,250]\n",
    "              },\n",
    "                \"SVC\":\n",
    "              {\n",
    "                    \"tol\": [1e-5,1e-4,1e-3],\n",
    "                    \"C\" : [0.0001,0.001,0.01,0.1,1,10,100],\n",
    "                    \"class_weight\": ['balanced'], \n",
    "                    \"max_iter\": [50,100,150,200,250] \n",
    "              }             \n",
    "           \n",
    "             }\n",
    "\n",
    "size = len(y_train)\n",
    "folds = 3\n",
    "cv = KFold(size, n_folds = folds, shuffle = True, random_state = 0)\n",
    "\n",
    "# score_ridge = show_cv(ridge_model, \"Ridge\", x_train, y_train, cv = cv, param = parameters.get(\"Ridge\"), vbs = True)\n",
    "score_logist= show_cv(logist_model,\"LogistRegr\",x_train, y_train,cv=cv,param=parameters.get(\"LogistRegr\"),vbs=True)\n",
    "score_tree= show_cv(tree_model,\"Tree\",x_train, y_train,cv=cv,param=parameters.get(\"Tree\"),vbs=True)\n",
    "# score_rf = show_cv(rf_model, \"RandomForest\", x_train, y_train, cv = cv, param = parameters.get(\"RandomForest\"), vbs = True)\n",
    "# score_xgb = show_cv(xgb_model, \"XGBoost\", x_train, y_train, cv = cv, param = parameters.get(\"XGBoost\"), vbs = True)\n",
    "# score_linear_svc = show_cv(linear_svc_model, \"LinearSVC\", x_train, y_train, cv = cv, param = parameters.get(\"LinearSVC\"), vbs = True)\n",
    "# score_svc = show_cv(svc_model, \"SVC\", x_train, y_train, cv = cv, param = parameters.get(\"SVC\"), vbs = True)"
   ]
  },
  {
   "cell_type": "code",
   "execution_count": 134,
   "metadata": {},
   "outputs": [],
   "source": [
    "# Лучшие параметры\n",
    "# {'alpha': 50}\n",
    "# Ridge 0.996579384342868 [0.99393657 0.99720149 0.99860009]\n",
    "\n",
    "# {'C': 0.001, 'class_weight': 'balanced', 'max_iter': 300, 'penalty': 'l1', 'tol': 0.001}\n",
    "# LogistRegr 0.9284696007828334 [0.92210821 0.94682836 0.91647224]\n",
    "\n",
    "# {'max_depth': 5, 'max_features': 0.7, 'min_samples_split': 2}\n",
    "# Tree 0.9968902570674393 [0.99580224 0.99673507 0.99813346]"
   ]
  },
  {
   "cell_type": "code",
   "execution_count": 143,
   "metadata": {},
   "outputs": [],
   "source": [
    "def mae(y_true, y_pred): \n",
    "    y_true, y_pred = np.array(y_true), np.array(y_pred)\n",
    "    return np.mean(np.abs((y_true - y_pred))) \n",
    "def smape(y_true, y_pred):\n",
    "    y_true, y_pred = np.array(y_true), np.array(y_pred)\n",
    "    return 100*np.mean((np.abs(y_true - y_pred))/(abs(y_true)+abs(y_pred)))\n",
    "def mean_absolute_percentage_error(y_true, y_pred): \n",
    "    y_true, y_pred = np.array(y_true), np.array(y_pred)\n",
    "    return np.mean(np.abs((y_true - y_pred) / y_true)) * 100\n",
    "def wape(y_true, y_pred): \n",
    "    y_true, y_pred = np.array(y_true), np.array(y_pred)\n",
    "    return 100*sum(np.abs((y_true - y_pred)))/sum(y_true)"
   ]
  },
  {
   "cell_type": "markdown",
   "metadata": {},
   "source": [
    "### Ridge"
   ]
  },
  {
   "cell_type": "code",
   "execution_count": 155,
   "metadata": {},
   "outputs": [
    {
     "data": {
      "text/plain": [
       "RidgeClassifier(alpha=3, class_weight=None, copy_X=True, fit_intercept=True,\n",
       "        max_iter=None, normalize=True, random_state=0, solver='auto',\n",
       "        tol=0.001)"
      ]
     },
     "execution_count": 155,
     "metadata": {},
     "output_type": "execute_result"
    }
   ],
   "source": [
    "# clf_ridge = RidgeClassifier(alpha=50,  random_state =0, normalize=True)\n",
    "# clf_ridge.fit(x_train, y_train) "
   ]
  },
  {
   "cell_type": "code",
   "execution_count": 156,
   "metadata": {},
   "outputs": [
    {
     "data": {
      "text/plain": [
       "0.9891435464414958"
      ]
     },
     "execution_count": 156,
     "metadata": {},
     "output_type": "execute_result"
    }
   ],
   "source": [
    "# clf_ridge.score(x_train, y_train)"
   ]
  },
  {
   "cell_type": "code",
   "execution_count": 157,
   "metadata": {},
   "outputs": [],
   "source": [
    "# ridge = clf_ridge.predict(x_test)"
   ]
  },
  {
   "cell_type": "code",
   "execution_count": 158,
   "metadata": {},
   "outputs": [
    {
     "data": {
      "image/png": "[encoded data removed]",
      "text/plain": [
       "<matplotlib.figure.Figure at 0x179d54a47f0>"
      ]
     },
     "metadata": {},
     "output_type": "display_data"
    }
   ],
   "source": [
    "# plt.figure(figsize=(20, 5))\n",
    "# plt.plot(ridge, \".r-\", label=\"forecast\")\n",
    "\n",
    "# plt.plot(y_test.values, label=\"fact\")\n",
    "# plt.legend(loc=\"best\")\n",
    "# plt.title(\"wape {} %\".format(round(wape(y_test, ridge))))\n",
    "# plt.legend(loc=\"best\")\n",
    "# plt.legend()\n",
    "# plt.grid(True)"
   ]
  },
  {
   "cell_type": "code",
   "execution_count": 159,
   "metadata": {},
   "outputs": [
    {
     "data": {
      "image/png": "[encoded data removed]",
      "text/plain": [
       "<matplotlib.figure.Figure at 0x179d4c8b208>"
      ]
     },
     "metadata": {},
     "output_type": "display_data"
    }
   ],
   "source": [
    "# plt.figure(figsize=(16, 5))\n",
    "# plt.plot(ridge, 'go', color='r', label=\"forecast\")\n",
    "# plt.plot(y_test.values, 'go', color='b',label=\"fact\")\n",
    "# plt.legend(loc=\"best\")\n",
    "# plt.title(\"wape {} %\".format(round(wape(y_test, ridge))))\n",
    "# plt.legend(loc=\"best\")\n",
    "# plt.legend()\n",
    "# plt.grid(True)"
   ]
  },
  {
   "cell_type": "code",
   "execution_count": 160,
   "metadata": {},
   "outputs": [
    {
     "data": {
      "text/plain": [
       "0.009615384615384616"
      ]
     },
     "execution_count": 160,
     "metadata": {},
     "output_type": "execute_result"
    }
   ],
   "source": [
    "# mae(y_test.values, ridge)"
   ]
  },
  {
   "cell_type": "code",
   "execution_count": 161,
   "metadata": {},
   "outputs": [
    {
     "data": {
      "text/plain": [
       "-0.009708737864077444"
      ]
     },
     "execution_count": 161,
     "metadata": {},
     "output_type": "execute_result"
    }
   ],
   "source": [
    "# coefficient_of_dermination = r2_score(y_test.values, ridge)\n",
    "# coefficient_of_dermination"
   ]
  },
  {
   "cell_type": "markdown",
   "metadata": {},
   "source": [
    "### LogistRegr"
   ]
  },
  {
   "cell_type": "code",
   "execution_count": 178,
   "metadata": {},
   "outputs": [
    {
     "data": {
      "text/plain": [
       "LogisticRegression(C=1e-05, class_weight='balanced', dual=False,\n",
       "          fit_intercept=True, intercept_scaling=1, max_iter=100,\n",
       "          multi_class='ovr', n_jobs=1, penalty='l1', random_state=1,\n",
       "          solver='liblinear', tol=1e-05, verbose=0, warm_start=False)"
      ]
     },
     "execution_count": 178,
     "metadata": {},
     "output_type": "execute_result"
    }
   ],
   "source": [
    "# clf_logreg = LogisticRegression(C= 1e-05, class_weight= 'balanced', max_iter= 100, penalty= 'l1', tol= 1e-05,  random_state =1)\n",
    "# clf_logreg.fit(x_train, y_train) "
   ]
  },
  {
   "cell_type": "code",
   "execution_count": 179,
   "metadata": {},
   "outputs": [
    {
     "data": {
      "text/plain": [
       "0.9589867310012062"
      ]
     },
     "execution_count": 179,
     "metadata": {},
     "output_type": "execute_result"
    }
   ],
   "source": [
    "# clf_logreg.score(x_train, y_train)"
   ]
  },
  {
   "cell_type": "code",
   "execution_count": 180,
   "metadata": {},
   "outputs": [],
   "source": [
    "# logreg_forc = clf_logreg.predict(x_test)"
   ]
  },
  {
   "cell_type": "code",
   "execution_count": 181,
   "metadata": {},
   "outputs": [
    {
     "data": {
      "text/plain": [
       "0.052884615384615384"
      ]
     },
     "execution_count": 181,
     "metadata": {},
     "output_type": "execute_result"
    }
   ],
   "source": [
    "# mae(y_test.values, logreg_forc)"
   ]
  },
  {
   "cell_type": "code",
   "execution_count": 182,
   "metadata": {},
   "outputs": [
    {
     "data": {
      "image/png": "[encoded data removed]",
      "text/plain": [
       "<matplotlib.figure.Figure at 0x179d5565048>"
      ]
     },
     "metadata": {},
     "output_type": "display_data"
    }
   ],
   "source": [
    "# plt.figure(figsize=(20, 5))\n",
    "# plt.plot(logreg_forc, \".r-\", label=\"forecast\")\n",
    "\n",
    "# plt.plot(y_test.values, label=\"fact\")\n",
    "# plt.legend(loc=\"best\")\n",
    "# plt.title(\"wape {} %\".format(round(wape(y_test, logreg_forc))))\n",
    "# plt.legend(loc=\"best\")\n",
    "# plt.legend()\n",
    "# plt.grid(True)"
   ]
  },
  {
   "cell_type": "code",
   "execution_count": 183,
   "metadata": {},
   "outputs": [
    {
     "data": {
      "image/png": "[encoded data removed]",
      "text/plain": [
       "<matplotlib.figure.Figure at 0x179d55ee550>"
      ]
     },
     "metadata": {},
     "output_type": "display_data"
    }
   ],
   "source": [
    "# plt.figure(figsize=(16, 5))\n",
    "# plt.plot(logreg_forc, 'go', color='r', label=\"forecast\")\n",
    "# plt.plot(y_test.values, 'go', color='b',label=\"fact\")\n",
    "# plt.legend(loc=\"best\")\n",
    "# plt.title(\"wape {} %\".format(round(wape(y_test, logreg_forc))))\n",
    "# plt.legend(loc=\"best\")\n",
    "# plt.legend()\n",
    "# plt.grid(True)"
   ]
  },
  {
   "cell_type": "code",
   "execution_count": 184,
   "metadata": {},
   "outputs": [
    {
     "data": {
      "text/plain": [
       "-4.5533980582524265"
      ]
     },
     "execution_count": 184,
     "metadata": {},
     "output_type": "execute_result"
    }
   ],
   "source": [
    "# coefficient_of_dermination = r2_score(y_test.values, logreg_forc)\n",
    "# coefficient_of_dermination"
   ]
  },
  {
   "cell_type": "markdown",
   "metadata": {},
   "source": [
    "### Tree"
   ]
  },
  {
   "cell_type": "code",
   "execution_count": 185,
   "metadata": {},
   "outputs": [
    {
     "data": {
      "text/plain": [
       "DecisionTreeClassifier(class_weight=None, criterion='gini', max_depth=5,\n",
       "            max_features=0.6, max_leaf_nodes=None,\n",
       "            min_impurity_decrease=0.0, min_impurity_split=None,\n",
       "            min_samples_leaf=1, min_samples_split=7,\n",
       "            min_weight_fraction_leaf=0.0, presort=False, random_state=0,\n",
       "            splitter='best')"
      ]
     },
     "execution_count": 185,
     "metadata": {},
     "output_type": "execute_result"
    }
   ],
   "source": [
    "# clf_tree = DecisionTreeClassifier(max_depth = 5, max_features = 0.6,  min_samples_split = 7, random_state =0)\n",
    "# clf_tree.fit(x_train, y_train) "
   ]
  },
  {
   "cell_type": "code",
   "execution_count": 186,
   "metadata": {},
   "outputs": [
    {
     "data": {
      "text/plain": [
       "0.991556091676719"
      ]
     },
     "execution_count": 186,
     "metadata": {},
     "output_type": "execute_result"
    }
   ],
   "source": [
    "# clf_tree.score(x_train, y_train)"
   ]
  },
  {
   "cell_type": "code",
   "execution_count": 187,
   "metadata": {},
   "outputs": [],
   "source": [
    "# tree_forc = clf_tree.predict(x_test)"
   ]
  },
  {
   "cell_type": "code",
   "execution_count": 189,
   "metadata": {},
   "outputs": [
    {
     "data": {
      "text/plain": [
       "0.009615384615384616"
      ]
     },
     "execution_count": 189,
     "metadata": {},
     "output_type": "execute_result"
    }
   ],
   "source": [
    "# mae(y_test.values, tree_forc)"
   ]
  },
  {
   "cell_type": "code",
   "execution_count": 190,
   "metadata": {},
   "outputs": [
    {
     "data": {
      "image/png": "[encoded data removed]",
      "text/plain": [
       "<matplotlib.figure.Figure at 0x179d5655b70>"
      ]
     },
     "metadata": {},
     "output_type": "display_data"
    }
   ],
   "source": [
    "# plt.figure(figsize=(20, 5))\n",
    "# plt.plot(tree_forc, \".r-\", label=\"forecast\")\n",
    "# plt.plot(y_test.values, label=\"fact\")\n",
    "# plt.legend(loc=\"best\")\n",
    "# plt.title(\"wape {} %\".format(round(wape(y_test, tree_forc))))\n",
    "# plt.legend(loc=\"best\")\n",
    "# plt.legend()\n",
    "# plt.grid(True)"
   ]
  },
  {
   "cell_type": "code",
   "execution_count": 192,
   "metadata": {},
   "outputs": [
    {
     "data": {
      "image/png": "[encoded data removed]",
      "text/plain": [
       "<matplotlib.figure.Figure at 0x179d57f2a90>"
      ]
     },
     "metadata": {},
     "output_type": "display_data"
    }
   ],
   "source": [
    "# plt.figure(figsize=(20, 5))\n",
    "# plt.plot(tree_forc[1:100], 'go', color = 'r', label=\"forecast\")\n",
    "# plt.plot(y_test.values[1:100], 'go', color = 'b',label=\"fact\")\n",
    "# plt.legend(loc=\"best\")\n",
    "# plt.title(\"wape {} %\".format(round(wape(y_test, tree_forc))))\n",
    "# plt.legend(loc=\"best\")\n",
    "# plt.legend()\n",
    "# plt.grid(True)"
   ]
  },
  {
   "cell_type": "code",
   "execution_count": 193,
   "metadata": {},
   "outputs": [
    {
     "data": {
      "text/plain": [
       "-0.009708737864077444"
      ]
     },
     "execution_count": 193,
     "metadata": {},
     "output_type": "execute_result"
    }
   ],
   "source": [
    "# coefficient_of_dermination = r2_score(y_test, tree_forc)\n",
    "# coefficient_of_dermination"
   ]
  },
  {
   "cell_type": "code",
   "execution_count": 228,
   "metadata": {},
   "outputs": [
    {
     "data": {
      "text/html": [
       "<div>\n",
       "<style scoped>\n",
       "    .dataframe tbody tr th:only-of-type {\n",
       "        vertical-align: middle;\n",
       "    }\n",
       "\n",
       "    .dataframe tbody tr th {\n",
       "        vertical-align: top;\n",
       "    }\n",
       "\n",
       "    .dataframe thead th {\n",
       "        text-align: right;\n",
       "    }\n",
       "</style>\n",
       "<table border=\"1\" class=\"dataframe\">\n",
       "  <thead>\n",
       "    <tr style=\"text-align: right;\">\n",
       "      <th></th>\n",
       "      <th>coef</th>\n",
       "      <th>feat</th>\n",
       "    </tr>\n",
       "  </thead>\n",
       "  <tbody>\n",
       "    <tr>\n",
       "      <th>81</th>\n",
       "      <td>0.386800</td>\n",
       "      <td>Tax_inspection_09</td>\n",
       "    </tr>\n",
       "    <tr>\n",
       "      <th>0</th>\n",
       "      <td>0.385867</td>\n",
       "      <td>1110</td>\n",
       "    </tr>\n",
       "    <tr>\n",
       "      <th>92</th>\n",
       "      <td>0.092368</td>\n",
       "      <td>Tax_inspection_21</td>\n",
       "    </tr>\n",
       "    <tr>\n",
       "      <th>22</th>\n",
       "      <td>0.074490</td>\n",
       "      <td>1300</td>\n",
       "    </tr>\n",
       "    <tr>\n",
       "      <th>103</th>\n",
       "      <td>0.060474</td>\n",
       "      <td>Tax_inspection_32</td>\n",
       "    </tr>\n",
       "    <tr>\n",
       "      <th>98</th>\n",
       "      <td>0.000000</td>\n",
       "      <td>Tax_inspection_27</td>\n",
       "    </tr>\n",
       "    <tr>\n",
       "      <th>99</th>\n",
       "      <td>0.000000</td>\n",
       "      <td>Tax_inspection_28</td>\n",
       "    </tr>\n",
       "    <tr>\n",
       "      <th>100</th>\n",
       "      <td>0.000000</td>\n",
       "      <td>Tax_inspection_29</td>\n",
       "    </tr>\n",
       "    <tr>\n",
       "      <th>101</th>\n",
       "      <td>0.000000</td>\n",
       "      <td>Tax_inspection_30</td>\n",
       "    </tr>\n",
       "    <tr>\n",
       "      <th>102</th>\n",
       "      <td>0.000000</td>\n",
       "      <td>Tax_inspection_31</td>\n",
       "    </tr>\n",
       "  </tbody>\n",
       "</table>\n",
       "</div>"
      ],
      "text/plain": [
       "         coef               feat\n",
       "81   0.386800  Tax_inspection_09\n",
       "0    0.385867               1110\n",
       "92   0.092368  Tax_inspection_21\n",
       "22   0.074490               1300\n",
       "103  0.060474  Tax_inspection_32\n",
       "98   0.000000  Tax_inspection_27\n",
       "99   0.000000  Tax_inspection_28\n",
       "100  0.000000  Tax_inspection_29\n",
       "101  0.000000  Tax_inspection_30\n",
       "102  0.000000  Tax_inspection_31"
      ]
     },
     "execution_count": 228,
     "metadata": {},
     "output_type": "execute_result"
    }
   ],
   "source": [
    "# independent_columns_names = x_train.columns.values\n",
    "# pd.DataFrame({'feat': independent_columns_names,\n",
    "#               'coef': clf_tree.feature_importances_}).sort_values(by='coef', ascending=False).head(10)"
   ]
  },
  {
   "cell_type": "code",
   "execution_count": 232,
   "metadata": {},
   "outputs": [
    {
     "data": {
      "image/png": "[encoded data removed]",
      "text/plain": [
       "<matplotlib.figure.Figure at 0x179d2fb3358>"
      ]
     },
     "metadata": {},
     "output_type": "display_data"
    }
   ],
   "source": [
    "# import seaborn as sns \n",
    "# from sklearn.metrics import confusion_matrix\n",
    "# conf_mat = confusion_matrix(y_test, tree_forc)\n",
    "# fig, ax = plt.subplots(figsize=(5,3))\n",
    "# sns.heatmap(conf_mat, annot=True, fmt='d')\n",
    "# plt.ylabel('Actual')\n",
    "# plt.xlabel('Predicted')\n",
    "# plt.show()"
   ]
  },
  {
   "cell_type": "code",
   "execution_count": 236,
   "metadata": {},
   "outputs": [
    {
     "name": "stdout",
     "output_type": "stream",
     "text": [
      "             precision    recall  f1-score   support\n",
      "\n",
      "          0       0.99      1.00      1.00       206\n",
      "          1       0.00      0.00      0.00         2\n",
      "\n",
      "avg / total       0.98      0.99      0.99       208\n",
      "\n"
     ]
    }
   ],
   "source": [
    "# from sklearn import metrics \n",
    "# print(metrics.classification_report(y_test, tree_forc))"
   ]
  },
  {
   "cell_type": "markdown",
   "metadata": {},
   "source": [
    "### RF"
   ]
  },
  {
   "cell_type": "code",
   "execution_count": 195,
   "metadata": {},
   "outputs": [
    {
     "data": {
      "text/plain": [
       "RandomForestClassifier(bootstrap=True, class_weight=None, criterion='gini',\n",
       "            max_depth=4, max_features=0.7, max_leaf_nodes=None,\n",
       "            min_impurity_decrease=0.0, min_impurity_split=None,\n",
       "            min_samples_leaf=1, min_samples_split=2,\n",
       "            min_weight_fraction_leaf=0.0, n_estimators=40, n_jobs=1,\n",
       "            oob_score=False, random_state=0, verbose=0, warm_start=False)"
      ]
     },
     "execution_count": 195,
     "metadata": {},
     "output_type": "execute_result"
    }
   ],
   "source": [
    "# clf_rf = RandomForestClassifier(max_depth = 4, max_features = 0.7, min_samples_split = 2, n_estimators = 40, random_state =0)\n",
    "# clf_rf.fit(x_train, y_train)"
   ]
  },
  {
   "cell_type": "code",
   "execution_count": 196,
   "metadata": {},
   "outputs": [
    {
     "data": {
      "text/plain": [
       "0.9927623642943305"
      ]
     },
     "execution_count": 196,
     "metadata": {},
     "output_type": "execute_result"
    }
   ],
   "source": [
    "# clf_rf.score(x_train, y_train)"
   ]
  },
  {
   "cell_type": "code",
   "execution_count": 197,
   "metadata": {},
   "outputs": [],
   "source": [
    "# RF_forc = clf_rf.predict(x_test)"
   ]
  },
  {
   "cell_type": "code",
   "execution_count": 198,
   "metadata": {},
   "outputs": [
    {
     "data": {
      "text/plain": [
       "0.009615384615384616"
      ]
     },
     "execution_count": 198,
     "metadata": {},
     "output_type": "execute_result"
    }
   ],
   "source": [
    "# mae(y_test.values, RF_forc)"
   ]
  },
  {
   "cell_type": "code",
   "execution_count": 199,
   "metadata": {},
   "outputs": [
    {
     "data": {
      "image/png": "[encoded data removed]",
      "text/plain": [
       "<matplotlib.figure.Figure at 0x179d5d0e5f8>"
      ]
     },
     "metadata": {},
     "output_type": "display_data"
    }
   ],
   "source": [
    "# plt.figure(figsize=(20, 5))\n",
    "# plt.plot(RF_forc, \".r-\", label=\"forecast\")\n",
    "# plt.plot(y_test.values, label=\"fact\")\n",
    "# plt.legend(loc=\"best\")\n",
    "# plt.title(\"wape {} %\".format(round(wape(y_test, RF_forc))))\n",
    "# plt.legend(loc=\"best\")\n",
    "# plt.legend()\n",
    "# plt.grid(True)"
   ]
  },
  {
   "cell_type": "code",
   "execution_count": 200,
   "metadata": {},
   "outputs": [
    {
     "data": {
      "image/png": "[encoded data removed]",
      "text/plain": [
       "<matplotlib.figure.Figure at 0x179d674f470>"
      ]
     },
     "metadata": {},
     "output_type": "display_data"
    }
   ],
   "source": [
    "# plt.figure(figsize=(20, 5))\n",
    "# plt.plot(RF_forc[1:100], 'go', color = 'r', label=\"forecast\")\n",
    "# plt.plot(y_test.values[1:100], 'go', color = 'b',label=\"fact\")\n",
    "# plt.legend(loc=\"best\")\n",
    "# plt.title(\"wape {} %\".format(round(wape(y_test, RF_forc))))\n",
    "# plt.legend(loc=\"best\")\n",
    "# plt.legend()\n",
    "# plt.grid(True)"
   ]
  },
  {
   "cell_type": "code",
   "execution_count": 201,
   "metadata": {},
   "outputs": [
    {
     "data": {
      "text/plain": [
       "-0.009708737864077444"
      ]
     },
     "execution_count": 201,
     "metadata": {},
     "output_type": "execute_result"
    }
   ],
   "source": [
    "# coefficient_of_dermination = r2_score(y_test, RF_forc)\n",
    "# coefficient_of_dermination"
   ]
  },
  {
   "cell_type": "code",
   "execution_count": 229,
   "metadata": {},
   "outputs": [
    {
     "data": {
      "text/html": [
       "<div>\n",
       "<style scoped>\n",
       "    .dataframe tbody tr th:only-of-type {\n",
       "        vertical-align: middle;\n",
       "    }\n",
       "\n",
       "    .dataframe tbody tr th {\n",
       "        vertical-align: top;\n",
       "    }\n",
       "\n",
       "    .dataframe thead th {\n",
       "        text-align: right;\n",
       "    }\n",
       "</style>\n",
       "<table border=\"1\" class=\"dataframe\">\n",
       "  <thead>\n",
       "    <tr style=\"text-align: right;\">\n",
       "      <th></th>\n",
       "      <th>coef</th>\n",
       "      <th>feat</th>\n",
       "    </tr>\n",
       "  </thead>\n",
       "  <tbody>\n",
       "    <tr>\n",
       "      <th>81</th>\n",
       "      <td>0.138525</td>\n",
       "      <td>Tax_inspection_09</td>\n",
       "    </tr>\n",
       "    <tr>\n",
       "      <th>0</th>\n",
       "      <td>0.102151</td>\n",
       "      <td>1110</td>\n",
       "    </tr>\n",
       "    <tr>\n",
       "      <th>92</th>\n",
       "      <td>0.094149</td>\n",
       "      <td>Tax_inspection_21</td>\n",
       "    </tr>\n",
       "    <tr>\n",
       "      <th>22</th>\n",
       "      <td>0.084873</td>\n",
       "      <td>1300</td>\n",
       "    </tr>\n",
       "    <tr>\n",
       "      <th>103</th>\n",
       "      <td>0.047614</td>\n",
       "      <td>Tax_inspection_32</td>\n",
       "    </tr>\n",
       "    <tr>\n",
       "      <th>75</th>\n",
       "      <td>0.043770</td>\n",
       "      <td>Tax_inspection_02</td>\n",
       "    </tr>\n",
       "    <tr>\n",
       "      <th>33</th>\n",
       "      <td>0.043271</td>\n",
       "      <td>1700</td>\n",
       "    </tr>\n",
       "    <tr>\n",
       "      <th>34</th>\n",
       "      <td>0.043036</td>\n",
       "      <td>2110</td>\n",
       "    </tr>\n",
       "    <tr>\n",
       "      <th>35</th>\n",
       "      <td>0.035054</td>\n",
       "      <td>2120</td>\n",
       "    </tr>\n",
       "    <tr>\n",
       "      <th>12</th>\n",
       "      <td>0.031776</td>\n",
       "      <td>1250</td>\n",
       "    </tr>\n",
       "  </tbody>\n",
       "</table>\n",
       "</div>"
      ],
      "text/plain": [
       "         coef               feat\n",
       "81   0.138525  Tax_inspection_09\n",
       "0    0.102151               1110\n",
       "92   0.094149  Tax_inspection_21\n",
       "22   0.084873               1300\n",
       "103  0.047614  Tax_inspection_32\n",
       "75   0.043770  Tax_inspection_02\n",
       "33   0.043271               1700\n",
       "34   0.043036               2110\n",
       "35   0.035054               2120\n",
       "12   0.031776               1250"
      ]
     },
     "execution_count": 229,
     "metadata": {},
     "output_type": "execute_result"
    }
   ],
   "source": [
    "# independent_columns_names = x_train.columns.values\n",
    "# pd.DataFrame({'feat': independent_columns_names,\n",
    "#               'coef': clf_rf.feature_importances_}).sort_values(by='coef', ascending=False).head(10)"
   ]
  },
  {
   "cell_type": "code",
   "execution_count": 233,
   "metadata": {},
   "outputs": [
    {
     "data": {
      "image/png": "[encoded data removed]",
      "text/plain": [
       "<matplotlib.figure.Figure at 0x179d69aa240>"
      ]
     },
     "metadata": {},
     "output_type": "display_data"
    }
   ],
   "source": [
    "# import seaborn as sns \n",
    "# from sklearn.metrics import confusion_matrix\n",
    "# conf_mat = confusion_matrix(y_test, RF_forc)\n",
    "# fig, ax = plt.subplots(figsize=(5,3))\n",
    "# sns.heatmap(conf_mat, annot=True, fmt='d')\n",
    "# plt.ylabel('Actual')\n",
    "# plt.xlabel('Predicted')\n",
    "# plt.show()"
   ]
  },
  {
   "cell_type": "code",
   "execution_count": 237,
   "metadata": {},
   "outputs": [
    {
     "name": "stdout",
     "output_type": "stream",
     "text": [
      "             precision    recall  f1-score   support\n",
      "\n",
      "          0       0.99      1.00      1.00       206\n",
      "          1       0.00      0.00      0.00         2\n",
      "\n",
      "avg / total       0.98      0.99      0.99       208\n",
      "\n"
     ]
    }
   ],
   "source": [
    "# from sklearn import metrics \n",
    "# print(metrics.classification_report(y_test, RF_forc))"
   ]
  },
  {
   "cell_type": "markdown",
   "metadata": {},
   "source": [
    "### XGBoost"
   ]
  },
  {
   "cell_type": "code",
   "execution_count": 203,
   "metadata": {},
   "outputs": [
    {
     "data": {
      "text/plain": [
       "XGBClassifier(base_score=0.5, booster='gbtree', colsample_bylevel=1,\n",
       "       colsample_bytree=0.6, gamma=0.1, learning_rate=2, max_delta_step=0,\n",
       "       max_depth=3, min_child_weight=1, missing=None, n_estimators=20,\n",
       "       n_jobs=1, nthread=None, objective='binary:logistic', random_state=0,\n",
       "       reg_alpha=0, reg_lambda=1, scale_pos_weight=1, seed=None,\n",
       "       silent=True, subsample=0.4)"
      ]
     },
     "execution_count": 203,
     "metadata": {},
     "output_type": "execute_result"
    }
   ],
   "source": [
    "# clf_xgb = xgb.XGBClassifier(max_depth = 3, colsample_bytree = 0.6, gamma = 0.1, learning_rate = 2, n_estimators = 20, subsample = 0.4, random_state =0)\n",
    "# clf_xgb.fit(x_train, y_train)"
   ]
  },
  {
   "cell_type": "code",
   "execution_count": 204,
   "metadata": {},
   "outputs": [
    {
     "data": {
      "text/plain": [
       "0.991556091676719"
      ]
     },
     "execution_count": 204,
     "metadata": {},
     "output_type": "execute_result"
    }
   ],
   "source": [
    "# clf_xgb.score(x_train, y_train)"
   ]
  },
  {
   "cell_type": "code",
   "execution_count": 205,
   "metadata": {},
   "outputs": [],
   "source": [
    "# xgb_forc = clf_xgb.predict(x_test)"
   ]
  },
  {
   "cell_type": "code",
   "execution_count": 206,
   "metadata": {},
   "outputs": [
    {
     "data": {
      "text/plain": [
       "0.009615384615384616"
      ]
     },
     "execution_count": 206,
     "metadata": {},
     "output_type": "execute_result"
    }
   ],
   "source": [
    "# mae(y_test.values, xgb_forc)"
   ]
  },
  {
   "cell_type": "code",
   "execution_count": 207,
   "metadata": {},
   "outputs": [
    {
     "data": {
      "image/png": "[encoded data removed]",
      "text/plain": [
       "<matplotlib.figure.Figure at 0x179d5d24d68>"
      ]
     },
     "metadata": {},
     "output_type": "display_data"
    }
   ],
   "source": [
    "# plt.figure(figsize=(20, 5))\n",
    "# plt.plot(xgb_forc, \".r-\", label=\"forecast\")\n",
    "# plt.plot(y_test.values, label=\"fact\")\n",
    "# plt.legend(loc=\"best\")\n",
    "# plt.title(\"wape {} %\".format(round(wape(y_test, xgb_forc))))\n",
    "# plt.legend(loc=\"best\")\n",
    "# plt.legend()\n",
    "# plt.grid(True)"
   ]
  },
  {
   "cell_type": "code",
   "execution_count": 210,
   "metadata": {},
   "outputs": [
    {
     "data": {
      "image/png": "[encoded data removed]",
      "text/plain": [
       "<matplotlib.figure.Figure at 0x179d4ad7630>"
      ]
     },
     "metadata": {},
     "output_type": "display_data"
    }
   ],
   "source": [
    "# plt.figure(figsize=(20, 5))\n",
    "# plt.plot(xgb_forc[1:200], 'go', color = 'r', label=\"forecast\")\n",
    "# plt.plot(y_test.values[1:200], 'go', color = 'b',label=\"fact\")\n",
    "# plt.legend(loc=\"best\")\n",
    "# plt.title(\"wape {} %\".format(round(wape(y_test, xgb_forc))))\n",
    "# plt.legend(loc=\"best\")\n",
    "# plt.legend()\n",
    "# plt.grid(True)"
   ]
  },
  {
   "cell_type": "code",
   "execution_count": 211,
   "metadata": {},
   "outputs": [
    {
     "data": {
      "text/plain": [
       "-0.009708737864077444"
      ]
     },
     "execution_count": 211,
     "metadata": {},
     "output_type": "execute_result"
    }
   ],
   "source": [
    "# coefficient_of_dermination = r2_score(y_test, xgb_forc)\n",
    "# coefficient_of_dermination"
   ]
  },
  {
   "cell_type": "code",
   "execution_count": 230,
   "metadata": {},
   "outputs": [
    {
     "data": {
      "text/html": [
       "<div>\n",
       "<style scoped>\n",
       "    .dataframe tbody tr th:only-of-type {\n",
       "        vertical-align: middle;\n",
       "    }\n",
       "\n",
       "    .dataframe tbody tr th {\n",
       "        vertical-align: top;\n",
       "    }\n",
       "\n",
       "    .dataframe thead th {\n",
       "        text-align: right;\n",
       "    }\n",
       "</style>\n",
       "<table border=\"1\" class=\"dataframe\">\n",
       "  <thead>\n",
       "    <tr style=\"text-align: right;\">\n",
       "      <th></th>\n",
       "      <th>coef</th>\n",
       "      <th>feat</th>\n",
       "    </tr>\n",
       "  </thead>\n",
       "  <tbody>\n",
       "    <tr>\n",
       "      <th>15</th>\n",
       "      <td>0.260870</td>\n",
       "      <td>1600</td>\n",
       "    </tr>\n",
       "    <tr>\n",
       "      <th>2</th>\n",
       "      <td>0.130435</td>\n",
       "      <td>1150</td>\n",
       "    </tr>\n",
       "    <tr>\n",
       "      <th>8</th>\n",
       "      <td>0.086957</td>\n",
       "      <td>1210</td>\n",
       "    </tr>\n",
       "    <tr>\n",
       "      <th>33</th>\n",
       "      <td>0.086957</td>\n",
       "      <td>1700</td>\n",
       "    </tr>\n",
       "    <tr>\n",
       "      <th>22</th>\n",
       "      <td>0.086957</td>\n",
       "      <td>1300</td>\n",
       "    </tr>\n",
       "    <tr>\n",
       "      <th>14</th>\n",
       "      <td>0.043478</td>\n",
       "      <td>1200</td>\n",
       "    </tr>\n",
       "    <tr>\n",
       "      <th>27</th>\n",
       "      <td>0.043478</td>\n",
       "      <td>1510</td>\n",
       "    </tr>\n",
       "    <tr>\n",
       "      <th>12</th>\n",
       "      <td>0.043478</td>\n",
       "      <td>1250</td>\n",
       "    </tr>\n",
       "    <tr>\n",
       "      <th>34</th>\n",
       "      <td>0.043478</td>\n",
       "      <td>2110</td>\n",
       "    </tr>\n",
       "    <tr>\n",
       "      <th>28</th>\n",
       "      <td>0.043478</td>\n",
       "      <td>1520</td>\n",
       "    </tr>\n",
       "  </tbody>\n",
       "</table>\n",
       "</div>"
      ],
      "text/plain": [
       "        coef  feat\n",
       "15  0.260870  1600\n",
       "2   0.130435  1150\n",
       "8   0.086957  1210\n",
       "33  0.086957  1700\n",
       "22  0.086957  1300\n",
       "14  0.043478  1200\n",
       "27  0.043478  1510\n",
       "12  0.043478  1250\n",
       "34  0.043478  2110\n",
       "28  0.043478  1520"
      ]
     },
     "execution_count": 230,
     "metadata": {},
     "output_type": "execute_result"
    }
   ],
   "source": [
    "# independent_columns_names = x_train.columns.values\n",
    "# pd.DataFrame({'feat': independent_columns_names,\n",
    "#               'coef': clf_xgb.feature_importances_}).sort_values(by='coef', ascending=False).head(10)"
   ]
  },
  {
   "cell_type": "code",
   "execution_count": 234,
   "metadata": {},
   "outputs": [
    {
     "data": {
      "image/png": "[encoded data removed]",
      "text/plain": [
       "<matplotlib.figure.Figure at 0x179d55a79b0>"
      ]
     },
     "metadata": {},
     "output_type": "display_data"
    }
   ],
   "source": [
    "# import seaborn as sns \n",
    "# from sklearn.metrics import confusion_matrix\n",
    "# conf_mat = confusion_matrix(y_test, xgb_forc)\n",
    "# fig, ax = plt.subplots(figsize=(5,3))\n",
    "# sns.heatmap(conf_mat, annot=True, fmt='d')\n",
    "# plt.ylabel('Actual')\n",
    "# plt.xlabel('Predicted')\n",
    "# plt.show()"
   ]
  },
  {
   "cell_type": "code",
   "execution_count": 238,
   "metadata": {},
   "outputs": [
    {
     "name": "stdout",
     "output_type": "stream",
     "text": [
      "             precision    recall  f1-score   support\n",
      "\n",
      "          0       0.99      1.00      1.00       206\n",
      "          1       0.00      0.00      0.00         2\n",
      "\n",
      "avg / total       0.98      0.99      0.99       208\n",
      "\n"
     ]
    }
   ],
   "source": [
    "# from sklearn import metrics \n",
    "# print(metrics.classification_report(y_test, xgb_forc))"
   ]
  },
  {
   "cell_type": "markdown",
   "metadata": {},
   "source": [
    "### LinearSVC"
   ]
  },
  {
   "cell_type": "code",
   "execution_count": 212,
   "metadata": {},
   "outputs": [
    {
     "data": {
      "text/plain": [
       "LinearSVC(C=1, class_weight='balanced', dual=True, fit_intercept=True,\n",
       "     intercept_scaling=1, loss='squared_hinge', max_iter=50,\n",
       "     multi_class='ovr', penalty='l2', random_state=0, tol=1e-05, verbose=0)"
      ]
     },
     "execution_count": 212,
     "metadata": {},
     "output_type": "execute_result"
    }
   ],
   "source": [
    "# clf_lsvc = LinearSVC(C= 1, class_weight= 'balanced', loss= 'squared_hinge', max_iter= 50, penalty= 'l2', tol= 1e-05, random_state =0)\n",
    "# clf_lsvc.fit(x_train, y_train)"
   ]
  },
  {
   "cell_type": "code",
   "execution_count": 213,
   "metadata": {},
   "outputs": [
    {
     "data": {
      "text/plain": [
       "0.971049457177322"
      ]
     },
     "execution_count": 213,
     "metadata": {},
     "output_type": "execute_result"
    }
   ],
   "source": [
    "# clf_lsvc.score(x_train, y_train)"
   ]
  },
  {
   "cell_type": "code",
   "execution_count": 214,
   "metadata": {},
   "outputs": [],
   "source": [
    "# lsvc_forc = clf_lsvc.predict(x_test)"
   ]
  },
  {
   "cell_type": "code",
   "execution_count": 215,
   "metadata": {},
   "outputs": [
    {
     "data": {
      "text/plain": [
       "0.057692307692307696"
      ]
     },
     "execution_count": 215,
     "metadata": {},
     "output_type": "execute_result"
    }
   ],
   "source": [
    "# mae(y_test.values, lsvc_forc)"
   ]
  },
  {
   "cell_type": "code",
   "execution_count": 216,
   "metadata": {},
   "outputs": [
    {
     "data": {
      "image/png": "[encoded data removed]",
      "text/plain": [
       "<matplotlib.figure.Figure at 0x179d58e0cf8>"
      ]
     },
     "metadata": {},
     "output_type": "display_data"
    }
   ],
   "source": [
    "# plt.figure(figsize=(20, 5))\n",
    "# plt.plot(lsvc_forc, \".r-\", label=\"forecast\")\n",
    "# plt.plot(y_test.values, label=\"fact\")\n",
    "# plt.legend(loc=\"best\")\n",
    "# plt.title(\"wape {} %\".format(round(wape(y_test, lsvc_forc))))\n",
    "# plt.legend(loc=\"best\")\n",
    "# plt.legend()\n",
    "# plt.grid(True)"
   ]
  },
  {
   "cell_type": "code",
   "execution_count": 217,
   "metadata": {},
   "outputs": [
    {
     "data": {
      "image/png": "[encoded data removed]",
      "text/plain": [
       "<matplotlib.figure.Figure at 0x179d24934e0>"
      ]
     },
     "metadata": {},
     "output_type": "display_data"
    }
   ],
   "source": [
    "# plt.figure(figsize=(20, 5))\n",
    "# plt.plot(lsvc_forc, 'go', color = 'r', label=\"forecast\")\n",
    "# plt.plot(y_test.values, 'go', color = 'b',label=\"fact\")\n",
    "# plt.legend(loc=\"best\")\n",
    "# plt.title(\"wape {} %\".format(round(wape(y_test, lsvc_forc))))\n",
    "# plt.legend(loc=\"best\")\n",
    "# plt.legend()\n",
    "# plt.grid(True)"
   ]
  },
  {
   "cell_type": "code",
   "execution_count": 218,
   "metadata": {},
   "outputs": [
    {
     "data": {
      "text/plain": [
       "-5.058252427184465"
      ]
     },
     "execution_count": 218,
     "metadata": {},
     "output_type": "execute_result"
    }
   ],
   "source": [
    "# coefficient_of_dermination = r2_score(y_test, lsvc_forc)\n",
    "# coefficient_of_dermination"
   ]
  },
  {
   "cell_type": "code",
   "execution_count": 235,
   "metadata": {},
   "outputs": [
    {
     "data": {
      "image/png": "[encoded data removed]",
      "text/plain": [
       "<matplotlib.figure.Figure at 0x179d54cd550>"
      ]
     },
     "metadata": {},
     "output_type": "display_data"
    }
   ],
   "source": [
    "# import seaborn as sns \n",
    "# from sklearn.metrics import confusion_matrix\n",
    "# conf_mat = confusion_matrix(y_test, lsvc_forc)\n",
    "# fig, ax = plt.subplots(figsize=(5,3))\n",
    "# sns.heatmap(conf_mat, annot=True, fmt='d')\n",
    "# plt.ylabel('Actual')\n",
    "# plt.xlabel('Predicted')\n",
    "# plt.show()"
   ]
  },
  {
   "cell_type": "code",
   "execution_count": 239,
   "metadata": {},
   "outputs": [
    {
     "name": "stdout",
     "output_type": "stream",
     "text": [
      "             precision    recall  f1-score   support\n",
      "\n",
      "          0       0.99      0.95      0.97       206\n",
      "          1       0.00      0.00      0.00         2\n",
      "\n",
      "avg / total       0.98      0.94      0.96       208\n",
      "\n"
     ]
    }
   ],
   "source": [
    "# from sklearn import metrics \n",
    "# print(metrics.classification_report(y_test, lsvc_forc))"
   ]
  },
  {
   "cell_type": "markdown",
   "metadata": {},
   "source": [
    "### SVC"
   ]
  },
  {
   "cell_type": "code",
   "execution_count": 219,
   "metadata": {},
   "outputs": [
    {
     "data": {
      "text/plain": [
       "SVC(C=10, cache_size=200, class_weight='balanced', coef0=0.0,\n",
       "  decision_function_shape='ovr', degree=3, gamma='auto', kernel='rbf',\n",
       "  max_iter=100, probability=False, random_state=0, shrinking=True,\n",
       "  tol=1e-05, verbose=False)"
      ]
     },
     "execution_count": 219,
     "metadata": {},
     "output_type": "execute_result"
    }
   ],
   "source": [
    "# clf_svc = SVC(C= 10, class_weight= 'balanced', max_iter= 100, tol= 1e-05, random_state =0)\n",
    "# clf_svc.fit(x_train, y_train)"
   ]
  },
  {
   "cell_type": "code",
   "execution_count": 220,
   "metadata": {},
   "outputs": [
    {
     "data": {
      "text/plain": [
       "0.9951749095295537"
      ]
     },
     "execution_count": 220,
     "metadata": {},
     "output_type": "execute_result"
    }
   ],
   "source": [
    "# clf_svc.score(x_train, y_train)"
   ]
  },
  {
   "cell_type": "code",
   "execution_count": 221,
   "metadata": {},
   "outputs": [],
   "source": [
    "# svc_forc = clf_svc.predict(x_test)"
   ]
  },
  {
   "cell_type": "code",
   "execution_count": 222,
   "metadata": {},
   "outputs": [
    {
     "data": {
      "text/plain": [
       "0.028846153846153848"
      ]
     },
     "execution_count": 222,
     "metadata": {},
     "output_type": "execute_result"
    }
   ],
   "source": [
    "# mae(y_test.values, svc_forc)"
   ]
  },
  {
   "cell_type": "code",
   "execution_count": 223,
   "metadata": {},
   "outputs": [
    {
     "data": {
      "image/png": "[encoded data removed]",
      "text/plain": [
       "<matplotlib.figure.Figure at 0x179d1b674a8>"
      ]
     },
     "metadata": {},
     "output_type": "display_data"
    }
   ],
   "source": [
    "# plt.figure(figsize=(20, 5))\n",
    "# plt.plot(svc_forc, \".r-\", label=\"forecast\")\n",
    "# plt.plot(y_test.values, label=\"fact\")\n",
    "# plt.legend(loc=\"best\")\n",
    "# plt.title(\"wape {} %\".format(round(wape(y_test, svc_forc))))\n",
    "# plt.legend(loc=\"best\")\n",
    "# plt.legend()\n",
    "# plt.grid(True)"
   ]
  },
  {
   "cell_type": "code",
   "execution_count": 224,
   "metadata": {},
   "outputs": [
    {
     "data": {
      "image/png": "[encoded data removed]",
      "text/plain": [
       "<matplotlib.figure.Figure at 0x179d226d438>"
      ]
     },
     "metadata": {},
     "output_type": "display_data"
    }
   ],
   "source": [
    "# plt.figure(figsize=(20, 5))\n",
    "# plt.plot(svc_forc, 'go', color = 'r', label=\"forecast\")\n",
    "# plt.plot(y_test.values, 'go', color = 'b',label=\"fact\")\n",
    "# plt.legend(loc=\"best\")\n",
    "# plt.title(\"wape {} %\".format(round(wape(y_test, svc_forc))))\n",
    "# plt.legend(loc=\"best\")\n",
    "# plt.legend()\n",
    "# plt.grid(True)"
   ]
  },
  {
   "cell_type": "code",
   "execution_count": 225,
   "metadata": {},
   "outputs": [
    {
     "data": {
      "text/plain": [
       "-2.0291262135922326"
      ]
     },
     "execution_count": 225,
     "metadata": {},
     "output_type": "execute_result"
    }
   ],
   "source": [
    "# coefficient_of_dermination = r2_score(y_test, svc_forc)\n",
    "# coefficient_of_dermination"
   ]
  },
  {
   "cell_type": "code",
   "execution_count": null,
   "metadata": {},
   "outputs": [],
   "source": []
  },
  {
   "cell_type": "code",
   "execution_count": null,
   "metadata": {},
   "outputs": [],
   "source": []
  },
  {
   "cell_type": "code",
   "execution_count": null,
   "metadata": {},
   "outputs": [],
   "source": []
  },
  {
   "cell_type": "code",
   "execution_count": 231,
   "metadata": {},
   "outputs": [],
   "source": [
    "# ROC AUC code\n",
    "\n",
    "# fpr1, tpr1, thresholds = roc_curve(y_test, y_pred)\n",
    "# auc1=auc(fpr1, tpr1)\n",
    "# print (\"auc for the first class\",auc1)\n",
    "\n",
    "# # ploting the roc curve\n",
    "# plt.plot(fpr1,tpr1)\n",
    "# plt.plot([0, 1], [0, 1], color='navy', lw=2, linestyle='--')\n",
    "\n",
    "# plt.xlim([0.0,1.0])\n",
    "# plt.ylim([0.0,1.0])\n",
    "# plt.title('Roc curve')\n",
    "# plt.xlabel('False positive rate')\n",
    "# plt.ylabel('True positive rate')\n",
    "# plt.legend(loc=\"lower right\")\n",
    "# plt.show()"
   ]
  },
  {
   "cell_type": "code",
   "execution_count": null,
   "metadata": {},
   "outputs": [],
   "source": []
  },
  {
   "cell_type": "code",
   "execution_count": null,
   "metadata": {},
   "outputs": [],
   "source": []
  }
 ],
 "metadata": {
  "kernelspec": {
   "display_name": "Python 3",
   "language": "python",
   "name": "python3"
  },
  "language_info": {
   "codemirror_mode": {
    "name": "ipython",
    "version": 3
   },
   "file_extension": ".py",
   "mimetype": "text/x-python",
   "name": "python",
   "nbconvert_exporter": "python",
   "pygments_lexer": "ipython3",
   "version": "3.6.4"
  }
 },
 "nbformat": 4,
 "nbformat_minor": 2
}
